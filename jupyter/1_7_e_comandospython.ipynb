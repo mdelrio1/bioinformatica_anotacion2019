{
 "cells": [
  {
   "cell_type": "markdown",
   "metadata": {},
   "source": [
    "# Bitácora para manejo de archivos y sistema operativo\n",
    "\n",
    "# <center> Comandos de *Python* en Jupyter</center>\n",
    "1. Variables\n",
    "2. Ciclos\n",
    "3. Manejo de imágenes\n",
    "4. Series y variables\n",
    "5. Pandas (manejo de datos tabulares)\n",
    "6. Graficado de datos tabulares\n",
    "7. Descarga de archivos de la red"
   ]
  },
  {
   "cell_type": "markdown",
   "metadata": {},
   "source": [
    "# Comandos básicos del sistema operativo con python"
   ]
  },
  {
   "cell_type": "markdown",
   "metadata": {},
   "source": [
    "## Directorio de trabajo"
   ]
  },
  {
   "cell_type": "code",
   "execution_count": null,
   "metadata": {},
   "outputs": [],
   "source": [
    "pwd"
   ]
  },
  {
   "cell_type": "markdown",
   "metadata": {},
   "source": [
    "## Cambio de directorio"
   ]
  },
  {
   "cell_type": "code",
   "execution_count": 3,
   "metadata": {},
   "outputs": [
    {
     "name": "stdout",
     "output_type": "stream",
     "text": [
      "/Users/migueldelrio/Desktop/data\n"
     ]
    }
   ],
   "source": [
    "cd ~/Desktop/data"
   ]
  },
  {
   "cell_type": "markdown",
   "metadata": {},
   "source": [
    "## Listado de archivos del directorio"
   ]
  },
  {
   "cell_type": "code",
   "execution_count": 4,
   "metadata": {},
   "outputs": [
    {
     "name": "stdout",
     "output_type": "stream",
     "text": [
      "\u001b[31m1Hcorrugataassembly-blastx-coma.csv\u001b[m\u001b[m*\r\n",
      "\u001b[31m1Hcorrugataassembly-blastx-coma2.csv\u001b[m\u001b[m*\r\n",
      "\u001b[31m1Hcorrugataassembly-blastx.tab\u001b[m\u001b[m*\r\n",
      "\u001b[31m1Hcorrugataassembly-blastx2.csv\u001b[m\u001b[m*\r\n",
      "1Hcorrugataassembly.fas\r\n",
      "\u001b[31m2Hcracherodii_blast_go.csv\u001b[m\u001b[m*\r\n",
      "\u001b[31m8SnuttalliTblastx.csv\u001b[m\u001b[m*\r\n",
      "\u001b[31m8SnuttalliTblastx.txt\u001b[m\u001b[m*\r\n",
      "\u001b[31m8SnuttalliTblastx.xlsx\u001b[m\u001b[m*\r\n",
      "\u001b[31m8SnuttalliTblastxespecies.xlsx\u001b[m\u001b[m*\r\n",
      "\u001b[31m8Snuttalliblastn.tab\u001b[m\u001b[m*\r\n",
      "\u001b[31m8Snuttalliblastn.tab 2\u001b[m\u001b[m*\r\n",
      "\u001b[31m8Snuttalliblastn_tab.xlsx\u001b[m\u001b[m*\r\n",
      "\u001b[31mBlastColumnsNames.xlsx\u001b[m\u001b[m*\r\n",
      "\u001b[31mBlastX_progreso.xlsx\u001b[m\u001b[m*\r\n",
      "\u001b[31mBlastX_progresoMsqualida.xlsx\u001b[m\u001b[m*\r\n",
      "\u001b[31mBlastn_progreso.xlsx\u001b[m\u001b[m*\r\n",
      "\u001b[31mContigNmexicanusmapping_n.csv\u001b[m\u001b[m*\r\n",
      "\u001b[31mContigNmexicanusmapping_n.tab\u001b[m\u001b[m*\r\n",
      "\u001b[31mContigNmexicanusmapping_n.xlsx\u001b[m\u001b[m*\r\n",
      "\u001b[31mContigNmexicanusmapping_x.csv\u001b[m\u001b[m*\r\n",
      "\u001b[31mContigNmexicanusmapping_x.tab\u001b[m\u001b[m*\r\n",
      "ContigNmexicanusmappingx_parasql.csv\r\n",
      "\u001b[31mContigPpersonatusmapping_n.tab\u001b[m\u001b[m*\r\n",
      "\u001b[31mContigPpersonatusmapping_x.csv\u001b[m\u001b[m*\r\n",
      "\u001b[31mContigPpersonatusmapping_x.tab\u001b[m\u001b[m*\r\n",
      "\u001b[31mContigPpersonatusmapping_x.xlsx\u001b[m\u001b[m*\r\n",
      "\u001b[31mFissurellidae.gb\u001b[m\u001b[m*\r\n",
      "\u001b[31mGeoduck-transcriptome-v2-1.csv\u001b[m\u001b[m*\r\n",
      "\u001b[31mGeoduck-transcriptome-v2-1.xlsx\u001b[m\u001b[m*\r\n",
      "\u001b[31mGeoduck-transcriptome-v2-11.csv\u001b[m\u001b[m*\r\n",
      "\u001b[31mGeoduck-transcriptome-v2-len.tab.txt\u001b[m\u001b[m*\r\n",
      "\u001b[31mGeoduck-transcriptome-v2-r-1.csv\u001b[m\u001b[m*\r\n",
      "\u001b[31mGeoduck-transcriptome-v2-r.csv\u001b[m\u001b[m*\r\n",
      "\u001b[31mGeoduck-transcriptome-v2.csv\u001b[m\u001b[m*\r\n",
      "\u001b[31mGeoduck-transcriptome-v2.fasta\u001b[m\u001b[m*\r\n",
      "\u001b[31mGeoduck-transcriptome-v2.xlsx\u001b[m\u001b[m*\r\n",
      "\u001b[31mGeoduck-transcriptome-v3.fa\u001b[m\u001b[m*\r\n",
      "\u001b[31mGeoduck-transcriptome-v3.tab 5\u001b[m\u001b[m*\r\n",
      "\u001b[31mGeoduck-transcriptome-v3a-f.csv\u001b[m\u001b[m*\r\n",
      "\u001b[31mGeoduck-transcriptome-v3a-r.csv\u001b[m\u001b[m*\r\n",
      "\u001b[31mGeoduck-transcriptome-v3a.fa\u001b[m\u001b[m*\r\n",
      "\u001b[31mHaliotidae_mtDNA20160115.fasta\u001b[m\u001b[m*\r\n",
      "\u001b[31mHaliotidae_mtDNA20160115.gb\u001b[m\u001b[m*\r\n",
      "\u001b[31mHaliotis16s.fas\u001b[m\u001b[m*\r\n",
      "\u001b[31mHfulgensmicros_NCBI.gb\u001b[m\u001b[m*\r\n",
      "\u001b[31mHfulgensmicros_NCBI20160507.gb\u001b[m\u001b[m*\r\n",
      "\u001b[31mHrufescens_mtDNASequence.csv\u001b[m\u001b[m*\r\n",
      "\u001b[31mHrufescens_mtDNASequence.xlsx\u001b[m\u001b[m*\r\n",
      "\u001b[31mHrufescens_mtDNASequences from NCBI.fasta\u001b[m\u001b[m*\r\n",
      "\u001b[31mNcbi-colNames.xlsx\u001b[m\u001b[m*\r\n",
      "\u001b[31mStichopodidaemtDNA.mas\u001b[m\u001b[m*\r\n",
      "\u001b[31mStichopodidaemtDNA20160510.fasta\u001b[m\u001b[m*\r\n",
      "\u001b[31mStichopodidaemtDNA20160510.gb\u001b[m\u001b[m*\r\n",
      "\u001b[34mab1\u001b[m\u001b[m/\r\n",
      "\u001b[34mbioinformatica_aplicada\u001b[m\u001b[m/\r\n",
      "\u001b[34mblast\u001b[m\u001b[m/\r\n",
      "\u001b[31mbrain_size.csv\u001b[m\u001b[m*\r\n",
      "\u001b[31mbrain_size.xlsx\u001b[m\u001b[m*\r\n",
      "\u001b[31mbrainsize.csv\u001b[m\u001b[m*\r\n",
      "\u001b[34mconchos\u001b[m\u001b[m/\r\n",
      "\u001b[31mdatosborrador.csv\u001b[m\u001b[m*\r\n",
      "\u001b[34mdorada\u001b[m\u001b[m/\r\n",
      "\u001b[34mejercicio_fastaq\u001b[m\u001b[m/\r\n",
      "\u001b[34mfasta\u001b[m\u001b[m/\r\n",
      "\u001b[31mgastropoda_mtDNA20170714.gb\u001b[m\u001b[m*\r\n",
      "\u001b[31mgastropoda_mtDNA_ref_20170714.gb\u001b[m\u001b[m*\r\n",
      "gastropoda_mtdna20170714.csv\r\n",
      "\u001b[34mgenbank\u001b[m\u001b[m/\r\n",
      "\u001b[34mgenepop\u001b[m\u001b[m/\r\n",
      "\u001b[31mhaliotidemtdna.gb\u001b[m\u001b[m*\r\n",
      "\u001b[31mhaliotidemtdnaproteins.fasta\u001b[m\u001b[m*\r\n",
      "\u001b[34mimg\u001b[m\u001b[m/\r\n",
      "\u001b[31misostichopusfuscus.gb\u001b[m\u001b[m*\r\n",
      "\u001b[34mmicroalgas\u001b[m\u001b[m/\r\n",
      "murcielagos.fasta\r\n",
      "murcielagos.gb\r\n",
      "\u001b[34mpca_scikitlearn\u001b[m\u001b[m/\r\n",
      "\u001b[34mpdi_molecular\u001b[m\u001b[m/\r\n",
      "\u001b[34mpepinodemar\u001b[m\u001b[m/\r\n",
      "\u001b[34mpezblanco\u001b[m\u001b[m/\r\n",
      "\u001b[34mpulposirene\u001b[m\u001b[m/\r\n",
      "\u001b[34msec_masiva\u001b[m\u001b[m/\r\n",
      "\u001b[34mseguimiento\u001b[m\u001b[m/\r\n",
      "\u001b[34mtotoaba\u001b[m\u001b[m/\r\n",
      "totoaba2CFP.csv\r\n",
      "totoaba2CFP.xlsx\r\n",
      "\u001b[31mtotoabacontiglist.fa\u001b[m\u001b[m*\r\n",
      "totoabacontiglist2.fa\r\n",
      "totoabacontiglist2_blastx.csv\r\n",
      "totoabacontiglist2_blastx.tab\r\n",
      "totoabacontiglist2_blastx.xlsx\r\n",
      "\u001b[31mtotoabacontiglist2_blastx_query_results.csv\u001b[m\u001b[m*\r\n",
      "totoabacontiglist2_blastxespecie.csv\r\n",
      "totoabacontiglist2_blastxespecie_ref.csv\r\n",
      "totoabacontiglist2_opr.faa\r\n",
      "totoabacontiglist_blastn.csv\r\n",
      "totoabacontiglist_blastn.tab\r\n",
      "\u001b[31mtotoabacontiglist_blastn.xlsx\u001b[m\u001b[m*\r\n",
      "totoabacontiglist_blastnsigno.csv\r\n",
      "\u001b[31mtotoabacontiglist_blastnsigno.xlsx\u001b[m\u001b[m*\r\n",
      "\u001b[31mtotoabacontiglist_blastx.csv\u001b[m\u001b[m*\r\n",
      "\u001b[31mtotoabacontiglist_blastx.tab\u001b[m\u001b[m*\r\n",
      "\u001b[31mtotoabacontiglist_blastxespecie.csv\u001b[m\u001b[m*\r\n",
      "\u001b[31mvetigastropoda_mtDNA20160505.fasta\u001b[m\u001b[m*\r\n",
      "\u001b[31mvetigastropoda_mtDNA20170714.gb\u001b[m\u001b[m*\r\n",
      "\u001b[31mvetigastropoda_rrna.fasta\u001b[m\u001b[m*\r\n",
      "\u001b[31mvetigastropodamtdna20160505.gb\u001b[m\u001b[m*\r\n"
     ]
    }
   ],
   "source": [
    "ls"
   ]
  },
  {
   "cell_type": "markdown",
   "metadata": {},
   "source": [
    "## Listado de archivos de un directorio específico"
   ]
  },
  {
   "cell_type": "code",
   "execution_count": 5,
   "metadata": {},
   "outputs": [
    {
     "name": "stdout",
     "output_type": "stream",
     "text": [
      "\u001b[31m04_0_markdown.ipynb\u001b[m\u001b[m*               apache-tomcat-8.5.9.tar.gz\r\n",
      "\u001b[31m04_b_comandospython.ipynb\u001b[m\u001b[m*         curso_bioinformatica_erika.ipynb\r\n",
      "\u001b[31m04_c_comandosR.ipynb\u001b[m\u001b[m*              \u001b[31mfisiologia_amarillo.ipynb\u001b[m\u001b[m*\r\n",
      "04_d_especies_longitudtotal.ipynb  \u001b[31mid009.ipynb\u001b[m\u001b[m*\r\n",
      "04_e_especies_morfo.ipynb          jupyter.ipynb\r\n",
      "\u001b[31mFotos_truchas.ipynb\u001b[m\u001b[m*               \u001b[30m\u001b[43mmicroalgas\u001b[m\u001b[m/\r\n",
      "\u001b[31mRvenndiagram.ipynb\u001b[m\u001b[m*\r\n"
     ]
    }
   ],
   "source": [
    "ls ~/Desktop/jupyter/"
   ]
  },
  {
   "cell_type": "code",
   "execution_count": 6,
   "metadata": {},
   "outputs": [
    {
     "name": "stdout",
     "output_type": "stream",
     "text": [
      "\u001b[31m04_0_markdown.ipynb\u001b[m\u001b[m               apache-tomcat-8.5.9.tar.gz\r\n",
      "\u001b[31m04_b_comandospython.ipynb\u001b[m\u001b[m         curso_bioinformatica_erika.ipynb\r\n",
      "\u001b[31m04_c_comandosR.ipynb\u001b[m\u001b[m              \u001b[31mfisiologia_amarillo.ipynb\u001b[m\u001b[m\r\n",
      "04_d_especies_longitudtotal.ipynb \u001b[31mid009.ipynb\u001b[m\u001b[m\r\n",
      "04_e_especies_morfo.ipynb         jupyter.ipynb\r\n",
      "\u001b[31mFotos_truchas.ipynb\u001b[m\u001b[m               \u001b[30m\u001b[43mmicroalgas\u001b[m\u001b[m\r\n",
      "\u001b[31mRvenndiagram.ipynb\u001b[m\u001b[m\r\n"
     ]
    }
   ],
   "source": [
    "!ls ~/Desktop/jupyter/"
   ]
  },
  {
   "cell_type": "markdown",
   "metadata": {},
   "source": [
    "### hay alguna diferencia entre los dos comandos anteriores? Explique"
   ]
  },
  {
   "cell_type": "code",
   "execution_count": null,
   "metadata": {},
   "outputs": [],
   "source": []
  },
  {
   "cell_type": "code",
   "execution_count": 9,
   "metadata": {
    "scrolled": true
   },
   "outputs": [
    {
     "name": "stdout",
     "output_type": "stream",
     "text": [
      "Pierce287.3.14L13.S.S43046070.fasta  contigs.fa\r\n",
      "bacteria_NR_043902.fa                \u001b[34mimg\u001b[m\u001b[m/\r\n",
      "bacteria_NR_043902.gb                pierce16s.tsv\r\n",
      "\u001b[31mc_h_dloop.fasta\u001b[m\u001b[m*                     pierce_blastn16s.csv\r\n",
      "c_h_dloop_mega.fasta                 \u001b[31msecuencias_anotadas.fasta\u001b[m\u001b[m*\r\n",
      "c_h_dloop_mega.meg\r\n"
     ]
    }
   ],
   "source": [
    "ls fasta/"
   ]
  },
  {
   "cell_type": "code",
   "execution_count": 10,
   "metadata": {
    "scrolled": true
   },
   "outputs": [
    {
     "name": "stdout",
     "output_type": "stream",
     "text": [
      "Pierce287.3.14L13.S.S43046070.fasta contigs.fa\r\n",
      "bacteria_NR_043902.fa               \u001b[34mimg\u001b[m\u001b[m\r\n",
      "bacteria_NR_043902.gb               pierce16s.tsv\r\n",
      "\u001b[31mc_h_dloop.fasta\u001b[m\u001b[m                     pierce_blastn16s.csv\r\n",
      "c_h_dloop_mega.fasta                \u001b[31msecuencias_anotadas.fasta\u001b[m\u001b[m\r\n",
      "c_h_dloop_mega.meg\r\n"
     ]
    }
   ],
   "source": [
    "!ls fasta/"
   ]
  },
  {
   "cell_type": "markdown",
   "metadata": {},
   "source": [
    "### explique qué hace el comando de la celda anterior"
   ]
  },
  {
   "cell_type": "markdown",
   "metadata": {},
   "source": [
    "ls = utiliza el comando dir en windows"
   ]
  },
  {
   "cell_type": "markdown",
   "metadata": {},
   "source": [
    "!ls = utiliza el emulador de linux"
   ]
  },
  {
   "cell_type": "markdown",
   "metadata": {},
   "source": [
    "# Variables"
   ]
  },
  {
   "cell_type": "code",
   "execution_count": 11,
   "metadata": {},
   "outputs": [],
   "source": [
    "hola = \"Hola mundo\""
   ]
  },
  {
   "cell_type": "code",
   "execution_count": 12,
   "metadata": {},
   "outputs": [
    {
     "name": "stdout",
     "output_type": "stream",
     "text": [
      "Hola mundo\n"
     ]
    }
   ],
   "source": [
    "print (hola)"
   ]
  },
  {
   "cell_type": "code",
   "execution_count": 13,
   "metadata": {},
   "outputs": [
    {
     "name": "stdout",
     "output_type": "stream",
     "text": [
      "Como te llamas? m\n",
      "Hola m espero que estés bien.\n"
     ]
    }
   ],
   "source": [
    "nombre = input(\"Como te llamas? \")\n",
    "print (\"Hola\", nombre, \"espero que estés bien.\")"
   ]
  },
  {
   "cell_type": "markdown",
   "metadata": {},
   "source": [
    "### impresión de segmentos de variables"
   ]
  },
  {
   "cell_type": "code",
   "execution_count": 14,
   "metadata": {},
   "outputs": [
    {
     "name": "stdout",
     "output_type": "stream",
     "text": [
      "Ho\n"
     ]
    }
   ],
   "source": [
    "print(hola[:2])"
   ]
  },
  {
   "cell_type": "code",
   "execution_count": 15,
   "metadata": {},
   "outputs": [
    {
     "name": "stdout",
     "output_type": "stream",
     "text": [
      "la mundo\n"
     ]
    }
   ],
   "source": [
    "print(hola[2:])"
   ]
  },
  {
   "cell_type": "code",
   "execution_count": 16,
   "metadata": {},
   "outputs": [
    {
     "name": "stdout",
     "output_type": "stream",
     "text": [
      "Hola mundo , especialmente a ti m\n"
     ]
    }
   ],
   "source": [
    "print(hola,\", especialmente a ti\",nombre )#la coma agregara un espacio"
   ]
  },
  {
   "cell_type": "code",
   "execution_count": 17,
   "metadata": {},
   "outputs": [
    {
     "name": "stdout",
     "output_type": "stream",
     "text": [
      "Hola mundo, especialmente a ti m\n"
     ]
    }
   ],
   "source": [
    "print(hola+\", especialmente a ti \"+nombre )#el signo + concatena los caracteres"
   ]
  },
  {
   "cell_type": "code",
   "execution_count": 18,
   "metadata": {},
   "outputs": [
    {
     "name": "stdout",
     "output_type": "stream",
     "text": [
      "31.622776601683793\n"
     ]
    }
   ],
   "source": [
    "print(10**1.5) #"
   ]
  },
  {
   "cell_type": "code",
   "execution_count": 19,
   "metadata": {},
   "outputs": [
    {
     "data": {
      "text/plain": [
       "31.622776601683793"
      ]
     },
     "execution_count": 19,
     "metadata": {},
     "output_type": "execute_result"
    }
   ],
   "source": [
    "10**1.5"
   ]
  },
  {
   "cell_type": "code",
   "execution_count": 20,
   "metadata": {},
   "outputs": [
    {
     "data": {
      "text/plain": [
       "68.66666666666667"
      ]
     },
     "execution_count": 20,
     "metadata": {},
     "output_type": "execute_result"
    }
   ],
   "source": [
    "10300/150"
   ]
  },
  {
   "cell_type": "code",
   "execution_count": 21,
   "metadata": {},
   "outputs": [
    {
     "data": {
      "text/plain": [
       "10450"
      ]
     },
     "execution_count": 21,
     "metadata": {},
     "output_type": "execute_result"
    }
   ],
   "source": [
    "10300+150"
   ]
  },
  {
   "cell_type": "code",
   "execution_count": 22,
   "metadata": {},
   "outputs": [
    {
     "name": "stdout",
     "output_type": "stream",
     "text": [
      "10450\n"
     ]
    }
   ],
   "source": [
    "print(10300+150)"
   ]
  },
  {
   "cell_type": "code",
   "execution_count": 23,
   "metadata": {
    "scrolled": true
   },
   "outputs": [
    {
     "name": "stdout",
     "output_type": "stream",
     "text": [
      "m1300\n"
     ]
    }
   ],
   "source": [
    "print(nombre+str(1300))#str sirve para transformar números en caracteres"
   ]
  },
  {
   "cell_type": "code",
   "execution_count": 24,
   "metadata": {},
   "outputs": [
    {
     "name": "stdout",
     "output_type": "stream",
     "text": [
      "Hola mundo, especialmente a ti m\n"
     ]
    }
   ],
   "source": [
    "print(hola+\", especialmente a ti \"+nombre )#el signo "
   ]
  },
  {
   "cell_type": "markdown",
   "metadata": {},
   "source": [
    "### asignación numérica"
   ]
  },
  {
   "cell_type": "code",
   "execution_count": 25,
   "metadata": {},
   "outputs": [
    {
     "name": "stdout",
     "output_type": "stream",
     "text": [
      "1110\n"
     ]
    }
   ],
   "source": [
    "n=1110\n",
    "print (n)"
   ]
  },
  {
   "cell_type": "markdown",
   "metadata": {},
   "source": [
    "### incremento a variable numérica"
   ]
  },
  {
   "cell_type": "code",
   "execution_count": 26,
   "metadata": {},
   "outputs": [
    {
     "name": "stdout",
     "output_type": "stream",
     "text": [
      "1111\n"
     ]
    }
   ],
   "source": [
    "n+=1\n",
    "print (n)"
   ]
  },
  {
   "cell_type": "code",
   "execution_count": 27,
   "metadata": {},
   "outputs": [
    {
     "name": "stdout",
     "output_type": "stream",
     "text": [
      "1113\n"
     ]
    }
   ],
   "source": [
    "n+=2\n",
    "print (n)"
   ]
  },
  {
   "cell_type": "markdown",
   "metadata": {},
   "source": [
    "### concatenación de texto"
   ]
  },
  {
   "cell_type": "code",
   "execution_count": 28,
   "metadata": {},
   "outputs": [
    {
     "name": "stdout",
     "output_type": "stream",
     "text": [
      "Migueldel Río\n"
     ]
    }
   ],
   "source": [
    "nombre = \"Miguel\"\n",
    "apellido = \"del Río\"\n",
    "nombre_completo= nombre+apellido\n",
    "print (nombre_completo)"
   ]
  },
  {
   "cell_type": "markdown",
   "metadata": {},
   "source": [
    "### Copie el código de la celda anterior, corrijalo para que imprima adecuadamente el nombre y apellido con espacio entre ellos "
   ]
  },
  {
   "cell_type": "code",
   "execution_count": 29,
   "metadata": {},
   "outputs": [
    {
     "name": "stdout",
     "output_type": "stream",
     "text": [
      "Miguel del Río\n"
     ]
    }
   ],
   "source": [
    "nombre = \"Miguel\"\n",
    "apellido = \"del Río\"\n",
    "nombre_completo= nombre+\" \"+apellido\n",
    "print (nombre_completo)"
   ]
  },
  {
   "cell_type": "markdown",
   "metadata": {},
   "source": [
    "### Utilizando los ejemplos anteriores escriba unos comandos para que pida su nombre, su apellido y lo escriba de la siguiente forma\n",
    "1. nombre y apellido\n",
    "2. apellido, coma y nombre"
   ]
  },
  {
   "cell_type": "code",
   "execution_count": 30,
   "metadata": {},
   "outputs": [
    {
     "name": "stdout",
     "output_type": "stream",
     "text": [
      "Cuál es su nombre? mi\n",
      "Cuál es su apellido? de\n",
      "1. mi de\n",
      "2. de, mi\n"
     ]
    }
   ],
   "source": [
    "nombre = input(\"Cuál es su nombre? \")\n",
    "apellido = input(\"Cuál es su apellido? \")\n",
    "print (\"1.\", nombre, apellido)\n",
    "print(\"2.\", apellido+\",\", nombre)"
   ]
  },
  {
   "cell_type": "code",
   "execution_count": 31,
   "metadata": {},
   "outputs": [
    {
     "name": "stdout",
     "output_type": "stream",
     "text": [
      "Cuál es su nombre? mi\n",
      "Cuál es su apellido? de\n",
      "1. mi de\n",
      "2. de, mi\n"
     ]
    }
   ],
   "source": [
    "nombre = input(\"Cuál es su nombre? \")\n",
    "apellido = input(\"Cuál es su apellido? \")\n",
    "print (\"1. \"+ nombre+\" \"+ apellido)\n",
    "print(\"2. \"+ apellido+ \", \"+ nombre)"
   ]
  },
  {
   "cell_type": "code",
   "execution_count": null,
   "metadata": {},
   "outputs": [],
   "source": []
  },
  {
   "cell_type": "markdown",
   "metadata": {},
   "source": [
    "# igualdades"
   ]
  },
  {
   "cell_type": "code",
   "execution_count": 32,
   "metadata": {},
   "outputs": [],
   "source": [
    "nombre = \"Miguel\""
   ]
  },
  {
   "cell_type": "code",
   "execution_count": 33,
   "metadata": {},
   "outputs": [
    {
     "data": {
      "text/plain": [
       "True"
      ]
     },
     "execution_count": 33,
     "metadata": {},
     "output_type": "execute_result"
    }
   ],
   "source": [
    "nombre==\"Miguel\""
   ]
  },
  {
   "cell_type": "code",
   "execution_count": 34,
   "metadata": {},
   "outputs": [
    {
     "data": {
      "text/plain": [
       "False"
      ]
     },
     "execution_count": 34,
     "metadata": {},
     "output_type": "execute_result"
    }
   ],
   "source": [
    "nombre == \"Angel\""
   ]
  },
  {
   "cell_type": "markdown",
   "metadata": {},
   "source": [
    "# Explique las diferencias entres las dos celdas anteriores"
   ]
  },
  {
   "cell_type": "markdown",
   "metadata": {},
   "source": [
    "el signo \"=\" se utiliza para "
   ]
  },
  {
   "cell_type": "markdown",
   "metadata": {},
   "source": [
    "# Explique las diferencias con las celdas anteriores"
   ]
  },
  {
   "cell_type": "code",
   "execution_count": null,
   "metadata": {},
   "outputs": [],
   "source": []
  },
  {
   "cell_type": "code",
   "execution_count": null,
   "metadata": {},
   "outputs": [],
   "source": []
  },
  {
   "cell_type": "markdown",
   "metadata": {},
   "source": [
    "# Ciclos (loops)"
   ]
  },
  {
   "cell_type": "markdown",
   "metadata": {},
   "source": [
    "## Los ciclos se utilizan para repetir instrucciones"
   ]
  },
  {
   "cell_type": "markdown",
   "metadata": {},
   "source": [
    "# *For*"
   ]
  },
  {
   "cell_type": "markdown",
   "metadata": {},
   "source": [
    "En este caso `rec` se está utilizando una variable temporal (en algunas ocasiones llamada \"dummy variable\")."
   ]
  },
  {
   "cell_type": "code",
   "execution_count": null,
   "metadata": {},
   "outputs": [],
   "source": [
    "for rec in hola:\n",
    "    print (rec)"
   ]
  },
  {
   "cell_type": "code",
   "execution_count": null,
   "metadata": {},
   "outputs": [],
   "source": [
    "for rec in hola:\n",
    "    print (rec)"
   ]
  },
  {
   "cell_type": "markdown",
   "metadata": {},
   "source": [
    "### observe y describa lo que realizó la celda anterior"
   ]
  },
  {
   "cell_type": "code",
   "execution_count": null,
   "metadata": {},
   "outputs": [],
   "source": []
  },
  {
   "cell_type": "markdown",
   "metadata": {},
   "source": [
    "# *While*"
   ]
  },
  {
   "cell_type": "markdown",
   "metadata": {},
   "source": [
    "### escriba los comandos para imprimir del número 0 al 10. Asigne "
   ]
  },
  {
   "cell_type": "code",
   "execution_count": null,
   "metadata": {},
   "outputs": [],
   "source": [
    "n=0\n",
    "while n <=10:\n",
    "    print(n, end=\"\\t\")\n",
    "    n+=1"
   ]
  },
  {
   "cell_type": "markdown",
   "metadata": {},
   "source": [
    "### Como modificaria los comandos para que el incremento fuera de 2 en 2?"
   ]
  },
  {
   "cell_type": "code",
   "execution_count": null,
   "metadata": {},
   "outputs": [],
   "source": [
    "n=0\n",
    "while n <=10:\n",
    "    print(n, end=\"\\t\")\n",
    "    n+=2"
   ]
  },
  {
   "cell_type": "markdown",
   "metadata": {},
   "source": [
    "# Rangos"
   ]
  },
  {
   "cell_type": "code",
   "execution_count": null,
   "metadata": {},
   "outputs": [],
   "source": [
    "lista = range(0,10)\n",
    "print (lista)"
   ]
  },
  {
   "cell_type": "markdown",
   "metadata": {},
   "source": [
    "### Explique que está pasando"
   ]
  },
  {
   "cell_type": "code",
   "execution_count": null,
   "metadata": {},
   "outputs": [],
   "source": []
  },
  {
   "cell_type": "code",
   "execution_count": null,
   "metadata": {},
   "outputs": [],
   "source": [
    "for rec in lista:\n",
    "    print(rec)"
   ]
  },
  {
   "cell_type": "code",
   "execution_count": null,
   "metadata": {},
   "outputs": [],
   "source": [
    "for rec in lista:\n",
    "    print(rec, end=\"\\t\")"
   ]
  },
  {
   "cell_type": "code",
   "execution_count": null,
   "metadata": {},
   "outputs": [],
   "source": [
    "for rec in range(0,101,10):\n",
    "    print(rec, end=\"\\t\")"
   ]
  },
  {
   "cell_type": "code",
   "execution_count": null,
   "metadata": {},
   "outputs": [],
   "source": [
    "?range"
   ]
  },
  {
   "cell_type": "markdown",
   "metadata": {},
   "source": [
    "### Como asignaría a la variable lista el rango de 0 a 100 de 10 en 10"
   ]
  },
  {
   "cell_type": "markdown",
   "metadata": {},
   "source": [
    "`lista = range(0,100,10)\n",
    "for rec in lista:\n",
    "    print (rec, end=\"\\t\")`"
   ]
  },
  {
   "cell_type": "code",
   "execution_count": null,
   "metadata": {},
   "outputs": [],
   "source": []
  },
  {
   "cell_type": "markdown",
   "metadata": {},
   "source": [
    "# listas"
   ]
  },
  {
   "cell_type": "code",
   "execution_count": null,
   "metadata": {},
   "outputs": [],
   "source": [
    "listado = [\"secuencia\", \"nucleotido\", \"datos\", \"parametros\"]"
   ]
  },
  {
   "cell_type": "code",
   "execution_count": null,
   "metadata": {},
   "outputs": [],
   "source": [
    "for rec in listado:\n",
    "    print (rec)"
   ]
  },
  {
   "cell_type": "code",
   "execution_count": null,
   "metadata": {},
   "outputs": [],
   "source": [
    "listado[2]"
   ]
  },
  {
   "cell_type": "markdown",
   "metadata": {},
   "source": [
    "# tuplas"
   ]
  },
  {
   "cell_type": "code",
   "execution_count": null,
   "metadata": {},
   "outputs": [],
   "source": [
    "tupla = (\"secuencia\", \"nucleotido\", \"datos\", \"parametros\")"
   ]
  },
  {
   "cell_type": "code",
   "execution_count": null,
   "metadata": {},
   "outputs": [],
   "source": [
    "for rec in tupla:\n",
    "    print (rec)"
   ]
  },
  {
   "cell_type": "code",
   "execution_count": null,
   "metadata": {},
   "outputs": [],
   "source": [
    "tupla[2]"
   ]
  },
  {
   "cell_type": "markdown",
   "metadata": {},
   "source": [
    "### La diferencia puede decirse que las [listas son dinámicas, mientras que las tuplas son estáticas.](https://recursospython.com/guias-y-manuales/listas-y-tuplas/)\n",
    "Si se intenta agregar un registro a una lista, la agrega. No sucede lo mismo en el caso de tuplas, por ejemplo:"
   ]
  },
  {
   "cell_type": "code",
   "execution_count": null,
   "metadata": {},
   "outputs": [],
   "source": [
    "listado.append(\"secuenciacion masiva\")\n",
    "listado"
   ]
  },
  {
   "cell_type": "code",
   "execution_count": null,
   "metadata": {},
   "outputs": [],
   "source": [
    "tupla.append(\"secuenciacion masiva\") #no se pueden agregar elementos a la tupla"
   ]
  },
  {
   "cell_type": "markdown",
   "metadata": {},
   "source": [
    "### Modifique la siguiente instrucción para que imprima el contenido de `listado` con tabuladores"
   ]
  },
  {
   "cell_type": "code",
   "execution_count": null,
   "metadata": {},
   "outputs": [],
   "source": [
    "for rec in listado:\n",
    "    print (rec, end=\"\\t\")"
   ]
  },
  {
   "cell_type": "markdown",
   "metadata": {},
   "source": [
    "### Modifique la siguiente instrucción para que imprima el contenido de `listado` con comas"
   ]
  },
  {
   "cell_type": "code",
   "execution_count": null,
   "metadata": {},
   "outputs": [],
   "source": [
    "for rec in listado:\n",
    "    print (rec, end=\", \")"
   ]
  },
  {
   "cell_type": "code",
   "execution_count": null,
   "metadata": {},
   "outputs": [],
   "source": []
  },
  {
   "cell_type": "markdown",
   "metadata": {},
   "source": [
    "# Importación de paquetes"
   ]
  },
  {
   "cell_type": "markdown",
   "metadata": {},
   "source": [
    "#### Paquete para manejo del sistema operativo"
   ]
  },
  {
   "cell_type": "code",
   "execution_count": 36,
   "metadata": {},
   "outputs": [],
   "source": [
    "import os"
   ]
  },
  {
   "cell_type": "code",
   "execution_count": null,
   "metadata": {},
   "outputs": [],
   "source": [
    "?os"
   ]
  },
  {
   "cell_type": "code",
   "execution_count": null,
   "metadata": {},
   "outputs": [],
   "source": [
    "pwd\n"
   ]
  },
  {
   "cell_type": "markdown",
   "metadata": {},
   "source": [
    "### para saber si existe una ruta determinada"
   ]
  },
  {
   "cell_type": "code",
   "execution_count": 37,
   "metadata": {},
   "outputs": [
    {
     "data": {
      "text/plain": [
       "False"
      ]
     },
     "execution_count": 37,
     "metadata": {},
     "output_type": "execute_result"
    }
   ],
   "source": [
    "os.path.exists(\"C:\\\\Users\\\\SalaD26\\\\Desktop\\\\data\")"
   ]
  },
  {
   "cell_type": "markdown",
   "metadata": {},
   "source": [
    "### para saber el directorio de trabajo"
   ]
  },
  {
   "cell_type": "code",
   "execution_count": 38,
   "metadata": {},
   "outputs": [
    {
     "data": {
      "text/plain": [
       "'/Users/migueldelrio/Desktop/data'"
      ]
     },
     "execution_count": 38,
     "metadata": {},
     "output_type": "execute_result"
    }
   ],
   "source": [
    "os.getcwd()"
   ]
  },
  {
   "cell_type": "markdown",
   "metadata": {},
   "source": [
    "### cambio de directorio "
   ]
  },
  {
   "cell_type": "code",
   "execution_count": 39,
   "metadata": {},
   "outputs": [],
   "source": [
    "os.chdir(\"../data/fasta\")"
   ]
  },
  {
   "cell_type": "code",
   "execution_count": 40,
   "metadata": {},
   "outputs": [
    {
     "data": {
      "text/plain": [
       "'/Users/migueldelrio/Desktop/data/fasta'"
      ]
     },
     "execution_count": 40,
     "metadata": {},
     "output_type": "execute_result"
    }
   ],
   "source": [
    "os.getcwd()"
   ]
  },
  {
   "cell_type": "markdown",
   "metadata": {},
   "source": [
    "### informacion sobre *sysname*, *nodename*, *release*, *version* y *maquina*"
   ]
  },
  {
   "cell_type": "code",
   "execution_count": 9,
   "metadata": {},
   "outputs": [
    {
     "data": {
      "text/plain": [
       "posix.uname_result(sysname='Darwin', nodename='MacBook-Air-de-Miguel.local', release='18.7.0', version='Darwin Kernel Version 18.7.0: Thu Jun 20 18:42:21 PDT 2019; root:xnu-4903.270.47~4/RELEASE_X86_64', machine='x86_64')"
      ]
     },
     "execution_count": 9,
     "metadata": {},
     "output_type": "execute_result"
    }
   ],
   "source": [
    "os.uname()"
   ]
  },
  {
   "cell_type": "markdown",
   "metadata": {},
   "source": [
    "### para conocer el tiempo que toma un proceso"
   ]
  },
  {
   "cell_type": "code",
   "execution_count": null,
   "metadata": {},
   "outputs": [],
   "source": [
    "tiempo =os.times()\n",
    "\n",
    "print(\"hola\", tiempo)"
   ]
  },
  {
   "cell_type": "markdown",
   "metadata": {},
   "source": [
    "# [pandas](https://pandas.pydata.org) \n",
    "# Python Data Analysis Library"
   ]
  },
  {
   "cell_type": "code",
   "execution_count": 15,
   "metadata": {},
   "outputs": [],
   "source": [
    "# se importan partes específicas de la biblioteca\n",
    "from pandas import Series, DataFrame"
   ]
  },
  {
   "cell_type": "code",
   "execution_count": 16,
   "metadata": {},
   "outputs": [],
   "source": [
    "# se importa pandas como pd, simplemente para no escribir `pandas` todo el tiempo que se requeira\n",
    "import pandas as pd"
   ]
  },
  {
   "cell_type": "code",
   "execution_count": 17,
   "metadata": {},
   "outputs": [
    {
     "name": "stdout",
     "output_type": "stream",
     "text": [
      "/Users/migueldelrio/Desktop/data\n"
     ]
    }
   ],
   "source": [
    "cd ../../data/"
   ]
  },
  {
   "cell_type": "code",
   "execution_count": 19,
   "metadata": {},
   "outputs": [
    {
     "data": {
      "text/plain": [
       "'/Users/migueldelrio/Desktop/data'"
      ]
     },
     "execution_count": 19,
     "metadata": {},
     "output_type": "execute_result"
    }
   ],
   "source": [
    "pwd"
   ]
  },
  {
   "cell_type": "code",
   "execution_count": 23,
   "metadata": {},
   "outputs": [
    {
     "name": "stdout",
     "output_type": "stream",
     "text": [
      "/Users/migueldelrio/Desktop/bioinformatica_anotacion2019/data\n"
     ]
    }
   ],
   "source": [
    "cd .."
   ]
  },
  {
   "cell_type": "code",
   "execution_count": 24,
   "metadata": {},
   "outputs": [
    {
     "name": "stdout",
     "output_type": "stream",
     "text": [
      "\u001b[31m7sppMorfo_largototal.csv\u001b[m\u001b[m* \u001b[34mmetagenomics\u001b[m\u001b[m/             \u001b[34mmetagenomics3\u001b[m\u001b[m/\r\n",
      "\u001b[34mfasta\u001b[m\u001b[m/                    \u001b[34mmetagenomics2\u001b[m\u001b[m/            \u001b[34msec_masiva\u001b[m\u001b[m/\r\n"
     ]
    }
   ],
   "source": [
    "ls"
   ]
  },
  {
   "cell_type": "code",
   "execution_count": 25,
   "metadata": {
    "scrolled": true
   },
   "outputs": [
    {
     "data": {
      "text/html": [
       "<div>\n",
       "<style scoped>\n",
       "    .dataframe tbody tr th:only-of-type {\n",
       "        vertical-align: middle;\n",
       "    }\n",
       "\n",
       "    .dataframe tbody tr th {\n",
       "        vertical-align: top;\n",
       "    }\n",
       "\n",
       "    .dataframe thead th {\n",
       "        text-align: right;\n",
       "    }\n",
       "</style>\n",
       "<table border=\"1\" class=\"dataframe\">\n",
       "  <thead>\n",
       "    <tr style=\"text-align: right;\">\n",
       "      <th></th>\n",
       "      <th>especie</th>\n",
       "      <th>org</th>\n",
       "      <th>long_total</th>\n",
       "    </tr>\n",
       "  </thead>\n",
       "  <tbody>\n",
       "    <tr>\n",
       "      <th>0</th>\n",
       "      <td>especie1</td>\n",
       "      <td>1</td>\n",
       "      <td>100</td>\n",
       "    </tr>\n",
       "    <tr>\n",
       "      <th>1</th>\n",
       "      <td>especie1</td>\n",
       "      <td>2</td>\n",
       "      <td>89</td>\n",
       "    </tr>\n",
       "    <tr>\n",
       "      <th>2</th>\n",
       "      <td>especie1</td>\n",
       "      <td>3</td>\n",
       "      <td>114</td>\n",
       "    </tr>\n",
       "    <tr>\n",
       "      <th>3</th>\n",
       "      <td>especie1</td>\n",
       "      <td>4</td>\n",
       "      <td>88</td>\n",
       "    </tr>\n",
       "    <tr>\n",
       "      <th>4</th>\n",
       "      <td>especie1</td>\n",
       "      <td>5</td>\n",
       "      <td>124</td>\n",
       "    </tr>\n",
       "    <tr>\n",
       "      <th>5</th>\n",
       "      <td>especie1</td>\n",
       "      <td>12</td>\n",
       "      <td>101</td>\n",
       "    </tr>\n",
       "    <tr>\n",
       "      <th>6</th>\n",
       "      <td>especie1</td>\n",
       "      <td>13</td>\n",
       "      <td>100</td>\n",
       "    </tr>\n",
       "    <tr>\n",
       "      <th>7</th>\n",
       "      <td>especie1</td>\n",
       "      <td>6</td>\n",
       "      <td>113</td>\n",
       "    </tr>\n",
       "    <tr>\n",
       "      <th>8</th>\n",
       "      <td>especie1</td>\n",
       "      <td>7</td>\n",
       "      <td>109</td>\n",
       "    </tr>\n",
       "    <tr>\n",
       "      <th>9</th>\n",
       "      <td>especie1</td>\n",
       "      <td>8</td>\n",
       "      <td>129</td>\n",
       "    </tr>\n",
       "    <tr>\n",
       "      <th>10</th>\n",
       "      <td>especie1</td>\n",
       "      <td>9</td>\n",
       "      <td>118</td>\n",
       "    </tr>\n",
       "    <tr>\n",
       "      <th>11</th>\n",
       "      <td>especie1</td>\n",
       "      <td>10</td>\n",
       "      <td>113</td>\n",
       "    </tr>\n",
       "    <tr>\n",
       "      <th>12</th>\n",
       "      <td>especie1</td>\n",
       "      <td>11</td>\n",
       "      <td>96</td>\n",
       "    </tr>\n",
       "    <tr>\n",
       "      <th>13</th>\n",
       "      <td>especie1</td>\n",
       "      <td>14</td>\n",
       "      <td>98</td>\n",
       "    </tr>\n",
       "    <tr>\n",
       "      <th>14</th>\n",
       "      <td>especie1</td>\n",
       "      <td>15</td>\n",
       "      <td>92</td>\n",
       "    </tr>\n",
       "    <tr>\n",
       "      <th>15</th>\n",
       "      <td>especie1</td>\n",
       "      <td>16</td>\n",
       "      <td>99</td>\n",
       "    </tr>\n",
       "    <tr>\n",
       "      <th>16</th>\n",
       "      <td>especie1</td>\n",
       "      <td>17</td>\n",
       "      <td>88</td>\n",
       "    </tr>\n",
       "    <tr>\n",
       "      <th>17</th>\n",
       "      <td>especie1</td>\n",
       "      <td>18</td>\n",
       "      <td>99</td>\n",
       "    </tr>\n",
       "    <tr>\n",
       "      <th>18</th>\n",
       "      <td>especie1</td>\n",
       "      <td>19</td>\n",
       "      <td>129</td>\n",
       "    </tr>\n",
       "    <tr>\n",
       "      <th>19</th>\n",
       "      <td>especie1</td>\n",
       "      <td>20</td>\n",
       "      <td>132</td>\n",
       "    </tr>\n",
       "    <tr>\n",
       "      <th>20</th>\n",
       "      <td>especie1</td>\n",
       "      <td>21</td>\n",
       "      <td>114</td>\n",
       "    </tr>\n",
       "    <tr>\n",
       "      <th>21</th>\n",
       "      <td>especie1</td>\n",
       "      <td>22</td>\n",
       "      <td>128</td>\n",
       "    </tr>\n",
       "    <tr>\n",
       "      <th>22</th>\n",
       "      <td>especie1</td>\n",
       "      <td>23</td>\n",
       "      <td>105</td>\n",
       "    </tr>\n",
       "    <tr>\n",
       "      <th>23</th>\n",
       "      <td>especie1</td>\n",
       "      <td>25</td>\n",
       "      <td>98</td>\n",
       "    </tr>\n",
       "    <tr>\n",
       "      <th>24</th>\n",
       "      <td>especie1</td>\n",
       "      <td>26</td>\n",
       "      <td>111</td>\n",
       "    </tr>\n",
       "    <tr>\n",
       "      <th>25</th>\n",
       "      <td>especie1</td>\n",
       "      <td>27</td>\n",
       "      <td>98</td>\n",
       "    </tr>\n",
       "    <tr>\n",
       "      <th>26</th>\n",
       "      <td>especie1</td>\n",
       "      <td>28</td>\n",
       "      <td>96</td>\n",
       "    </tr>\n",
       "    <tr>\n",
       "      <th>27</th>\n",
       "      <td>especie1</td>\n",
       "      <td>29</td>\n",
       "      <td>125</td>\n",
       "    </tr>\n",
       "    <tr>\n",
       "      <th>28</th>\n",
       "      <td>especie1</td>\n",
       "      <td>30</td>\n",
       "      <td>107</td>\n",
       "    </tr>\n",
       "    <tr>\n",
       "      <th>29</th>\n",
       "      <td>especie1</td>\n",
       "      <td>31</td>\n",
       "      <td>112</td>\n",
       "    </tr>\n",
       "    <tr>\n",
       "      <th>...</th>\n",
       "      <td>...</td>\n",
       "      <td>...</td>\n",
       "      <td>...</td>\n",
       "    </tr>\n",
       "    <tr>\n",
       "      <th>337</th>\n",
       "      <td>especie7</td>\n",
       "      <td>71</td>\n",
       "      <td>82</td>\n",
       "    </tr>\n",
       "    <tr>\n",
       "      <th>338</th>\n",
       "      <td>especie7</td>\n",
       "      <td>72</td>\n",
       "      <td>78</td>\n",
       "    </tr>\n",
       "    <tr>\n",
       "      <th>339</th>\n",
       "      <td>especie7</td>\n",
       "      <td>73</td>\n",
       "      <td>88</td>\n",
       "    </tr>\n",
       "    <tr>\n",
       "      <th>340</th>\n",
       "      <td>especie7</td>\n",
       "      <td>74</td>\n",
       "      <td>86</td>\n",
       "    </tr>\n",
       "    <tr>\n",
       "      <th>341</th>\n",
       "      <td>especie7</td>\n",
       "      <td>75</td>\n",
       "      <td>82</td>\n",
       "    </tr>\n",
       "    <tr>\n",
       "      <th>342</th>\n",
       "      <td>especie7</td>\n",
       "      <td>76</td>\n",
       "      <td>88</td>\n",
       "    </tr>\n",
       "    <tr>\n",
       "      <th>343</th>\n",
       "      <td>especie7</td>\n",
       "      <td>77</td>\n",
       "      <td>85</td>\n",
       "    </tr>\n",
       "    <tr>\n",
       "      <th>344</th>\n",
       "      <td>especie7</td>\n",
       "      <td>78</td>\n",
       "      <td>85</td>\n",
       "    </tr>\n",
       "    <tr>\n",
       "      <th>345</th>\n",
       "      <td>especie7</td>\n",
       "      <td>79</td>\n",
       "      <td>91</td>\n",
       "    </tr>\n",
       "    <tr>\n",
       "      <th>346</th>\n",
       "      <td>especie7</td>\n",
       "      <td>80</td>\n",
       "      <td>87</td>\n",
       "    </tr>\n",
       "    <tr>\n",
       "      <th>347</th>\n",
       "      <td>especie7</td>\n",
       "      <td>81</td>\n",
       "      <td>88</td>\n",
       "    </tr>\n",
       "    <tr>\n",
       "      <th>348</th>\n",
       "      <td>especie7</td>\n",
       "      <td>82</td>\n",
       "      <td>102</td>\n",
       "    </tr>\n",
       "    <tr>\n",
       "      <th>349</th>\n",
       "      <td>especie7</td>\n",
       "      <td>83</td>\n",
       "      <td>90</td>\n",
       "    </tr>\n",
       "    <tr>\n",
       "      <th>350</th>\n",
       "      <td>especie7</td>\n",
       "      <td>84</td>\n",
       "      <td>90</td>\n",
       "    </tr>\n",
       "    <tr>\n",
       "      <th>351</th>\n",
       "      <td>especie7</td>\n",
       "      <td>85</td>\n",
       "      <td>85</td>\n",
       "    </tr>\n",
       "    <tr>\n",
       "      <th>352</th>\n",
       "      <td>especie7</td>\n",
       "      <td>86</td>\n",
       "      <td>90</td>\n",
       "    </tr>\n",
       "    <tr>\n",
       "      <th>353</th>\n",
       "      <td>especie7</td>\n",
       "      <td>87</td>\n",
       "      <td>76</td>\n",
       "    </tr>\n",
       "    <tr>\n",
       "      <th>354</th>\n",
       "      <td>especie7</td>\n",
       "      <td>88</td>\n",
       "      <td>87</td>\n",
       "    </tr>\n",
       "    <tr>\n",
       "      <th>355</th>\n",
       "      <td>especie7</td>\n",
       "      <td>89</td>\n",
       "      <td>86</td>\n",
       "    </tr>\n",
       "    <tr>\n",
       "      <th>356</th>\n",
       "      <td>especie7</td>\n",
       "      <td>90</td>\n",
       "      <td>83</td>\n",
       "    </tr>\n",
       "    <tr>\n",
       "      <th>357</th>\n",
       "      <td>especie7</td>\n",
       "      <td>91</td>\n",
       "      <td>80</td>\n",
       "    </tr>\n",
       "    <tr>\n",
       "      <th>358</th>\n",
       "      <td>especie7</td>\n",
       "      <td>92</td>\n",
       "      <td>97</td>\n",
       "    </tr>\n",
       "    <tr>\n",
       "      <th>359</th>\n",
       "      <td>especie7</td>\n",
       "      <td>93</td>\n",
       "      <td>83</td>\n",
       "    </tr>\n",
       "    <tr>\n",
       "      <th>360</th>\n",
       "      <td>especie7</td>\n",
       "      <td>94</td>\n",
       "      <td>90</td>\n",
       "    </tr>\n",
       "    <tr>\n",
       "      <th>361</th>\n",
       "      <td>especie7</td>\n",
       "      <td>95</td>\n",
       "      <td>98</td>\n",
       "    </tr>\n",
       "    <tr>\n",
       "      <th>362</th>\n",
       "      <td>especie7</td>\n",
       "      <td>96</td>\n",
       "      <td>86</td>\n",
       "    </tr>\n",
       "    <tr>\n",
       "      <th>363</th>\n",
       "      <td>especie7</td>\n",
       "      <td>97</td>\n",
       "      <td>90</td>\n",
       "    </tr>\n",
       "    <tr>\n",
       "      <th>364</th>\n",
       "      <td>especie7</td>\n",
       "      <td>98</td>\n",
       "      <td>84</td>\n",
       "    </tr>\n",
       "    <tr>\n",
       "      <th>365</th>\n",
       "      <td>especie7</td>\n",
       "      <td>99</td>\n",
       "      <td>84</td>\n",
       "    </tr>\n",
       "    <tr>\n",
       "      <th>366</th>\n",
       "      <td>especie7</td>\n",
       "      <td>100</td>\n",
       "      <td>95</td>\n",
       "    </tr>\n",
       "  </tbody>\n",
       "</table>\n",
       "<p>367 rows × 3 columns</p>\n",
       "</div>"
      ],
      "text/plain": [
       "      especie  org  long_total\n",
       "0    especie1    1         100\n",
       "1    especie1    2          89\n",
       "2    especie1    3         114\n",
       "3    especie1    4          88\n",
       "4    especie1    5         124\n",
       "5    especie1   12         101\n",
       "6    especie1   13         100\n",
       "7    especie1    6         113\n",
       "8    especie1    7         109\n",
       "9    especie1    8         129\n",
       "10   especie1    9         118\n",
       "11   especie1   10         113\n",
       "12   especie1   11          96\n",
       "13   especie1   14          98\n",
       "14   especie1   15          92\n",
       "15   especie1   16          99\n",
       "16   especie1   17          88\n",
       "17   especie1   18          99\n",
       "18   especie1   19         129\n",
       "19   especie1   20         132\n",
       "20   especie1   21         114\n",
       "21   especie1   22         128\n",
       "22   especie1   23         105\n",
       "23   especie1   25          98\n",
       "24   especie1   26         111\n",
       "25   especie1   27          98\n",
       "26   especie1   28          96\n",
       "27   especie1   29         125\n",
       "28   especie1   30         107\n",
       "29   especie1   31         112\n",
       "..        ...  ...         ...\n",
       "337  especie7   71          82\n",
       "338  especie7   72          78\n",
       "339  especie7   73          88\n",
       "340  especie7   74          86\n",
       "341  especie7   75          82\n",
       "342  especie7   76          88\n",
       "343  especie7   77          85\n",
       "344  especie7   78          85\n",
       "345  especie7   79          91\n",
       "346  especie7   80          87\n",
       "347  especie7   81          88\n",
       "348  especie7   82         102\n",
       "349  especie7   83          90\n",
       "350  especie7   84          90\n",
       "351  especie7   85          85\n",
       "352  especie7   86          90\n",
       "353  especie7   87          76\n",
       "354  especie7   88          87\n",
       "355  especie7   89          86\n",
       "356  especie7   90          83\n",
       "357  especie7   91          80\n",
       "358  especie7   92          97\n",
       "359  especie7   93          83\n",
       "360  especie7   94          90\n",
       "361  especie7   95          98\n",
       "362  especie7   96          86\n",
       "363  especie7   97          90\n",
       "364  especie7   98          84\n",
       "365  especie7   99          84\n",
       "366  especie7  100          95\n",
       "\n",
       "[367 rows x 3 columns]"
      ]
     },
     "execution_count": 25,
     "metadata": {},
     "output_type": "execute_result"
    }
   ],
   "source": [
    "pd.read_csv(\"7sppMorfo_largototal.csv\")"
   ]
  },
  {
   "cell_type": "code",
   "execution_count": null,
   "metadata": {},
   "outputs": [],
   "source": [
    "?pd.read_csv"
   ]
  },
  {
   "cell_type": "markdown",
   "metadata": {},
   "source": [
    "# Describa el contenido del archivo que acaba de observar"
   ]
  },
  {
   "cell_type": "code",
   "execution_count": null,
   "metadata": {},
   "outputs": [],
   "source": []
  },
  {
   "cell_type": "code",
   "execution_count": null,
   "metadata": {},
   "outputs": [],
   "source": []
  },
  {
   "cell_type": "markdown",
   "metadata": {},
   "source": [
    "# Escriba el comando para que al abrir el archivo `7sppMorfo.csv` lo asigne a la variable `f`"
   ]
  },
  {
   "cell_type": "code",
   "execution_count": 27,
   "metadata": {
    "scrolled": true
   },
   "outputs": [
    {
     "data": {
      "text/html": [
       "<div>\n",
       "<style scoped>\n",
       "    .dataframe tbody tr th:only-of-type {\n",
       "        vertical-align: middle;\n",
       "    }\n",
       "\n",
       "    .dataframe tbody tr th {\n",
       "        vertical-align: top;\n",
       "    }\n",
       "\n",
       "    .dataframe thead th {\n",
       "        text-align: right;\n",
       "    }\n",
       "</style>\n",
       "<table border=\"1\" class=\"dataframe\">\n",
       "  <thead>\n",
       "    <tr style=\"text-align: right;\">\n",
       "      <th></th>\n",
       "      <th>especie</th>\n",
       "      <th>org</th>\n",
       "      <th>long_total</th>\n",
       "    </tr>\n",
       "  </thead>\n",
       "  <tbody>\n",
       "    <tr>\n",
       "      <th>0</th>\n",
       "      <td>especie1</td>\n",
       "      <td>1</td>\n",
       "      <td>100</td>\n",
       "    </tr>\n",
       "    <tr>\n",
       "      <th>1</th>\n",
       "      <td>especie1</td>\n",
       "      <td>2</td>\n",
       "      <td>89</td>\n",
       "    </tr>\n",
       "    <tr>\n",
       "      <th>2</th>\n",
       "      <td>especie1</td>\n",
       "      <td>3</td>\n",
       "      <td>114</td>\n",
       "    </tr>\n",
       "    <tr>\n",
       "      <th>3</th>\n",
       "      <td>especie1</td>\n",
       "      <td>4</td>\n",
       "      <td>88</td>\n",
       "    </tr>\n",
       "    <tr>\n",
       "      <th>4</th>\n",
       "      <td>especie1</td>\n",
       "      <td>5</td>\n",
       "      <td>124</td>\n",
       "    </tr>\n",
       "    <tr>\n",
       "      <th>5</th>\n",
       "      <td>especie1</td>\n",
       "      <td>12</td>\n",
       "      <td>101</td>\n",
       "    </tr>\n",
       "    <tr>\n",
       "      <th>6</th>\n",
       "      <td>especie1</td>\n",
       "      <td>13</td>\n",
       "      <td>100</td>\n",
       "    </tr>\n",
       "    <tr>\n",
       "      <th>7</th>\n",
       "      <td>especie1</td>\n",
       "      <td>6</td>\n",
       "      <td>113</td>\n",
       "    </tr>\n",
       "    <tr>\n",
       "      <th>8</th>\n",
       "      <td>especie1</td>\n",
       "      <td>7</td>\n",
       "      <td>109</td>\n",
       "    </tr>\n",
       "    <tr>\n",
       "      <th>9</th>\n",
       "      <td>especie1</td>\n",
       "      <td>8</td>\n",
       "      <td>129</td>\n",
       "    </tr>\n",
       "    <tr>\n",
       "      <th>10</th>\n",
       "      <td>especie1</td>\n",
       "      <td>9</td>\n",
       "      <td>118</td>\n",
       "    </tr>\n",
       "    <tr>\n",
       "      <th>11</th>\n",
       "      <td>especie1</td>\n",
       "      <td>10</td>\n",
       "      <td>113</td>\n",
       "    </tr>\n",
       "    <tr>\n",
       "      <th>12</th>\n",
       "      <td>especie1</td>\n",
       "      <td>11</td>\n",
       "      <td>96</td>\n",
       "    </tr>\n",
       "    <tr>\n",
       "      <th>13</th>\n",
       "      <td>especie1</td>\n",
       "      <td>14</td>\n",
       "      <td>98</td>\n",
       "    </tr>\n",
       "    <tr>\n",
       "      <th>14</th>\n",
       "      <td>especie1</td>\n",
       "      <td>15</td>\n",
       "      <td>92</td>\n",
       "    </tr>\n",
       "    <tr>\n",
       "      <th>15</th>\n",
       "      <td>especie1</td>\n",
       "      <td>16</td>\n",
       "      <td>99</td>\n",
       "    </tr>\n",
       "    <tr>\n",
       "      <th>16</th>\n",
       "      <td>especie1</td>\n",
       "      <td>17</td>\n",
       "      <td>88</td>\n",
       "    </tr>\n",
       "    <tr>\n",
       "      <th>17</th>\n",
       "      <td>especie1</td>\n",
       "      <td>18</td>\n",
       "      <td>99</td>\n",
       "    </tr>\n",
       "    <tr>\n",
       "      <th>18</th>\n",
       "      <td>especie1</td>\n",
       "      <td>19</td>\n",
       "      <td>129</td>\n",
       "    </tr>\n",
       "    <tr>\n",
       "      <th>19</th>\n",
       "      <td>especie1</td>\n",
       "      <td>20</td>\n",
       "      <td>132</td>\n",
       "    </tr>\n",
       "    <tr>\n",
       "      <th>20</th>\n",
       "      <td>especie1</td>\n",
       "      <td>21</td>\n",
       "      <td>114</td>\n",
       "    </tr>\n",
       "    <tr>\n",
       "      <th>21</th>\n",
       "      <td>especie1</td>\n",
       "      <td>22</td>\n",
       "      <td>128</td>\n",
       "    </tr>\n",
       "    <tr>\n",
       "      <th>22</th>\n",
       "      <td>especie1</td>\n",
       "      <td>23</td>\n",
       "      <td>105</td>\n",
       "    </tr>\n",
       "    <tr>\n",
       "      <th>23</th>\n",
       "      <td>especie1</td>\n",
       "      <td>25</td>\n",
       "      <td>98</td>\n",
       "    </tr>\n",
       "    <tr>\n",
       "      <th>24</th>\n",
       "      <td>especie1</td>\n",
       "      <td>26</td>\n",
       "      <td>111</td>\n",
       "    </tr>\n",
       "    <tr>\n",
       "      <th>25</th>\n",
       "      <td>especie1</td>\n",
       "      <td>27</td>\n",
       "      <td>98</td>\n",
       "    </tr>\n",
       "    <tr>\n",
       "      <th>26</th>\n",
       "      <td>especie1</td>\n",
       "      <td>28</td>\n",
       "      <td>96</td>\n",
       "    </tr>\n",
       "    <tr>\n",
       "      <th>27</th>\n",
       "      <td>especie1</td>\n",
       "      <td>29</td>\n",
       "      <td>125</td>\n",
       "    </tr>\n",
       "    <tr>\n",
       "      <th>28</th>\n",
       "      <td>especie1</td>\n",
       "      <td>30</td>\n",
       "      <td>107</td>\n",
       "    </tr>\n",
       "    <tr>\n",
       "      <th>29</th>\n",
       "      <td>especie1</td>\n",
       "      <td>31</td>\n",
       "      <td>112</td>\n",
       "    </tr>\n",
       "    <tr>\n",
       "      <th>...</th>\n",
       "      <td>...</td>\n",
       "      <td>...</td>\n",
       "      <td>...</td>\n",
       "    </tr>\n",
       "    <tr>\n",
       "      <th>337</th>\n",
       "      <td>especie7</td>\n",
       "      <td>71</td>\n",
       "      <td>82</td>\n",
       "    </tr>\n",
       "    <tr>\n",
       "      <th>338</th>\n",
       "      <td>especie7</td>\n",
       "      <td>72</td>\n",
       "      <td>78</td>\n",
       "    </tr>\n",
       "    <tr>\n",
       "      <th>339</th>\n",
       "      <td>especie7</td>\n",
       "      <td>73</td>\n",
       "      <td>88</td>\n",
       "    </tr>\n",
       "    <tr>\n",
       "      <th>340</th>\n",
       "      <td>especie7</td>\n",
       "      <td>74</td>\n",
       "      <td>86</td>\n",
       "    </tr>\n",
       "    <tr>\n",
       "      <th>341</th>\n",
       "      <td>especie7</td>\n",
       "      <td>75</td>\n",
       "      <td>82</td>\n",
       "    </tr>\n",
       "    <tr>\n",
       "      <th>342</th>\n",
       "      <td>especie7</td>\n",
       "      <td>76</td>\n",
       "      <td>88</td>\n",
       "    </tr>\n",
       "    <tr>\n",
       "      <th>343</th>\n",
       "      <td>especie7</td>\n",
       "      <td>77</td>\n",
       "      <td>85</td>\n",
       "    </tr>\n",
       "    <tr>\n",
       "      <th>344</th>\n",
       "      <td>especie7</td>\n",
       "      <td>78</td>\n",
       "      <td>85</td>\n",
       "    </tr>\n",
       "    <tr>\n",
       "      <th>345</th>\n",
       "      <td>especie7</td>\n",
       "      <td>79</td>\n",
       "      <td>91</td>\n",
       "    </tr>\n",
       "    <tr>\n",
       "      <th>346</th>\n",
       "      <td>especie7</td>\n",
       "      <td>80</td>\n",
       "      <td>87</td>\n",
       "    </tr>\n",
       "    <tr>\n",
       "      <th>347</th>\n",
       "      <td>especie7</td>\n",
       "      <td>81</td>\n",
       "      <td>88</td>\n",
       "    </tr>\n",
       "    <tr>\n",
       "      <th>348</th>\n",
       "      <td>especie7</td>\n",
       "      <td>82</td>\n",
       "      <td>102</td>\n",
       "    </tr>\n",
       "    <tr>\n",
       "      <th>349</th>\n",
       "      <td>especie7</td>\n",
       "      <td>83</td>\n",
       "      <td>90</td>\n",
       "    </tr>\n",
       "    <tr>\n",
       "      <th>350</th>\n",
       "      <td>especie7</td>\n",
       "      <td>84</td>\n",
       "      <td>90</td>\n",
       "    </tr>\n",
       "    <tr>\n",
       "      <th>351</th>\n",
       "      <td>especie7</td>\n",
       "      <td>85</td>\n",
       "      <td>85</td>\n",
       "    </tr>\n",
       "    <tr>\n",
       "      <th>352</th>\n",
       "      <td>especie7</td>\n",
       "      <td>86</td>\n",
       "      <td>90</td>\n",
       "    </tr>\n",
       "    <tr>\n",
       "      <th>353</th>\n",
       "      <td>especie7</td>\n",
       "      <td>87</td>\n",
       "      <td>76</td>\n",
       "    </tr>\n",
       "    <tr>\n",
       "      <th>354</th>\n",
       "      <td>especie7</td>\n",
       "      <td>88</td>\n",
       "      <td>87</td>\n",
       "    </tr>\n",
       "    <tr>\n",
       "      <th>355</th>\n",
       "      <td>especie7</td>\n",
       "      <td>89</td>\n",
       "      <td>86</td>\n",
       "    </tr>\n",
       "    <tr>\n",
       "      <th>356</th>\n",
       "      <td>especie7</td>\n",
       "      <td>90</td>\n",
       "      <td>83</td>\n",
       "    </tr>\n",
       "    <tr>\n",
       "      <th>357</th>\n",
       "      <td>especie7</td>\n",
       "      <td>91</td>\n",
       "      <td>80</td>\n",
       "    </tr>\n",
       "    <tr>\n",
       "      <th>358</th>\n",
       "      <td>especie7</td>\n",
       "      <td>92</td>\n",
       "      <td>97</td>\n",
       "    </tr>\n",
       "    <tr>\n",
       "      <th>359</th>\n",
       "      <td>especie7</td>\n",
       "      <td>93</td>\n",
       "      <td>83</td>\n",
       "    </tr>\n",
       "    <tr>\n",
       "      <th>360</th>\n",
       "      <td>especie7</td>\n",
       "      <td>94</td>\n",
       "      <td>90</td>\n",
       "    </tr>\n",
       "    <tr>\n",
       "      <th>361</th>\n",
       "      <td>especie7</td>\n",
       "      <td>95</td>\n",
       "      <td>98</td>\n",
       "    </tr>\n",
       "    <tr>\n",
       "      <th>362</th>\n",
       "      <td>especie7</td>\n",
       "      <td>96</td>\n",
       "      <td>86</td>\n",
       "    </tr>\n",
       "    <tr>\n",
       "      <th>363</th>\n",
       "      <td>especie7</td>\n",
       "      <td>97</td>\n",
       "      <td>90</td>\n",
       "    </tr>\n",
       "    <tr>\n",
       "      <th>364</th>\n",
       "      <td>especie7</td>\n",
       "      <td>98</td>\n",
       "      <td>84</td>\n",
       "    </tr>\n",
       "    <tr>\n",
       "      <th>365</th>\n",
       "      <td>especie7</td>\n",
       "      <td>99</td>\n",
       "      <td>84</td>\n",
       "    </tr>\n",
       "    <tr>\n",
       "      <th>366</th>\n",
       "      <td>especie7</td>\n",
       "      <td>100</td>\n",
       "      <td>95</td>\n",
       "    </tr>\n",
       "  </tbody>\n",
       "</table>\n",
       "<p>367 rows × 3 columns</p>\n",
       "</div>"
      ],
      "text/plain": [
       "      especie  org  long_total\n",
       "0    especie1    1         100\n",
       "1    especie1    2          89\n",
       "2    especie1    3         114\n",
       "3    especie1    4          88\n",
       "4    especie1    5         124\n",
       "5    especie1   12         101\n",
       "6    especie1   13         100\n",
       "7    especie1    6         113\n",
       "8    especie1    7         109\n",
       "9    especie1    8         129\n",
       "10   especie1    9         118\n",
       "11   especie1   10         113\n",
       "12   especie1   11          96\n",
       "13   especie1   14          98\n",
       "14   especie1   15          92\n",
       "15   especie1   16          99\n",
       "16   especie1   17          88\n",
       "17   especie1   18          99\n",
       "18   especie1   19         129\n",
       "19   especie1   20         132\n",
       "20   especie1   21         114\n",
       "21   especie1   22         128\n",
       "22   especie1   23         105\n",
       "23   especie1   25          98\n",
       "24   especie1   26         111\n",
       "25   especie1   27          98\n",
       "26   especie1   28          96\n",
       "27   especie1   29         125\n",
       "28   especie1   30         107\n",
       "29   especie1   31         112\n",
       "..        ...  ...         ...\n",
       "337  especie7   71          82\n",
       "338  especie7   72          78\n",
       "339  especie7   73          88\n",
       "340  especie7   74          86\n",
       "341  especie7   75          82\n",
       "342  especie7   76          88\n",
       "343  especie7   77          85\n",
       "344  especie7   78          85\n",
       "345  especie7   79          91\n",
       "346  especie7   80          87\n",
       "347  especie7   81          88\n",
       "348  especie7   82         102\n",
       "349  especie7   83          90\n",
       "350  especie7   84          90\n",
       "351  especie7   85          85\n",
       "352  especie7   86          90\n",
       "353  especie7   87          76\n",
       "354  especie7   88          87\n",
       "355  especie7   89          86\n",
       "356  especie7   90          83\n",
       "357  especie7   91          80\n",
       "358  especie7   92          97\n",
       "359  especie7   93          83\n",
       "360  especie7   94          90\n",
       "361  especie7   95          98\n",
       "362  especie7   96          86\n",
       "363  especie7   97          90\n",
       "364  especie7   98          84\n",
       "365  especie7   99          84\n",
       "366  especie7  100          95\n",
       "\n",
       "[367 rows x 3 columns]"
      ]
     },
     "execution_count": 27,
     "metadata": {},
     "output_type": "execute_result"
    }
   ],
   "source": [
    "f = pd.read_csv(\"7sppMorfo_largototal.csv\")\n",
    "f"
   ]
  },
  {
   "cell_type": "markdown",
   "metadata": {},
   "source": [
    "# Describa el contenido del archivo que acaba de abrir."
   ]
  },
  {
   "cell_type": "code",
   "execution_count": null,
   "metadata": {},
   "outputs": [],
   "source": []
  },
  {
   "cell_type": "markdown",
   "metadata": {},
   "source": [
    "### Se pueden observar solo unas líneas del archiv con el comando `.head()`"
   ]
  },
  {
   "cell_type": "code",
   "execution_count": 28,
   "metadata": {},
   "outputs": [
    {
     "data": {
      "text/html": [
       "<div>\n",
       "<style scoped>\n",
       "    .dataframe tbody tr th:only-of-type {\n",
       "        vertical-align: middle;\n",
       "    }\n",
       "\n",
       "    .dataframe tbody tr th {\n",
       "        vertical-align: top;\n",
       "    }\n",
       "\n",
       "    .dataframe thead th {\n",
       "        text-align: right;\n",
       "    }\n",
       "</style>\n",
       "<table border=\"1\" class=\"dataframe\">\n",
       "  <thead>\n",
       "    <tr style=\"text-align: right;\">\n",
       "      <th></th>\n",
       "      <th>especie</th>\n",
       "      <th>org</th>\n",
       "      <th>long_total</th>\n",
       "    </tr>\n",
       "  </thead>\n",
       "  <tbody>\n",
       "    <tr>\n",
       "      <th>0</th>\n",
       "      <td>especie1</td>\n",
       "      <td>1</td>\n",
       "      <td>100</td>\n",
       "    </tr>\n",
       "    <tr>\n",
       "      <th>1</th>\n",
       "      <td>especie1</td>\n",
       "      <td>2</td>\n",
       "      <td>89</td>\n",
       "    </tr>\n",
       "    <tr>\n",
       "      <th>2</th>\n",
       "      <td>especie1</td>\n",
       "      <td>3</td>\n",
       "      <td>114</td>\n",
       "    </tr>\n",
       "    <tr>\n",
       "      <th>3</th>\n",
       "      <td>especie1</td>\n",
       "      <td>4</td>\n",
       "      <td>88</td>\n",
       "    </tr>\n",
       "    <tr>\n",
       "      <th>4</th>\n",
       "      <td>especie1</td>\n",
       "      <td>5</td>\n",
       "      <td>124</td>\n",
       "    </tr>\n",
       "  </tbody>\n",
       "</table>\n",
       "</div>"
      ],
      "text/plain": [
       "    especie  org  long_total\n",
       "0  especie1    1         100\n",
       "1  especie1    2          89\n",
       "2  especie1    3         114\n",
       "3  especie1    4          88\n",
       "4  especie1    5         124"
      ]
     },
     "execution_count": 28,
     "metadata": {},
     "output_type": "execute_result"
    }
   ],
   "source": [
    "f.head()"
   ]
  },
  {
   "cell_type": "markdown",
   "metadata": {},
   "source": [
    "### De manera similar se pueden observar las últimas líneas con el comando `tail()`"
   ]
  },
  {
   "cell_type": "code",
   "execution_count": 29,
   "metadata": {
    "scrolled": true
   },
   "outputs": [
    {
     "data": {
      "text/html": [
       "<div>\n",
       "<style scoped>\n",
       "    .dataframe tbody tr th:only-of-type {\n",
       "        vertical-align: middle;\n",
       "    }\n",
       "\n",
       "    .dataframe tbody tr th {\n",
       "        vertical-align: top;\n",
       "    }\n",
       "\n",
       "    .dataframe thead th {\n",
       "        text-align: right;\n",
       "    }\n",
       "</style>\n",
       "<table border=\"1\" class=\"dataframe\">\n",
       "  <thead>\n",
       "    <tr style=\"text-align: right;\">\n",
       "      <th></th>\n",
       "      <th>especie</th>\n",
       "      <th>org</th>\n",
       "      <th>long_total</th>\n",
       "    </tr>\n",
       "  </thead>\n",
       "  <tbody>\n",
       "    <tr>\n",
       "      <th>362</th>\n",
       "      <td>especie7</td>\n",
       "      <td>96</td>\n",
       "      <td>86</td>\n",
       "    </tr>\n",
       "    <tr>\n",
       "      <th>363</th>\n",
       "      <td>especie7</td>\n",
       "      <td>97</td>\n",
       "      <td>90</td>\n",
       "    </tr>\n",
       "    <tr>\n",
       "      <th>364</th>\n",
       "      <td>especie7</td>\n",
       "      <td>98</td>\n",
       "      <td>84</td>\n",
       "    </tr>\n",
       "    <tr>\n",
       "      <th>365</th>\n",
       "      <td>especie7</td>\n",
       "      <td>99</td>\n",
       "      <td>84</td>\n",
       "    </tr>\n",
       "    <tr>\n",
       "      <th>366</th>\n",
       "      <td>especie7</td>\n",
       "      <td>100</td>\n",
       "      <td>95</td>\n",
       "    </tr>\n",
       "  </tbody>\n",
       "</table>\n",
       "</div>"
      ],
      "text/plain": [
       "      especie  org  long_total\n",
       "362  especie7   96          86\n",
       "363  especie7   97          90\n",
       "364  especie7   98          84\n",
       "365  especie7   99          84\n",
       "366  especie7  100          95"
      ]
     },
     "execution_count": 29,
     "metadata": {},
     "output_type": "execute_result"
    }
   ],
   "source": [
    "f.tail()"
   ]
  },
  {
   "cell_type": "markdown",
   "metadata": {},
   "source": [
    "### _Ejercicio:_ utilizando los dos comandos anteriores, despliegue solo las primeras dos y las últimas dos línas del archivo abierto."
   ]
  },
  {
   "cell_type": "code",
   "execution_count": null,
   "metadata": {},
   "outputs": [],
   "source": []
  },
  {
   "cell_type": "code",
   "execution_count": null,
   "metadata": {},
   "outputs": [],
   "source": []
  },
  {
   "cell_type": "markdown",
   "metadata": {},
   "source": [
    "## Inserción de imágenes de la red"
   ]
  },
  {
   "cell_type": "code",
   "execution_count": 43,
   "metadata": {},
   "outputs": [],
   "source": [
    "import requests"
   ]
  },
  {
   "cell_type": "markdown",
   "metadata": {},
   "source": [
    "### Se va a insertar la imagen del logotipo de python de la dirección:\n",
    "https://www.python.org/static/community_logos/python-logo-master-v3-TM.png"
   ]
  },
  {
   "cell_type": "raw",
   "metadata": {},
   "source": [
    "<img src=\"https://www.python.org/static/community_logos/python-logo-master-v3-TM.png\">\n",
    "\n",
    "de la página oficial de [Python](https://www.python.org)\n",
    "\n",
    "<img src=\"./img/python_org.png\">"
   ]
  },
  {
   "cell_type": "markdown",
   "metadata": {},
   "source": [
    "<img src=\"https://www.python.org/static/community_logos/python-logo-master-v3-TM.png\">\n",
    "\n",
    "de la página oficial de [Python](https://www.python.org)"
   ]
  },
  {
   "cell_type": "markdown",
   "metadata": {},
   "source": [
    "<img src=\"./img/python_org.png\">"
   ]
  },
  {
   "cell_type": "markdown",
   "metadata": {},
   "source": [
    "Se asigna la dirección del logo a la variable"
   ]
  },
  {
   "cell_type": "code",
   "execution_count": 34,
   "metadata": {},
   "outputs": [
    {
     "name": "stdout",
     "output_type": "stream",
     "text": [
      "\u001b[31m7sppMorfo_largototal.csv\u001b[m\u001b[m* \u001b[34mmetagenomics\u001b[m\u001b[m/             \u001b[34mmetagenomics3\u001b[m\u001b[m/\r\n",
      "\u001b[34mfasta\u001b[m\u001b[m/                    \u001b[34mmetagenomics2\u001b[m\u001b[m/            \u001b[34msec_masiva\u001b[m\u001b[m/\r\n"
     ]
    }
   ],
   "source": [
    "ls "
   ]
  },
  {
   "cell_type": "code",
   "execution_count": 35,
   "metadata": {},
   "outputs": [
    {
     "data": {
      "text/plain": [
       "'/Users/migueldelrio/Desktop/bioinformatica_anotacion2019/data'"
      ]
     },
     "execution_count": 35,
     "metadata": {},
     "output_type": "execute_result"
    }
   ],
   "source": [
    "pwd"
   ]
  },
  {
   "cell_type": "code",
   "execution_count": 44,
   "metadata": {},
   "outputs": [],
   "source": [
    "image_url = \"https://www.python.org/static/community_logos/python-logo-master-v3-TM.png\""
   ]
  },
  {
   "cell_type": "code",
   "execution_count": 45,
   "metadata": {},
   "outputs": [],
   "source": [
    "r = requests.get(image_url)"
   ]
  },
  {
   "cell_type": "code",
   "execution_count": 46,
   "metadata": {},
   "outputs": [
    {
     "name": "stdout",
     "output_type": "stream",
     "text": [
      "Pierce287.3.14L13.S.S43046070.fasta  contigs.fa\r\n",
      "bacteria_NR_043902.fa                \u001b[34mimg\u001b[m\u001b[m/\r\n",
      "bacteria_NR_043902.gb                pierce16s.tsv\r\n",
      "\u001b[31mc_h_dloop.fasta\u001b[m\u001b[m*                     pierce_blastn16s.csv\r\n",
      "c_h_dloop_mega.fasta                 \u001b[31msecuencias_anotadas.fasta\u001b[m\u001b[m*\r\n",
      "c_h_dloop_mega.meg\r\n"
     ]
    }
   ],
   "source": [
    "ls "
   ]
  },
  {
   "cell_type": "code",
   "execution_count": 47,
   "metadata": {},
   "outputs": [],
   "source": [
    "with open(\"python_logo.png\", \"wb\") as f:\n",
    "    f.write(r.content)"
   ]
  },
  {
   "cell_type": "code",
   "execution_count": 50,
   "metadata": {},
   "outputs": [
    {
     "name": "stdout",
     "output_type": "stream",
     "text": [
      "/bin/sh: -c: line 0: syntax error near unexpected token `python_logo.png'\r\n",
      "/bin/sh: -c: line 0: `[](python_logo.png)'\r\n"
     ]
    }
   ],
   "source": [
    "![](python_logo.png)"
   ]
  },
  {
   "cell_type": "markdown",
   "metadata": {},
   "source": [
    "<img src=\"python_logo.png\">"
   ]
  },
  {
   "cell_type": "code",
   "execution_count": 48,
   "metadata": {},
   "outputs": [],
   "source": [
    "image_url = \"http://i3.ytimg.com/vi/J---aiyznGQ/mqdefault.jpg\"\n",
    "r = requests.get(image_url)\n",
    "with open(\"cat.jpg\", \"wb\") as f:\n",
    "    f.write(r.content)\n"
   ]
  },
  {
   "cell_type": "markdown",
   "metadata": {},
   "source": [
    "<img src=\"./cat.jpg\">"
   ]
  },
  {
   "cell_type": "code",
   "execution_count": 49,
   "metadata": {},
   "outputs": [
    {
     "name": "stdout",
     "output_type": "stream",
     "text": [
      "Pierce287.3.14L13.S.S43046070.fasta  contigs.fa\r\n",
      "bacteria_NR_043902.fa                \u001b[34mimg\u001b[m\u001b[m/\r\n",
      "bacteria_NR_043902.gb                pierce16s.tsv\r\n",
      "\u001b[31mc_h_dloop.fasta\u001b[m\u001b[m*                     pierce_blastn16s.csv\r\n",
      "c_h_dloop_mega.fasta                 python_logo.png\r\n",
      "c_h_dloop_mega.meg                   \u001b[31msecuencias_anotadas.fasta\u001b[m\u001b[m*\r\n",
      "cat.jpg\r\n"
     ]
    }
   ],
   "source": [
    "ls"
   ]
  },
  {
   "cell_type": "markdown",
   "metadata": {},
   "source": [
    "# Descargando una bitácora electrónica de la red (Github)"
   ]
  },
  {
   "cell_type": "code",
   "execution_count": 51,
   "metadata": {},
   "outputs": [],
   "source": [
    "image_url = \"https://raw.githubusercontent.com/mdelrio1/bioinformatica2019/master/jupyter/04_0_markdown.ipynb\"\n",
    "r = requests.get(image_url)\n",
    "with open(\"02_0_markdown.ipynb\", \"wb\") as f1:\n",
    "    f1.write(r.content)\n"
   ]
  },
  {
   "cell_type": "code",
   "execution_count": 52,
   "metadata": {},
   "outputs": [
    {
     "name": "stdout",
     "output_type": "stream",
     "text": [
      "02_0_markdown.ipynb                  cat.jpg\r\n",
      "Pierce287.3.14L13.S.S43046070.fasta  contigs.fa\r\n",
      "bacteria_NR_043902.fa                \u001b[34mimg\u001b[m\u001b[m/\r\n",
      "bacteria_NR_043902.gb                pierce16s.tsv\r\n",
      "\u001b[31mc_h_dloop.fasta\u001b[m\u001b[m*                     pierce_blastn16s.csv\r\n",
      "c_h_dloop_mega.fasta                 python_logo.png\r\n",
      "c_h_dloop_mega.meg                   \u001b[31msecuencias_anotadas.fasta\u001b[m\u001b[m*\r\n"
     ]
    }
   ],
   "source": [
    "ls"
   ]
  },
  {
   "cell_type": "code",
   "execution_count": 53,
   "metadata": {
    "scrolled": true
   },
   "outputs": [
    {
     "name": "stdout",
     "output_type": "stream",
     "text": [
      "{\r\n",
      " \"cells\": [\r\n",
      "  {\r\n",
      "   \"cell_type\": \"markdown\",\r\n",
      "   \"metadata\": {},\r\n",
      "   \"source\": [\r\n",
      "    \"# [Markdown](https://github.com/adam-p/markdown-here/wiki/Markdown-Cheatsheet) \\n\",\r\n",
      "    \"Es un lenguaje marcado de escritura breve para la publicación de texto en html. Se puede utilizar para la publicación de manera consistente en [internet](https://markdown.es).\\n\",\r\n",
      "    \"Existen diferentes versiones de *Markdown* por lo que no hay un estándar. A pesar de esto se darán unos comandos básicos para su uso.\\n\",\r\n",
      "    \"### A continuación se dan unos comandos, se recomienda consultar la página https://github.com/adam-p/markdown-here/wiki/Markdown-Cheatsheet para más información  \"\r\n"
     ]
    }
   ],
   "source": [
    "!head 02_0_markdown.ipynb"
   ]
  },
  {
   "cell_type": "code",
   "execution_count": null,
   "metadata": {},
   "outputs": [],
   "source": []
  }
 ],
 "metadata": {
  "kernelspec": {
   "display_name": "Python 3",
   "language": "python",
   "name": "python3"
  },
  "language_info": {
   "codemirror_mode": {
    "name": "ipython",
    "version": 3
   },
   "file_extension": ".py",
   "mimetype": "text/x-python",
   "name": "python",
   "nbconvert_exporter": "python",
   "pygments_lexer": "ipython3",
   "version": "3.7.1"
  }
 },
 "nbformat": 4,
 "nbformat_minor": 2
}
