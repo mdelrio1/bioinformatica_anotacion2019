{
 "cells": [
  {
   "cell_type": "markdown",
   "metadata": {},
   "source": [
    "<img src=\"./img/posterdifusion.png\" width = 60%>"
   ]
  },
  {
   "cell_type": "markdown",
   "metadata": {},
   "source": [
    "# <p align=\"center\">Temario</p> \n",
    "# Secuenciación masiva y anotación de genes.\n",
    "# <p align=\"center\">*UAM Iztapalapa* </p>\n",
    "\n",
    "---\n",
    "## <p align=\"right\"> Dr. Miguel Angel del Río Portilla </p>\n",
    "## <p align=\"right\"> M. en C. Eduardo Zúñiga León </p> \n",
    "## <p align=\"right\"> Dra. Erika Magallón Gayón</p>\n"
   ]
  },
  {
   "cell_type": "markdown",
   "metadata": {},
   "source": [
    "## I. Introducción \n",
    "1. Introducción \n",
    "2. ¿Qué es la bioinformática?\n",
    "3. Código Genético\n",
    "4. Secuenciación del DNA \n",
    "    1. Sanger\n",
    "    2. Masiva (secuenciación de siguiente generación)\n",
    "    3. Archivos de información genética\n",
    "    4. Páginas de información genética en la red\n",
    "5. Secuenciación masiva \n",
    "    1. Secuenciadores masivos\n",
    "    2. Secuenciación genómica (WBS, RAD-seq, etc.)\n",
    "    3. Secuenciación transcriptómica (RNA-seq)\n",
    "6. Lenguajes para el análisis de secuencias\n",
    "    1. Linux\n",
    "    2. Python\n",
    "    3. Instalación de programas\n",
    "        1. [Git bash, para *Windows*®](https://gitforwindows.org)\n",
    "        2. Anaconda [distribución python](https://www.anaconda.com) y [repositorio](https://anaconda.org/)\n",
    "        3. [Github](https://desktop.github.com) \n",
    "7. [Jupyter](https://jupyter.org/about)\n",
    "    1. Creación de bitácoras electrónicas\n",
    "    2. Markdown\n",
    "    3. Ejecución de comandos \n",
    "    4. Ejercicios\n",
    "        + Navegación por los directorios\n",
    "        + Creación y manejo de archivos\n",
    "        + Descarga de archivos de la red\n",
    "\t5. [Python](https://www.python.org)\n",
    "        + Creación y manejo de directorios\n",
    "        + Navegación por los directorios\n",
    "        + Listado, creación y manejo de archivos\n",
    "        + Comandos básicos (variables, concatenación, ciclos, etc.)\n",
    "        + Actualización de bases de datos desde el NCBI"
   ]
  },
  {
   "cell_type": "markdown",
   "metadata": {},
   "source": [
    "## II. [Biopython](https://biopython.org)\n",
    "1. Instalación\n",
    "2. Manejo de archivos de secuenciación\n",
    "3. Estadística descriptiva y graficado de datos de las secuencias\n",
    "4. Manejo de archivos con formato fasta y GenBank\n",
    "5. Ejercicios con secuencias y datos tabulares\n",
    "6. Archivos Fastq\n",
    "7. Descripción de las secuencias (tamaño y composición)"
   ]
  },
  {
   "cell_type": "markdown",
   "metadata": {},
   "source": [
    "## III. Secuenciación masiva\n",
    "1. Calidad de las secuencias\n",
    "2. Ensamblaje\n",
    "    1. Ensamblaje _De Novo_\n",
    "    2. Descripción de los contigs obtenidos\n",
    "3. Anotación mediante Blast\n",
    "    1. Instalación\n",
    "    2. Descargado y creación de bases de datos (nucleótidos y proteínas)\n",
    "    3. Blastn\n",
    "    4. Blastx\n",
    "    5. Manejo de archivos de salida del Blast\n"
   ]
  },
  {
   "cell_type": "markdown",
   "metadata": {},
   "source": [
    "## IV. Anotación funcional\n",
    "1. Introducción\n",
    "2. Base de datos de Ontología Genética (GO)\n",
    "3. Fuentes de Anotación\n",
    "4. Búsqueda de posibles ortólogos con Blast para GO\n",
    "5. Creación de gráficos con datos de GO\n",
    "6. Búsqueda de posibles ortólogos con Blast para GO\n",
    "7. Creación de gráficos con datos de GO\n",
    "\n",
    "## V Anotación de genomas mitocondriales\n",
    "1. [Mitos](http://mitos.bioinf.uni-leipzig.de/index.py)\n",
    "2. [Mitofish](http://mitofish.aori.u-tokyo.ac.jp)\n",
    "3. [MitoZ](https://github.com/linzhi2013/MitoZ)\n"
   ]
  },
  {
   "cell_type": "markdown",
   "metadata": {},
   "source": [
    "## VI. Microsatélites y biopython\n",
    "1. Búsqueda de motivos de repetición\n",
    "2. [msatCommander](https://github.com/brantfaircloth/msatcommander) y [Krait](https://github.com/lmdu/krait)\n",
    "3. Manejo y graficado de datos de salida\n",
    "4. Blast y, en su caso, anotación de las secuencias con microsatélites\n"
   ]
  },
  {
   "cell_type": "markdown",
   "metadata": {},
   "source": [
    "## VII. Resumen \n",
    "Revisión general y perspectivas.\n"
   ]
  },
  {
   "cell_type": "markdown",
   "metadata": {},
   "source": [
    "<img src=\"./img/PosterDifusion201909.png\" width = 60%>"
   ]
  },
  {
   "cell_type": "code",
   "execution_count": null,
   "metadata": {},
   "outputs": [],
   "source": []
  },
  {
   "cell_type": "code",
   "execution_count": null,
   "metadata": {},
   "outputs": [],
   "source": []
  },
  {
   "cell_type": "markdown",
   "metadata": {},
   "source": [
    "# Recomendaciones para escribir los nombre de archivos de secuenciación masiva:"
   ]
  },
  {
   "cell_type": "markdown",
   "metadata": {},
   "source": [
    "1. Guardar los datos y resultados en carpetas separadas por cada experimento o grupo de muestras.\n",
    "2. Usar solo minúsculas\n",
    "2. **Nunca** usar caracteres especiales por ejemplo: **espacios**, letras acentuadas, !@#$%^&*()+{}[]=\n",
    "3. Solo se permite el uso de _ y, **ocasionalmente**, -\n",
    "4. No se recomienda alternar entre mayúsculas y minúscudas p. e.: `Archivo_BaseDatos`\n",
    "\n",
    "El uso de estas recomendaciones le ahorrará tiempo y esfuerzo en el futuro del análisis de la secuencias"
   ]
  },
  {
   "cell_type": "code",
   "execution_count": null,
   "metadata": {},
   "outputs": [],
   "source": []
  }
 ],
 "metadata": {
  "kernelspec": {
   "display_name": "Python 3",
   "language": "python",
   "name": "python3"
  },
  "language_info": {
   "codemirror_mode": {
    "name": "ipython",
    "version": 3
   },
   "file_extension": ".py",
   "mimetype": "text/x-python",
   "name": "python",
   "nbconvert_exporter": "python",
   "pygments_lexer": "ipython3",
   "version": "3.7.1"
  }
 },
 "nbformat": 4,
 "nbformat_minor": 2
}
