{
 "cells": [
  {
   "cell_type": "markdown",
   "metadata": {},
   "source": [
    "<img src =\"img/biopython_logo_white.png\" width = 10%>"
   ]
  },
  {
   "cell_type": "markdown",
   "metadata": {},
   "source": [
    "# [Biopython](https://biopython.org) \n",
    "1. [Instalación](https://anaconda.org/)\n",
    "2. Manejo de archivos de secuenciación\n",
    "3. Estadística descriptiva y graficado de datos de las secuencias\n",
    "4. Manejo de archivos con formato fasta y GenBank\n",
    "5. Ejercicios con secuencias y datos tabulares\n",
    "6. Archivos fastq\n",
    "7. Descripción de las secuencias (tamaño y composición)\n"
   ]
  },
  {
   "cell_type": "markdown",
   "metadata": {},
   "source": [
    "### 1. [Instalación](https://anaconda.org/)\n",
    "    1. Windows `conda install -c conda-forge biopython`\n",
    "    2. Bioconda `conda install -c bioconda biopython`\n",
    "    3. Desde el navegador de anaconda"
   ]
  },
  {
   "cell_type": "markdown",
   "metadata": {},
   "source": [
    "Se cargan los paquetes para el manejo de las secuencias"
   ]
  },
  {
   "cell_type": "code",
   "execution_count": 1,
   "metadata": {},
   "outputs": [],
   "source": [
    "from Bio import SeqIO\n",
    "from pandas import DataFrame\n",
    "import pandas as pd\n",
    "from Bio.SeqUtils import GC\n",
    "import pylab as pl\n",
    "from pylab import *"
   ]
  },
  {
   "cell_type": "markdown",
   "metadata": {},
   "source": [
    "# Descripcion del ensamblaje de novo obtenido con el programa _Soapdenovo_\n",
    "Los resultados están en:"
   ]
  },
  {
   "cell_type": "code",
   "execution_count": 5,
   "metadata": {},
   "outputs": [
    {
     "name": "stdout",
     "output_type": "stream",
     "text": [
      "/Users/migueldelrio/Desktop/bioinformatica_anotacion2019/data/sec_masiva/fastqc/output_directory\n"
     ]
    }
   ],
   "source": [
    "cd ~/Desktop/bioinformatica_anotacion2019/data/sec_masiva/fastqc/output_directory/"
   ]
  },
  {
   "cell_type": "markdown",
   "metadata": {},
   "source": [
    "## El archivo a analizar es:"
   ]
  },
  {
   "cell_type": "code",
   "execution_count": 8,
   "metadata": {},
   "outputs": [
    {
     "name": "stdout",
     "output_type": "stream",
     "text": [
      "output31.contig\r\n"
     ]
    }
   ],
   "source": [
    "ls *.contig"
   ]
  },
  {
   "cell_type": "code",
   "execution_count": null,
   "metadata": {},
   "outputs": [],
   "source": []
  },
  {
   "cell_type": "code",
   "execution_count": 9,
   "metadata": {},
   "outputs": [],
   "source": [
    "# Funcion para determinar el grado de CpG que son regiones asociadas con la presencia de proteínas\n",
    "def cpg(secuencia):\n",
    "    g= secuencia.count(\"G\")\n",
    "    c= secuencia.count(\"C\")\n",
    "    cg= secuencia.count(\"CG\")\n",
    "    lar= len(secuencia)\n",
    "    cpG=0\n",
    "    try:\n",
    "        g*c==0\n",
    "    except:\n",
    "        cpG=0\n",
    "    else:\n",
    "        if g == 0 or c== 0:\n",
    "            cpG =0\n",
    "        else:\n",
    "            cpG=(round(cg/(g*c)*(lar**2/(lar-1)) ,8))\n",
    "    return (cpG)"
   ]
  },
  {
   "cell_type": "code",
   "execution_count": null,
   "metadata": {},
   "outputs": [],
   "source": []
  },
  {
   "cell_type": "markdown",
   "metadata": {},
   "source": [
    "### Manejo de archivos fasta"
   ]
  },
  {
   "cell_type": "code",
   "execution_count": null,
   "metadata": {},
   "outputs": [],
   "source": [
    "#cd ~/Desktop/data/fasta"
   ]
  },
  {
   "cell_type": "code",
   "execution_count": null,
   "metadata": {},
   "outputs": [],
   "source": [
    "f = open('output31.contig', 'r')\n",
    "for rec in SeqIO.parse(f, \"fasta\"):\n",
    "    print(rec.id, rec.description, rec.seq[:20])\n"
   ]
  },
  {
   "cell_type": "code",
   "execution_count": null,
   "metadata": {},
   "outputs": [],
   "source": [
    "# para imprimir el número de las secuencias"
   ]
  },
  {
   "cell_type": "code",
   "execution_count": null,
   "metadata": {},
   "outputs": [],
   "source": [
    "n=0\n",
    "f = open('output31.contig', 'r')\n",
    "for rec in SeqIO.parse(f, \"fasta\"):\n",
    "    n+=1\n",
    "    print(n,rec.id, rec.description, rec.seq[:20])\n"
   ]
  },
  {
   "cell_type": "code",
   "execution_count": null,
   "metadata": {},
   "outputs": [],
   "source": []
  },
  {
   "cell_type": "markdown",
   "metadata": {},
   "source": [
    "#### Modifique la siguiente celda para que solo muestre los 10 primeros datos"
   ]
  },
  {
   "cell_type": "code",
   "execution_count": 13,
   "metadata": {},
   "outputs": [
    {
     "name": "stdout",
     "output_type": "stream",
     "text": [
      "1 1 length 32 cvg_0.0_tip_0 AAAAAAGTACAGGCTCTGAA\n",
      "3 3 length 32 cvg_0.0_tip_0 AAAAATTAGAAACATCCTTT\n",
      "5 5 length 32 cvg_0.0_tip_0 AAAACACACACACACACACA\n",
      "7 7 length 32 cvg_0.0_tip_0 AAAAGCTAATTCATGCATTT\n",
      "9 9 length 32 cvg_0.0_tip_0 AAAAGGGAGTTTTTCCTTCC\n",
      "11 11 length 32 cvg_0.0_tip_0 AAACACACACACACACACAC\n",
      "13 13 length 32 cvg_0.0_tip_0 AAACCAAGCACCTAGGCATG\n",
      "15 15 length 32 cvg_0.0_tip_0 AAACTCCATTCAAACTGCTT\n",
      "17 17 length 32 cvg_0.0_tip_0 AAACTGCTTCCAAACATGAT\n",
      "19 19 length 32 cvg_0.0_tip_0 AAAGCTCAAAAATCACATAA\n"
     ]
    }
   ],
   "source": [
    "n=0\n",
    "f = open('output31.contig', 'r')\n",
    "for rec in SeqIO.parse(f, \"fasta\"):\n",
    "    print(rec.id, rec.description, rec.seq[:20])\n",
    "    n+=1\n",
    "    if n==10:\n",
    "        break"
   ]
  },
  {
   "cell_type": "markdown",
   "metadata": {},
   "source": [
    "#### Modifique la siguiente celda para que solo el identificador de los 10 primeros datos"
   ]
  },
  {
   "cell_type": "code",
   "execution_count": null,
   "metadata": {},
   "outputs": [],
   "source": [
    "f = open('contigs.fa', 'r')\n",
    "for rec in SeqIO.parse(f, \"fasta\"):\n",
    "    print(rec.id, rec.description, rec.seq[:20])\n"
   ]
  },
  {
   "cell_type": "markdown",
   "metadata": {},
   "source": [
    "### Describa su experiencia"
   ]
  },
  {
   "cell_type": "code",
   "execution_count": null,
   "metadata": {},
   "outputs": [],
   "source": []
  },
  {
   "cell_type": "code",
   "execution_count": null,
   "metadata": {},
   "outputs": [],
   "source": []
  },
  {
   "cell_type": "code",
   "execution_count": null,
   "metadata": {},
   "outputs": [],
   "source": []
  },
  {
   "cell_type": "code",
   "execution_count": null,
   "metadata": {},
   "outputs": [],
   "source": []
  },
  {
   "cell_type": "markdown",
   "metadata": {},
   "source": [
    "### Para localizar una secuencia en particular se puede utilizar:\n",
    "P.e. buscar la secuencia \"NODE_302_length_229_cov_1.816594\" y que despliegue toda la secuencias"
   ]
  },
  {
   "cell_type": "code",
   "execution_count": 15,
   "metadata": {},
   "outputs": [
    {
     "name": "stdout",
     "output_type": "stream",
     "text": [
      "17933 17933 length 660 cvg_1.0_tip_1 CCTTCTCCCATATGCTCTTCCAGTATTGCTCTGTCTCCAGCCTTGGTGGGGGTGCTATTTTCATATTGTTCCCCTGCCACTGAGAGTATACCTTGGATGGTTCGGTGGAGAACATCCGGTTTATTTTCCTGGCTTCTATCTCTCTGGTATCCCTCTTCAGGCGGTTAGCCAAGGCTGTAAGCCTTTGCTTGGCAGTCTCTAAGGCCTCAGGTATAGACAGCCCGTTGTACTTCTTAGGCACTGCTTTCTTCTTCATCCCACGTTTCTGCAACTCTGAGAGCTGGCTAACTTCCCTCCGTGCTGCCTTGATCTTAGCCTCTAATCGTCGTTTCCATGGAGGGTACTGCTCCTTAGTGCTGTTCATCTTATAGCCAAGCATCTCGAGGATCACTGCTGCCGTGTTATACATCAACTGATTGGTTTCAGTGATGGTACTGGTAGGGATTGTCCGTAGTGCTGCATTCGCATCTTCCAGTAGATCTTCAGAGAGTACTTCACACCTTGGTAGTCGGCGTCGAGGGGTCCAGTTTGCCTTCTTAGCCATGATCTTATCTTTCAGGTCAGCTGCTCTGCTATTTAGTGTACTTGTTTGTGGTAGTGGGCTTGGTACACAATCTCGGAGTGTGGGGATGATGAAATATCCCCCCTGACCTGTCGTCC\n"
     ]
    }
   ],
   "source": [
    "f = open('output31.contig', 'r')\n",
    "for rec in SeqIO.parse(f, \"fasta\"):\n",
    "    if rec.id == \"17933\":\n",
    "        print(rec.id, rec.description, rec.seq)\n"
   ]
  },
  {
   "cell_type": "markdown",
   "metadata": {},
   "source": [
    "En la siguiente celda modifique para que además imprima en una línea nueva el reverso complementario de la secuencias"
   ]
  },
  {
   "cell_type": "code",
   "execution_count": 16,
   "metadata": {},
   "outputs": [
    {
     "name": "stdout",
     "output_type": "stream",
     "text": [
      "17933 17933 length 660 cvg_1.0_tip_1 CCTTCTCCCATATGCTCTTCCAGTATTGCTCTGTCTCCAGCCTTGGTGGGGGTGCTATTTTCATATTGTTCCCCTGCCACTGAGAGTATACCTTGGATGGTTCGGTGGAGAACATCCGGTTTATTTTCCTGGCTTCTATCTCTCTGGTATCCCTCTTCAGGCGGTTAGCCAAGGCTGTAAGCCTTTGCTTGGCAGTCTCTAAGGCCTCAGGTATAGACAGCCCGTTGTACTTCTTAGGCACTGCTTTCTTCTTCATCCCACGTTTCTGCAACTCTGAGAGCTGGCTAACTTCCCTCCGTGCTGCCTTGATCTTAGCCTCTAATCGTCGTTTCCATGGAGGGTACTGCTCCTTAGTGCTGTTCATCTTATAGCCAAGCATCTCGAGGATCACTGCTGCCGTGTTATACATCAACTGATTGGTTTCAGTGATGGTACTGGTAGGGATTGTCCGTAGTGCTGCATTCGCATCTTCCAGTAGATCTTCAGAGAGTACTTCACACCTTGGTAGTCGGCGTCGAGGGGTCCAGTTTGCCTTCTTAGCCATGATCTTATCTTTCAGGTCAGCTGCTCTGCTATTTAGTGTACTTGTTTGTGGTAGTGGGCTTGGTACACAATCTCGGAGTGTGGGGATGATGAAATATCCCCCCTGACCTGTCGTCC\n",
      "GGACGACAGGTCAGGGGGGATATTTCATCATCCCCACACTCCGAGATTGTGTACCAAGCCCACTACCACAAACAAGTACACTAAATAGCAGAGCAGCTGACCTGAAAGATAAGATCATGGCTAAGAAGGCAAACTGGACCCCTCGACGCCGACTACCAAGGTGTGAAGTACTCTCTGAAGATCTACTGGAAGATGCGAATGCAGCACTACGGACAATCCCTACCAGTACCATCACTGAAACCAATCAGTTGATGTATAACACGGCAGCAGTGATCCTCGAGATGCTTGGCTATAAGATGAACAGCACTAAGGAGCAGTACCCTCCATGGAAACGACGATTAGAGGCTAAGATCAAGGCAGCACGGAGGGAAGTTAGCCAGCTCTCAGAGTTGCAGAAACGTGGGATGAAGAAGAAAGCAGTGCCTAAGAAGTACAACGGGCTGTCTATACCTGAGGCCTTAGAGACTGCCAAGCAAAGGCTTACAGCCTTGGCTAACCGCCTGAAGAGGGATACCAGAGAGATAGAAGCCAGGAAAATAAACCGGATGTTCTCCACCGAACCATCCAAGGTATACTCTCAGTGGCAGGGGAACAATATGAAAATAGCACCCCCACCAAGGCTGGAGACAGAGCAATACTGGAAGAGCATATGGGAGAAGG\n"
     ]
    }
   ],
   "source": [
    "f = open('output31.contig', 'r')\n",
    "for rec in SeqIO.parse(f, \"fasta\"):\n",
    "    if rec.id == \"17933\":\n",
    "        print(rec.id, rec.description, rec.seq)\n",
    "        print(rec.seq.reverse_complement())\n"
   ]
  },
  {
   "cell_type": "markdown",
   "metadata": {},
   "source": [
    "Modifique la siguiente celda para que solo muestre los primeros 20 nucleótidos de la secuencia `17933` y los últimos 20 nucleótidos de la reverso complementaria"
   ]
  },
  {
   "cell_type": "code",
   "execution_count": 17,
   "metadata": {},
   "outputs": [
    {
     "name": "stdout",
     "output_type": "stream",
     "text": [
      "17933 17933 length 660 cvg_1.0_tip_1 \n",
      "CCTTCTCCCATATGCTCTTCCAGTATTGCTCTGTCTCCAGCCTTGGTGGGGGTGCTATTTTCATATTGTTCCCCTGCCACTGAGAGTATACCTTGGATGGTTCGGTGGAGAACATCCGGTTTATTTTCCTGGCTTCTATCTCTCTGGTATCCCTCTTCAGGCGGTTAGCCAAGGCTGTAAGCCTTTGCTTGGCAGTCTCTAAGGCCTCAGGTATAGACAGCCCGTTGTACTTCTTAGGCACTGCTTTCTTCTTCATCCCACGTTTCTGCAACTCTGAGAGCTGGCTAACTTCCCTCCGTGCTGCCTTGATCTTAGCCTCTAATCGTCGTTTCCATGGAGGGTACTGCTCCTTAGTGCTGTTCATCTTATAGCCAAGCATCTCGAGGATCACTGCTGCCGTGTTATACATCAACTGATTGGTTTCAGTGATGGTACTGGTAGGGATTGTCCGTAGTGCTGCATTCGCATCTTCCAGTAGATCTTCAGAGAGTACTTCACACCTTGGTAGTCGGCGTCGAGGGGTCCAGTTTGCCTTCTTAGCCATGATCTTATCTTTCAGGTCAGCTGCTCTGCTATTTAGTGTACTTGTTTGTGGTAGTGGGCTTGGTACACAATCTCGGAGTGTGGGGATGATGAAATATCCCCCCTGACCTGTCGTCC\n",
      "GGACGACAGGTCAGGGGGGATATTTCATCATCCCCACACTCCGAGATTGTGTACCAAGCCCACTACCACAAACAAGTACACTAAATAGCAGAGCAGCTGACCTGAAAGATAAGATCATGGCTAAGAAGGCAAACTGGACCCCTCGACGCCGACTACCAAGGTGTGAAGTACTCTCTGAAGATCTACTGGAAGATGCGAATGCAGCACTACGGACAATCCCTACCAGTACCATCACTGAAACCAATCAGTTGATGTATAACACGGCAGCAGTGATCCTCGAGATGCTTGGCTATAAGATGAACAGCACTAAGGAGCAGTACCCTCCATGGAAACGACGATTAGAGGCTAAGATCAAGGCAGCACGGAGGGAAGTTAGCCAGCTCTCAGAGTTGCAGAAACGTGGGATGAAGAAGAAAGCAGTGCCTAAGAAGTACAACGGGCTGTCTATACCTGAGGCCTTAGAGACTGCCAAGCAAAGGCTTACAGCCTTGGCTAACCGCCTGAAGAGGGATACCAGAGAGATAGAAGCCAGGAAAATAAACCGGATGTTCTCCACCGAACCATCCAAGGTATACTCTCAGTGGCAGGGGAACAATATGAAAATAGCACCCCCACCAAGGCTGGAGACAGAGCAATACTGGAAGAGCATATGGGAGAAGG\n"
     ]
    }
   ],
   "source": [
    "f = open('output31.contig', 'r')\n",
    "for rec in SeqIO.parse(f, \"fasta\"):\n",
    "    if rec.id == \"17933\":\n",
    "        print(rec.id, rec.description, \"\\n\"+rec.seq)\n",
    "        print(rec.seq.reverse_complement())\n"
   ]
  },
  {
   "cell_type": "code",
   "execution_count": null,
   "metadata": {},
   "outputs": [],
   "source": []
  },
  {
   "cell_type": "markdown",
   "metadata": {},
   "source": [
    "## Obtención de la longitud, contenido de GC y CpG de cada secuencia para graficarlos"
   ]
  },
  {
   "cell_type": "code",
   "execution_count": 18,
   "metadata": {},
   "outputs": [
    {
     "data": {
      "text/html": [
       "<div>\n",
       "<style scoped>\n",
       "    .dataframe tbody tr th:only-of-type {\n",
       "        vertical-align: middle;\n",
       "    }\n",
       "\n",
       "    .dataframe tbody tr th {\n",
       "        vertical-align: top;\n",
       "    }\n",
       "\n",
       "    .dataframe thead th {\n",
       "        text-align: right;\n",
       "    }\n",
       "</style>\n",
       "<table border=\"1\" class=\"dataframe\">\n",
       "  <thead>\n",
       "    <tr style=\"text-align: right;\">\n",
       "      <th></th>\n",
       "      <th>contigs</th>\n",
       "      <th>length</th>\n",
       "      <th>GC</th>\n",
       "      <th>CpG</th>\n",
       "    </tr>\n",
       "  </thead>\n",
       "  <tbody>\n",
       "    <tr>\n",
       "      <th>0</th>\n",
       "      <td>1</td>\n",
       "      <td>32</td>\n",
       "      <td>34.375</td>\n",
       "      <td>0.0</td>\n",
       "    </tr>\n",
       "    <tr>\n",
       "      <th>1</th>\n",
       "      <td>3</td>\n",
       "      <td>32</td>\n",
       "      <td>31.250</td>\n",
       "      <td>0.0</td>\n",
       "    </tr>\n",
       "  </tbody>\n",
       "</table>\n",
       "</div>"
      ],
      "text/plain": [
       "  contigs  length      GC  CpG\n",
       "0       1      32  34.375  0.0\n",
       "1       3      32  31.250  0.0"
      ]
     },
     "execution_count": 18,
     "metadata": {},
     "output_type": "execute_result"
    }
   ],
   "source": [
    "# se abre el archivo \n",
    "f = open('output31.contig', 'r')\n",
    "sizes = [(rec.name, len(rec), round(GC(rec.seq),4), cpg(rec.seq)) for rec in SeqIO.parse(f, \"fasta\")]\n",
    "sizes = DataFrame(sizes,columns= [\"contigs\", \"length\", \"GC\", \"CpG\"])\n",
    "sizes.head(2)"
   ]
  },
  {
   "cell_type": "markdown",
   "metadata": {},
   "source": [
    "### Explique qué hace la línea\n",
    "`sizes = [(rec.name, len(rec), round(GC(rec.seq),4), cpg(rec.seq)) for rec in SeqIO.parse(f, \"fasta\")]`\n",
    "descríbalo de izquierda a derecha"
   ]
  },
  {
   "cell_type": "code",
   "execution_count": null,
   "metadata": {},
   "outputs": [],
   "source": []
  },
  {
   "cell_type": "markdown",
   "metadata": {},
   "source": [
    "#### Se tiene entonces una variable `sizes` con la información de la longitud de la secuencia, su contenido de GC y de CpG\n",
    "Para obtener la estadística básica de estas variables, se usa el comando `.describe()`\n",
    "Este comando solo toma en cuenta las variables que tienen valores."
   ]
  },
  {
   "cell_type": "code",
   "execution_count": 20,
   "metadata": {},
   "outputs": [
    {
     "data": {
      "text/html": [
       "<div>\n",
       "<style scoped>\n",
       "    .dataframe tbody tr th:only-of-type {\n",
       "        vertical-align: middle;\n",
       "    }\n",
       "\n",
       "    .dataframe tbody tr th {\n",
       "        vertical-align: top;\n",
       "    }\n",
       "\n",
       "    .dataframe thead th {\n",
       "        text-align: right;\n",
       "    }\n",
       "</style>\n",
       "<table border=\"1\" class=\"dataframe\">\n",
       "  <thead>\n",
       "    <tr style=\"text-align: right;\">\n",
       "      <th></th>\n",
       "      <th>length</th>\n",
       "      <th>GC</th>\n",
       "      <th>CpG</th>\n",
       "    </tr>\n",
       "  </thead>\n",
       "  <tbody>\n",
       "    <tr>\n",
       "      <th>count</th>\n",
       "      <td>8973.00</td>\n",
       "      <td>8973.00</td>\n",
       "      <td>8973.00</td>\n",
       "    </tr>\n",
       "    <tr>\n",
       "      <th>mean</th>\n",
       "      <td>216.03</td>\n",
       "      <td>42.43</td>\n",
       "      <td>0.36</td>\n",
       "    </tr>\n",
       "    <tr>\n",
       "      <th>std</th>\n",
       "      <td>101.78</td>\n",
       "      <td>7.29</td>\n",
       "      <td>0.33</td>\n",
       "    </tr>\n",
       "    <tr>\n",
       "      <th>min</th>\n",
       "      <td>32.00</td>\n",
       "      <td>12.12</td>\n",
       "      <td>0.00</td>\n",
       "    </tr>\n",
       "    <tr>\n",
       "      <th>25%</th>\n",
       "      <td>144.00</td>\n",
       "      <td>37.50</td>\n",
       "      <td>0.13</td>\n",
       "    </tr>\n",
       "    <tr>\n",
       "      <th>50%</th>\n",
       "      <td>234.00</td>\n",
       "      <td>41.94</td>\n",
       "      <td>0.30</td>\n",
       "    </tr>\n",
       "    <tr>\n",
       "      <th>75%</th>\n",
       "      <td>251.00</td>\n",
       "      <td>46.96</td>\n",
       "      <td>0.50</td>\n",
       "    </tr>\n",
       "    <tr>\n",
       "      <th>max</th>\n",
       "      <td>908.00</td>\n",
       "      <td>94.04</td>\n",
       "      <td>4.13</td>\n",
       "    </tr>\n",
       "  </tbody>\n",
       "</table>\n",
       "</div>"
      ],
      "text/plain": [
       "        length       GC      CpG\n",
       "count  8973.00  8973.00  8973.00\n",
       "mean    216.03    42.43     0.36\n",
       "std     101.78     7.29     0.33\n",
       "min      32.00    12.12     0.00\n",
       "25%     144.00    37.50     0.13\n",
       "50%     234.00    41.94     0.30\n",
       "75%     251.00    46.96     0.50\n",
       "max     908.00    94.04     4.13"
      ]
     },
     "execution_count": 20,
     "metadata": {},
     "output_type": "execute_result"
    }
   ],
   "source": [
    "sizes.describe().round(2)"
   ]
  },
  {
   "cell_type": "markdown",
   "metadata": {},
   "source": [
    "### Para obtener el histograma de la distribución de los datos de longitud de las secuencias se utiliza el paquete _pylab_ (como pl, si es necesario revise la celda en donde se importaron los paquetes)"
   ]
  },
  {
   "cell_type": "code",
   "execution_count": 21,
   "metadata": {},
   "outputs": [
    {
     "data": {
      "image/png": "[encoded data removed]",
      "text/plain": [
       "<Figure size 432x288 with 1 Axes>"
      ]
     },
     "metadata": {
      "needs_background": "light"
     },
     "output_type": "display_data"
    }
   ],
   "source": [
    "pl.hist(sizes['length'], bins=20)\n",
    "pl.title(\"%i output31.contig\\nLengths %i to %i\" \\\n",
    "            % (len(sizes[\"length\"]),min(sizes['length']),max(sizes['length'])))\n",
    "pl.xlabel(\"Sequence length (bp)\")\n",
    "pl.ylabel(\"Count\")\n",
    "#pl.legend().set_visible(False)\n",
    "pl.show()"
   ]
  },
  {
   "cell_type": "markdown",
   "metadata": {},
   "source": [
    "### Describa la grafica "
   ]
  },
  {
   "cell_type": "code",
   "execution_count": null,
   "metadata": {},
   "outputs": [],
   "source": []
  },
  {
   "cell_type": "code",
   "execution_count": null,
   "metadata": {},
   "outputs": [],
   "source": []
  },
  {
   "cell_type": "markdown",
   "metadata": {},
   "source": [
    "### En caso de que se desee observar los datos de donde salió la gráfica anterior se ejecuta:"
   ]
  },
  {
   "cell_type": "code",
   "execution_count": 22,
   "metadata": {
    "scrolled": true
   },
   "outputs": [
    {
     "data": {
      "text/plain": [
       "(-0.001, 100.0]    1176\n",
       "(100.0, 200.0]     2348\n",
       "(200.0, 300.0]     3930\n",
       "(300.0, 400.0]     1034\n",
       "(400.0, 500.0]      464\n",
       "(500.0, 600.0]       11\n",
       "(600.0, 700.0]        7\n",
       "(700.0, 800.0]        2\n",
       "(800.0, 900.0]        0\n",
       "(900.0, 1000.0]       1\n",
       "Name: length, dtype: int64"
      ]
     },
     "execution_count": 22,
     "metadata": {},
     "output_type": "execute_result"
    }
   ],
   "source": [
    "sizes1 = sizes['length'].value_counts(normalize=False, sort=False, ascending=False, \n",
    "                                  bins=range(0,sizes['length'].max()+100,100), dropna=True)\n",
    "sizes1"
   ]
  },
  {
   "cell_type": "code",
   "execution_count": 31,
   "metadata": {},
   "outputs": [
    {
     "name": "stdout",
     "output_type": "stream",
     "text": [
      "17943 17943 length 908 cvg_1.8_tip_1 AATTGTGTCCACTGATGGGA\n"
     ]
    }
   ],
   "source": [
    "f = open('output31.contig', 'r')\n",
    "secuencias=[]\n",
    "for rec in SeqIO.parse(f, \"fasta\"):\n",
    "    if len(rec.seq)>=900:\n",
    "        print(rec.id, rec.description, rec.seq[:20])\n",
    "        secuencias.append(rec)"
   ]
  },
  {
   "cell_type": "code",
   "execution_count": 32,
   "metadata": {},
   "outputs": [
    {
     "data": {
      "text/plain": [
       "[SeqRecord(seq=Seq('AATTGTGTCCACTGATGGGAGTTTAGACTTGATAATGTTTTCAGCAGTTTTCAC...TGG', SingleLetterAlphabet()), id='17943', name='17943', description='17943 length 908 cvg_1.8_tip_1', dbxrefs=[])]"
      ]
     },
     "execution_count": 32,
     "metadata": {},
     "output_type": "execute_result"
    }
   ],
   "source": [
    "secuencias"
   ]
  },
  {
   "cell_type": "code",
   "execution_count": null,
   "metadata": {},
   "outputs": [],
   "source": []
  },
  {
   "cell_type": "code",
   "execution_count": null,
   "metadata": {},
   "outputs": [],
   "source": []
  },
  {
   "cell_type": "markdown",
   "metadata": {},
   "source": [
    "### De manera similar, para obtener el histograma de la distribución de los datos del contenido de GC  se ejecuta el siguiente comando."
   ]
  },
  {
   "cell_type": "code",
   "execution_count": 26,
   "metadata": {},
   "outputs": [
    {
     "data": {
      "image/png": "[encoded data removed]",
      "text/plain": [
       "<Figure size 432x288 with 1 Axes>"
      ]
     },
     "metadata": {
      "needs_background": "light"
     },
     "output_type": "display_data"
    }
   ],
   "source": [
    "pl.hist(sizes['GC'], bins=20)\n",
    "pl.title(\"%i output31.contig\\nGC %i to %i\" \\\n",
    "            % (len(sizes[\"GC\"]),min(sizes['GC']),max(sizes['GC'])))\n",
    "pl.xlabel(\"GC content (%)\")\n",
    "pl.ylabel(\"Count\")\n",
    "#pl.legend().set_visible(False)\n",
    "pl.show()"
   ]
  },
  {
   "cell_type": "code",
   "execution_count": 27,
   "metadata": {},
   "outputs": [
    {
     "data": {
      "text/plain": [
       "(-0.001, 10.0]       0\n",
       "(10.0, 20.0]         7\n",
       "(20.0, 30.0]       277\n",
       "(30.0, 40.0]      3230\n",
       "(40.0, 50.0]      4262\n",
       "(50.0, 60.0]      1050\n",
       "(60.0, 70.0]       130\n",
       "(70.0, 80.0]        16\n",
       "(80.0, 90.0]         0\n",
       "(90.0, 100.0]        1\n",
       "Name: GC, dtype: int64"
      ]
     },
     "execution_count": 27,
     "metadata": {},
     "output_type": "execute_result"
    }
   ],
   "source": [
    "sizesgc = sizes['GC'].value_counts(normalize=False, sort=False, ascending=False, \n",
    "                                  bins=range(0,int(sizes['GC'].max()+10),10), dropna=True)\n",
    "sizesgc"
   ]
  },
  {
   "cell_type": "markdown",
   "metadata": {},
   "source": [
    "### En el caso de CpG,  se ejecuta el siguiente comando."
   ]
  },
  {
   "cell_type": "code",
   "execution_count": 28,
   "metadata": {},
   "outputs": [
    {
     "data": {
      "image/png": "[encoded data removed]",
      "text/plain": [
       "<Figure size 432x288 with 1 Axes>"
      ]
     },
     "metadata": {
      "needs_background": "light"
     },
     "output_type": "display_data"
    }
   ],
   "source": [
    "pl.hist(sizes['CpG'], bins=20)\n",
    "pl.title(\"%i output31.contig\\nCpG %i to %i\" \\\n",
    "            % (len(sizes[\"CpG\"]),min(sizes['CpG']),max(sizes['CpG'])))\n",
    "pl.xlabel(\"CpG content\")\n",
    "pl.ylabel(\"Count\")\n",
    "#pl.legend().set_visible(False)\n",
    "pl.show()"
   ]
  },
  {
   "cell_type": "code",
   "execution_count": 29,
   "metadata": {},
   "outputs": [
    {
     "data": {
      "text/plain": [
       "(-0.001, 1.0]    8591\n",
       "(1.0, 2.0]        346\n",
       "(2.0, 3.0]         33\n",
       "(3.0, 4.0]          2\n",
       "Name: CpG, dtype: int64"
      ]
     },
     "execution_count": 29,
     "metadata": {},
     "output_type": "execute_result"
    }
   ],
   "source": [
    "sizesgc = sizes['CpG'].value_counts(normalize=False, sort=False, ascending=False, \n",
    "                                  bins=range(0,int(sizes['CpG'].max()+1),1), dropna=True)\n",
    "sizesgc"
   ]
  },
  {
   "cell_type": "code",
   "execution_count": null,
   "metadata": {},
   "outputs": [],
   "source": []
  },
  {
   "cell_type": "code",
   "execution_count": null,
   "metadata": {},
   "outputs": [],
   "source": []
  },
  {
   "cell_type": "code",
   "execution_count": null,
   "metadata": {},
   "outputs": [],
   "source": []
  },
  {
   "cell_type": "markdown",
   "metadata": {},
   "source": [
    "# Describa de qué le puede ser de utilidad esta información"
   ]
  },
  {
   "cell_type": "code",
   "execution_count": null,
   "metadata": {},
   "outputs": [],
   "source": []
  },
  {
   "cell_type": "code",
   "execution_count": null,
   "metadata": {},
   "outputs": [],
   "source": []
  },
  {
   "cell_type": "code",
   "execution_count": null,
   "metadata": {},
   "outputs": [],
   "source": []
  },
  {
   "cell_type": "code",
   "execution_count": null,
   "metadata": {},
   "outputs": [],
   "source": []
  },
  {
   "cell_type": "code",
   "execution_count": null,
   "metadata": {},
   "outputs": [],
   "source": []
  }
 ],
 "metadata": {
  "kernelspec": {
   "display_name": "Python 3",
   "language": "python",
   "name": "python3"
  },
  "language_info": {
   "codemirror_mode": {
    "name": "ipython",
    "version": 3
   },
   "file_extension": ".py",
   "mimetype": "text/x-python",
   "name": "python",
   "nbconvert_exporter": "python",
   "pygments_lexer": "ipython3",
   "version": "3.7.1"
  }
 },
 "nbformat": 4,
 "nbformat_minor": 2
}
