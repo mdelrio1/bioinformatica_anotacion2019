{
 "cells": [
  {
   "cell_type": "markdown",
   "metadata": {},
   "source": [
    "# Bitacora para obtener las secuencias con resultados de blastn"
   ]
  },
  {
   "cell_type": "markdown",
   "metadata": {},
   "source": [
    "Se cargan los paquetes para el manejo de las secuencias"
   ]
  },
  {
   "cell_type": "code",
   "execution_count": 1,
   "metadata": {},
   "outputs": [],
   "source": [
    "from Bio import SeqIO, SeqRecord\n",
    "from pandas import DataFrame\n",
    "from Bio.SeqRecord import SeqRecord\n",
    "import pandas as pd\n"
   ]
  },
  {
   "cell_type": "code",
   "execution_count": null,
   "metadata": {},
   "outputs": [],
   "source": []
  },
  {
   "cell_type": "code",
   "execution_count": 2,
   "metadata": {},
   "outputs": [
    {
     "name": "stdout",
     "output_type": "stream",
     "text": [
      "/Users/migueldelrio/Desktop/bioinformatica_anotacion2019/data/sec_masiva/velvet/output_directory\n"
     ]
    }
   ],
   "source": [
    "cd ~/Desktop/bioinformatica_anotacion2019/data/sec_masiva/velvet/output_directory/"
   ]
  },
  {
   "cell_type": "code",
   "execution_count": 3,
   "metadata": {},
   "outputs": [
    {
     "name": "stdout",
     "output_type": "stream",
     "text": [
      "Graph                Roadmaps             contigs_blastn.csv\r\n",
      "LastGraph            Sequences            contigs_blastx.tsv\r\n",
      "Log                  contigs.fa           \u001b[34mimg\u001b[m\u001b[m/\r\n",
      "PreGraph             contigs_anotados.fa  stats.txt\r\n"
     ]
    }
   ],
   "source": [
    "ls "
   ]
  },
  {
   "cell_type": "code",
   "execution_count": 4,
   "metadata": {},
   "outputs": [],
   "source": [
    "\n",
    "encabezado =(\"qseqid\", \"sseqid\", \"pident\", \"length\", \"mismatch\", \"gapopen\",\"qstart\", \n",
    "             \"qend\", \"sstart\",\"send\", \"evalue\", \"bitscore\", \"stitle\")"
   ]
  },
  {
   "cell_type": "code",
   "execution_count": 5,
   "metadata": {},
   "outputs": [
    {
     "data": {
      "text/html": [
       "<div>\n",
       "<style scoped>\n",
       "    .dataframe tbody tr th:only-of-type {\n",
       "        vertical-align: middle;\n",
       "    }\n",
       "\n",
       "    .dataframe tbody tr th {\n",
       "        vertical-align: top;\n",
       "    }\n",
       "\n",
       "    .dataframe thead th {\n",
       "        text-align: right;\n",
       "    }\n",
       "</style>\n",
       "<table border=\"1\" class=\"dataframe\">\n",
       "  <thead>\n",
       "    <tr style=\"text-align: right;\">\n",
       "      <th></th>\n",
       "      <th>qseqid</th>\n",
       "      <th>sseqid</th>\n",
       "      <th>pident</th>\n",
       "      <th>length</th>\n",
       "      <th>mismatch</th>\n",
       "      <th>gapopen</th>\n",
       "      <th>qstart</th>\n",
       "      <th>qend</th>\n",
       "      <th>sstart</th>\n",
       "      <th>send</th>\n",
       "      <th>evalue</th>\n",
       "      <th>bitscore</th>\n",
       "      <th>stitle</th>\n",
       "    </tr>\n",
       "  </thead>\n",
       "  <tbody>\n",
       "    <tr>\n",
       "      <th>0</th>\n",
       "      <td>NODE_29_length_203_cov_1.487685</td>\n",
       "      <td>Q04202.1</td>\n",
       "      <td>37.143</td>\n",
       "      <td>70</td>\n",
       "      <td>43</td>\n",
       "      <td>1</td>\n",
       "      <td>8</td>\n",
       "      <td>214</td>\n",
       "      <td>153</td>\n",
       "      <td>222</td>\n",
       "      <td>2.620000e-09</td>\n",
       "      <td>54.7</td>\n",
       "      <td>RecName: Full=Transposable element Tcb2 transp...</td>\n",
       "    </tr>\n",
       "    <tr>\n",
       "      <th>1</th>\n",
       "      <td>NODE_61_length_371_cov_1.115903</td>\n",
       "      <td>Q9P2Y5.1</td>\n",
       "      <td>54.902</td>\n",
       "      <td>51</td>\n",
       "      <td>23</td>\n",
       "      <td>0</td>\n",
       "      <td>240</td>\n",
       "      <td>88</td>\n",
       "      <td>226</td>\n",
       "      <td>276</td>\n",
       "      <td>1.170000e-07</td>\n",
       "      <td>52.8</td>\n",
       "      <td>RecName: Full=UV radiation resistance-associat...</td>\n",
       "    </tr>\n",
       "  </tbody>\n",
       "</table>\n",
       "</div>"
      ],
      "text/plain": [
       "                            qseqid    sseqid  pident  length  mismatch  \\\n",
       "0  NODE_29_length_203_cov_1.487685  Q04202.1  37.143      70        43   \n",
       "1  NODE_61_length_371_cov_1.115903  Q9P2Y5.1  54.902      51        23   \n",
       "\n",
       "   gapopen  qstart  qend  sstart  send        evalue  bitscore  \\\n",
       "0        1       8   214     153   222  2.620000e-09      54.7   \n",
       "1        0     240    88     226   276  1.170000e-07      52.8   \n",
       "\n",
       "                                              stitle  \n",
       "0  RecName: Full=Transposable element Tcb2 transp...  \n",
       "1  RecName: Full=UV radiation resistance-associat...  "
      ]
     },
     "execution_count": 5,
     "metadata": {},
     "output_type": "execute_result"
    }
   ],
   "source": [
    "fblastx = pd.read_csv(\"contigs_blastx.tsv\", sep = \"\\t\", header=None , names= encabezado)\n",
    "\n",
    "fblastx.head(2)"
   ]
  },
  {
   "cell_type": "code",
   "execution_count": 6,
   "metadata": {},
   "outputs": [
    {
     "name": "stdout",
     "output_type": "stream",
     "text": [
      "NODE_29_length_203_cov_1.487685 [predicted]Transposable element Tcb2 transp GTACCGAGATGAGAT\n",
      "NODE_61_length_371_cov_1.115903 [predicted]UV radiation resistance-associat GATCAGACAATATTA\n",
      "NODE_62_length_191_cov_1.089005 [predicted]DNA excision repair protein ERCC CACCCATACTTCCAA\n"
     ]
    }
   ],
   "source": [
    "# proceso para poner la descripcion de los resultados de blastx en las secuencias\n",
    "f = open('contigs.fa', 'r')\n",
    "secuencias=[]\n",
    "for rec in SeqIO.parse(f, \"fasta\"):\n",
    "    row = fblastx.loc[fblastx['qseqid']==rec.id]\n",
    "    try :\n",
    "        row3_1= row['qseqid'].values[0]\n",
    "    except:\n",
    "        continue\n",
    "    else:\n",
    "        descripcion = str(row[\"stitle\"])[str(row[\"stitle\"]).find(\"=\")+1:]\n",
    "        descripcion = \"[predicted]\"+ descripcion[:descripcion.find(\".\")]\n",
    "        print(rec.id, descripcion, rec.seq[:15])\n",
    "        linea = SeqRecord(rec.seq, id=rec.id, description= descripcion) \n",
    "        secuencias.append(linea)\n",
    "    "
   ]
  },
  {
   "cell_type": "code",
   "execution_count": 7,
   "metadata": {},
   "outputs": [
    {
     "name": "stdout",
     "output_type": "stream",
     "text": [
      "NODE_29_length_203_cov_1.487685 [predicted]Transposable element Tcb2 transp\n",
      "NODE_61_length_371_cov_1.115903 [predicted]UV radiation resistance-associat\n",
      "NODE_62_length_191_cov_1.089005 [predicted]DNA excision repair protein ERCC\n"
     ]
    }
   ],
   "source": [
    "n=0\n",
    "for rec in secuencias:\n",
    "    print(rec.id, rec.description)\n",
    "    n+=1\n",
    "    if n==10:\n",
    "        break"
   ]
  },
  {
   "cell_type": "code",
   "execution_count": 8,
   "metadata": {},
   "outputs": [
    {
     "data": {
      "text/plain": [
       "3"
      ]
     },
     "execution_count": 8,
     "metadata": {},
     "output_type": "execute_result"
    }
   ],
   "source": [
    "SeqIO.write(secuencias, \"contigs_anotados.fa\", \"fasta\")"
   ]
  },
  {
   "cell_type": "code",
   "execution_count": 9,
   "metadata": {},
   "outputs": [
    {
     "name": "stdout",
     "output_type": "stream",
     "text": [
      ">NODE_29_length_203_cov_1.487685 [predicted]Transposable element Tcb2 transp\r\n",
      "GTACCGAGATGAGATCCTCAGACCCCTTGTGAGACCATATGCTGGTGCGGTTGGCCCTGG\r\n",
      "GTTCCTCCTAATGCAGGACAATGCTAGACCTCATGTGGCTGGAGTGTGGTAgcagttcct\r\n",
      "gcaagatgaaggcattgaagctatggactggcccgcccgttccccagacctgaatctgat\r\n",
      "tgagcacatctgggacatcgtgtctcgctccatccaccaacgtcatgttgcaccacagac\r\n",
      "tgtcc\r\n",
      ">NODE_61_length_371_cov_1.115903 [predicted]UV radiation resistance-associat\r\n",
      "GATCAGACAATATTAAAAGCTGATTTATACATGGTGGTGTGGTCTTAACTTTCCTCCATG\r\n",
      "TGTATGCATTTGTATGGCCACCCATTTACCTTTCTTCTGCAGCTGCGCCCTCTCCTTCTG\r\n",
      "TCGCAGATCTCTCTCCCTCCCAAGTGCCTTCCTCTGCCGCTCCAGCTCACTGTGAAGGAC\r\n"
     ]
    }
   ],
   "source": [
    "!head contigs_anotados.fa"
   ]
  },
  {
   "cell_type": "code",
   "execution_count": null,
   "metadata": {},
   "outputs": [],
   "source": []
  },
  {
   "cell_type": "code",
   "execution_count": null,
   "metadata": {},
   "outputs": [],
   "source": []
  }
 ],
 "metadata": {
  "kernelspec": {
   "display_name": "Python 3",
   "language": "python",
   "name": "python3"
  },
  "language_info": {
   "codemirror_mode": {
    "name": "ipython",
    "version": 3
   },
   "file_extension": ".py",
   "mimetype": "text/x-python",
   "name": "python",
   "nbconvert_exporter": "python",
   "pygments_lexer": "ipython3",
   "version": "3.7.1"
  }
 },
 "nbformat": 4,
 "nbformat_minor": 2
}
