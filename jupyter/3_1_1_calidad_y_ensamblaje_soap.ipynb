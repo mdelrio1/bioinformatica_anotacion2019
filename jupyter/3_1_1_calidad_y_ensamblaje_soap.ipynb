{
 "cells": [
  {
   "cell_type": "markdown",
   "metadata": {},
   "source": [
    "# Bitacora: calidad de la secuenciación masiva y ensamblaje "
   ]
  },
  {
   "cell_type": "markdown",
   "metadata": {},
   "source": [
    "En esta bitácora se utilizarán diferentes programas "
   ]
  },
  {
   "cell_type": "markdown",
   "metadata": {},
   "source": [
    "# FastQC\n",
    "Se puede encontrar más información en el sitio de [fastqc](http://www.bioinformatics.babraham.ac.uk/projects/fastqc/) \n",
    "<img src=\"img/fastqc1.png\">\n",
    "y de  [Trim Galore](https://www.bioinformatics.babraham.ac.uk/projects/trim_galore/)\n",
    "<img src=\"./img/trim_galore.png\">"
   ]
  },
  {
   "cell_type": "markdown",
   "metadata": {},
   "source": [
    "# Ensamblaje con Soapdenovo2\n",
    "Luo, R. et al. 2012. SOAPdenovo2: an empirically improved memory-efficient short-read de novo assembler. Gigascience 1, 18. [doi: 10.1186/2047-217X-1-18](https://academic.oup.com/gigascience/article/1/1/2047-217X-1-18/2656146)\n",
    "SOAPdenovo2 [manual](https://github.com/aquaskyline/SOAPdenovo2)"
   ]
  },
  {
   "cell_type": "markdown",
   "metadata": {},
   "source": [
    "### Todos estos programas se pueden instalar en sistemas Linux o iOS desde [anaconda](https://anaconda.org/bioconda/soapdenovo2)"
   ]
  },
  {
   "cell_type": "code",
   "execution_count": 1,
   "metadata": {},
   "outputs": [],
   "source": [
    "import os\n",
    "from Bio import SeqIO, Entrez"
   ]
  },
  {
   "cell_type": "code",
   "execution_count": 2,
   "metadata": {},
   "outputs": [
    {
     "name": "stdout",
     "output_type": "stream",
     "text": [
      "/Users/migueldelrio/Desktop/bioinformatica_anotacion2019/data/sec_masiva\n"
     ]
    }
   ],
   "source": [
    "cd ~/Desktop/bioinformatica_anotacion2019/data/sec_masiva/"
   ]
  },
  {
   "cell_type": "code",
   "execution_count": 3,
   "metadata": {},
   "outputs": [
    {
     "name": "stdout",
     "output_type": "stream",
     "text": [
      "8_S356_L001_R1_001.fastq        8_S356_L001_R2_001_fastqc.html\r\n",
      "8_S356_L001_R1_001_fastqc.html  8_S356_L001_R2_001_fastqc.zip\r\n",
      "8_S356_L001_R1_001_fastqc.zip   \u001b[34mfastqc\u001b[m\u001b[m/\r\n",
      "8_S356_L001_R2_001.fastq\r\n"
     ]
    }
   ],
   "source": [
    "ls"
   ]
  },
  {
   "cell_type": "code",
   "execution_count": 7,
   "metadata": {},
   "outputs": [
    {
     "name": "stdout",
     "output_type": "stream",
     "text": [
      "    6660\n",
      "    6674\n"
     ]
    }
   ],
   "source": [
    "%%bash\n",
    "grep \"^@\" ../8_S356_L001_R1_001.fastq | wc -l\n",
    "grep \"^@\" ../8_S356_L001_R2_001.fastq | wc -l\n"
   ]
  },
  {
   "cell_type": "markdown",
   "metadata": {},
   "source": [
    "### Número de secuencias obtenidas:\n",
    "\n",
    "|archivo|secuencias|\n",
    "|-------|----------|\n",
    "|8_S356_L001_R1_001.fastq|6660|\n",
    "|8_S356_L001_R2_001.fastq|6674|"
   ]
  },
  {
   "cell_type": "code",
   "execution_count": 8,
   "metadata": {
    "scrolled": true
   },
   "outputs": [
    {
     "name": "stdout",
     "output_type": "stream",
     "text": [
      "Analysis complete for 8_S356_L001_R1_001.fastq\n",
      "Analysis complete for 8_S356_L001_R2_001.fastq\n"
     ]
    },
    {
     "name": "stderr",
     "output_type": "stream",
     "text": [
      "Started analysis of 8_S356_L001_R1_001.fastq\n",
      "Approx 15% complete for 8_S356_L001_R1_001.fastq\n",
      "Approx 30% complete for 8_S356_L001_R1_001.fastq\n",
      "Approx 45% complete for 8_S356_L001_R1_001.fastq\n",
      "Approx 60% complete for 8_S356_L001_R1_001.fastq\n",
      "Approx 75% complete for 8_S356_L001_R1_001.fastq\n",
      "Approx 90% complete for 8_S356_L001_R1_001.fastq\n",
      "\n",
      "real\t0m7.147s\n",
      "user\t0m6.473s\n",
      "sys\t0m0.723s\n",
      "Started analysis of 8_S356_L001_R2_001.fastq\n",
      "Approx 15% complete for 8_S356_L001_R2_001.fastq\n",
      "Approx 30% complete for 8_S356_L001_R2_001.fastq\n",
      "Approx 45% complete for 8_S356_L001_R2_001.fastq\n",
      "Approx 60% complete for 8_S356_L001_R2_001.fastq\n",
      "Approx 75% complete for 8_S356_L001_R2_001.fastq\n",
      "Approx 90% complete for 8_S356_L001_R2_001.fastq\n",
      "\n",
      "real\t0m5.702s\n",
      "user\t0m5.058s\n",
      "sys\t0m0.475s\n"
     ]
    }
   ],
   "source": [
    "%%bash\n",
    "time fastqc 8_S356_L001_R1_001.fastq \n",
    "time fastqc 8_S356_L001_R2_001.fastq"
   ]
  },
  {
   "cell_type": "code",
   "execution_count": 4,
   "metadata": {},
   "outputs": [
    {
     "name": "stdout",
     "output_type": "stream",
     "text": [
      "total 15128\r\n",
      "-rw-r--r--@  1 migueldelrio  staff   3.2M Jun  5  2013 8_S356_L001_R1_001.fastq\r\n",
      "-rw-r--r--@  1 migueldelrio  staff   232K Feb 26 09:33 8_S356_L001_R1_001_fastqc.html\r\n",
      "-rw-r--r--   1 migueldelrio  staff   241K Feb 26 09:33 8_S356_L001_R1_001_fastqc.zip\r\n",
      "-rw-r--r--@  1 migueldelrio  staff   3.2M Jun  5  2013 8_S356_L001_R2_001.fastq\r\n",
      "-rw-r--r--@  1 migueldelrio  staff   243K Feb 26 09:33 8_S356_L001_R2_001_fastqc.html\r\n",
      "-rw-r--r--   1 migueldelrio  staff   260K Feb 26 09:33 8_S356_L001_R2_001_fastqc.zip\r\n",
      "drwxr-xr-x  10 migueldelrio  staff   320B Feb 26 09:48 \u001b[34mfastqc\u001b[m\u001b[m/\r\n"
     ]
    }
   ],
   "source": [
    "ls -lh"
   ]
  },
  {
   "cell_type": "code",
   "execution_count": 5,
   "metadata": {},
   "outputs": [],
   "source": [
    "os.makedirs('fastqc',exist_ok=True)"
   ]
  },
  {
   "cell_type": "code",
   "execution_count": 5,
   "metadata": {},
   "outputs": [
    {
     "name": "stdout",
     "output_type": "stream",
     "text": [
      "/Users/migueldelrio/Desktop/bioinformatica_anotacion2019/data/sec_masiva/fastqc\n"
     ]
    }
   ],
   "source": [
    "cd fastqc/"
   ]
  },
  {
   "cell_type": "code",
   "execution_count": 12,
   "metadata": {
    "scrolled": true
   },
   "outputs": [
    {
     "name": "stdout",
     "output_type": "stream",
     "text": [
      "1.18\n"
     ]
    },
    {
     "name": "stderr",
     "output_type": "stream",
     "text": [
      "No quality encoding type selected. Assuming that the data provided uses Sanger encoded Phred scores (default)\n",
      "\n",
      "Path to Cutadapt set as: 'cutadapt' (default)\n",
      "Cutadapt seems to be working fine (tested command 'cutadapt --version')\n",
      "\n",
      "\n",
      "AUTO-DETECTING ADAPTER TYPE\n",
      "===========================\n",
      "Attempting to auto-detect adapter type from the first 1 million sequences of the first file (>> ../8_S356_L001_R1_001.fastq <<)\n",
      "\n",
      "Found perfect matches for the following adapter sequences:\n",
      "Adapter type\tCount\tSequence\tSequences analysed\tPercentage\n",
      "Nextera\t2\tCTGTCTCTTATA\t6652\t0.03\n",
      "Illumina\t0\tAGATCGGAAGAGC\t6652\t0.00\n",
      "smallRNA\t0\tTGGAATTCTCGG\t6652\t0.00\n",
      "Using Nextera adapter for trimming (count: 2). Second best hit was Illumina (count: 0)\n",
      "\n",
      "Writing report to '8_S356_L001_R1_001.fastq_trimming_report.txt'\n",
      "\n",
      "SUMMARISING RUN PARAMETERS\n",
      "==========================\n",
      "Input filename: ../8_S356_L001_R1_001.fastq\n",
      "Trimming mode: paired-end\n",
      "Trim Galore version: 0.5.0\n",
      "Cutadapt version: 1.18\n",
      "Quality Phred score cutoff: 20\n",
      "Quality encoding type selected: ASCII+33\n",
      "Adapter sequence: 'CTGTCTCTTATA' (Nextera Transposase sequence; auto-detected)\n",
      "Maximum trimming error rate: 0.1 (default)\n",
      "Minimum required adapter overlap (stringency): 1 bp\n",
      "Minimum required sequence length for both reads before a sequence pair gets removed: 20 bp\n",
      "\n",
      "Writing final adapter and quality trimmed output to 8_S356_L001_R1_001_trimmed.fq\n",
      "\n",
      "\n",
      "  >>> Now performing quality (cutoff 20) and adapter trimming in a single pass for the adapter sequence: 'CTGTCTCTTATA' from file ../8_S356_L001_R1_001.fastq <<< \n",
      "This is cutadapt 1.18 with Python 3.7.1\n",
      "Command line parameters: -f fastq -e 0.1 -q 20 -O 1 -a CTGTCTCTTATA ../8_S356_L001_R1_001.fastq\n",
      "Processing reads on 1 core in single-end mode ...\n",
      "Finished in 0.13 s (20 us/read; 2.96 M reads/minute).\n",
      "\n",
      "=== Summary ===\n",
      "\n",
      "Total reads processed:                   6,652\n",
      "Reads with adapters:                     1,627 (24.5%)\n",
      "Reads written (passing filters):         6,652 (100.0%)\n",
      "\n",
      "Total basepairs processed:     1,477,486 bp\n",
      "Quality-trimmed:                   8,177 bp (0.6%)\n",
      "Total written (filtered):      1,464,871 bp (99.1%)\n",
      "\n",
      "=== Adapter 1 ===\n",
      "\n",
      "Sequence: CTGTCTCTTATA; Type: regular 3'; Length: 12; Trimmed: 1627 times.\n",
      "\n",
      "No. of allowed errors:\n",
      "0-9 bp: 0; 10-12 bp: 1\n",
      "\n",
      "Bases preceding removed adapters:\n",
      "  A: 37.4%\n",
      "  C: 20.4%\n",
      "  G: 18.8%\n",
      "  T: 23.3%\n",
      "  none/other: 0.1%\n",
      "\n",
      "Overview of removed sequences\n",
      "length\tcount\texpect\tmax.err\terror counts\n",
      "1\t1315\t1663.0\t0\t1315\n",
      "2\t193\t415.8\t0\t193\n",
      "3\t76\t103.9\t0\t76\n",
      "4\t14\t26.0\t0\t14\n",
      "5\t6\t6.5\t0\t6\n",
      "6\t1\t1.6\t0\t1\n",
      "8\t1\t0.1\t0\t1\n",
      "14\t1\t0.0\t1\t0 1\n",
      "16\t1\t0.0\t1\t0 1\n",
      "29\t1\t0.0\t1\t0 1\n",
      "56\t1\t0.0\t1\t0 1\n",
      "59\t1\t0.0\t1\t0 1\n",
      "61\t1\t0.0\t1\t0 1\n",
      "65\t1\t0.0\t1\t1\n",
      "66\t1\t0.0\t1\t0 1\n",
      "71\t1\t0.0\t1\t0 1\n",
      "73\t1\t0.0\t1\t0 1\n",
      "111\t1\t0.0\t1\t0 1\n",
      "129\t1\t0.0\t1\t0 1\n",
      "144\t1\t0.0\t1\t0 1\n",
      "157\t1\t0.0\t1\t0 1\n",
      "167\t1\t0.0\t1\t0 1\n",
      "171\t1\t0.0\t1\t0 1\n",
      "177\t1\t0.0\t1\t0 1\n",
      "182\t1\t0.0\t1\t0 1\n",
      "211\t2\t0.0\t1\t0 2\n",
      "239\t1\t0.0\t1\t0 1\n",
      "\n",
      "\n",
      "RUN STATISTICS FOR INPUT FILE: ../8_S356_L001_R1_001.fastq\n",
      "=============================================\n",
      "6652 sequences processed in total\n",
      "The length threshold of paired-end sequences gets evaluated later on (in the validation step)\n",
      "\n",
      "Writing report to '8_S356_L001_R2_001.fastq_trimming_report.txt'\n",
      "\n",
      "SUMMARISING RUN PARAMETERS\n",
      "==========================\n",
      "Input filename: ../8_S356_L001_R2_001.fastq\n",
      "Trimming mode: paired-end\n",
      "Trim Galore version: 0.5.0\n",
      "Cutadapt version: 1.18\n",
      "Quality Phred score cutoff: 20\n",
      "Quality encoding type selected: ASCII+33\n",
      "Adapter sequence: 'CTGTCTCTTATA' (Nextera Transposase sequence; auto-detected)\n",
      "Maximum trimming error rate: 0.1 (default)\n",
      "Minimum required adapter overlap (stringency): 1 bp\n",
      "Minimum required sequence length for both reads before a sequence pair gets removed: 20 bp\n",
      "\n",
      "Writing final adapter and quality trimmed output to 8_S356_L001_R2_001_trimmed.fq\n",
      "\n",
      "\n",
      "  >>> Now performing quality (cutoff 20) and adapter trimming in a single pass for the adapter sequence: 'CTGTCTCTTATA' from file ../8_S356_L001_R2_001.fastq <<< \n",
      "This is cutadapt 1.18 with Python 3.7.1\n",
      "Command line parameters: -f fastq -e 0.1 -q 20 -O 1 -a CTGTCTCTTATA ../8_S356_L001_R2_001.fastq\n",
      "Processing reads on 1 core in single-end mode ...\n",
      "Finished in 0.15 s (22 us/read; 2.75 M reads/minute).\n",
      "\n",
      "=== Summary ===\n",
      "\n",
      "Total reads processed:                   6,652\n",
      "Reads with adapters:                     1,909 (28.7%)\n",
      "Reads written (passing filters):         6,652 (100.0%)\n",
      "\n",
      "Total basepairs processed:     1,484,091 bp\n",
      "Quality-trimmed:                  51,380 bp (3.5%)\n",
      "Total written (filtered):      1,426,863 bp (96.1%)\n",
      "\n",
      "=== Adapter 1 ===\n",
      "\n",
      "Sequence: CTGTCTCTTATA; Type: regular 3'; Length: 12; Trimmed: 1909 times.\n",
      "\n",
      "No. of allowed errors:\n",
      "0-9 bp: 0; 10-12 bp: 1\n",
      "\n",
      "Bases preceding removed adapters:\n",
      "  A: 35.7%\n",
      "  C: 20.5%\n",
      "  G: 19.0%\n",
      "  T: 24.8%\n",
      "  none/other: 0.0%\n",
      "\n",
      "Overview of removed sequences\n",
      "length\tcount\texpect\tmax.err\terror counts\n",
      "1\t1474\t1663.0\t0\t1474\n",
      "2\t233\t415.8\t0\t233\n",
      "3\t102\t103.9\t0\t102\n",
      "4\t34\t26.0\t0\t34\n",
      "5\t7\t6.5\t0\t7\n",
      "6\t2\t1.6\t0\t2\n",
      "7\t5\t0.4\t0\t5\n",
      "9\t3\t0.0\t0\t2 1\n",
      "12\t2\t0.0\t1\t0 2\n",
      "14\t2\t0.0\t1\t0 2\n",
      "15\t5\t0.0\t1\t1 4\n",
      "16\t2\t0.0\t1\t0 2\n",
      "17\t2\t0.0\t1\t0 2\n",
      "18\t1\t0.0\t1\t0 1\n",
      "20\t1\t0.0\t1\t0 1\n",
      "22\t1\t0.0\t1\t0 1\n",
      "23\t1\t0.0\t1\t1\n",
      "25\t1\t0.0\t1\t0 1\n",
      "29\t1\t0.0\t1\t1\n",
      "35\t1\t0.0\t1\t0 1\n",
      "36\t1\t0.0\t1\t1\n",
      "37\t1\t0.0\t1\t0 1\n",
      "38\t1\t0.0\t1\t1\n",
      "39\t1\t0.0\t1\t0 1\n",
      "42\t2\t0.0\t1\t1 1\n",
      "44\t1\t0.0\t1\t1\n",
      "48\t1\t0.0\t1\t0 1\n",
      "50\t1\t0.0\t1\t1\n",
      "60\t1\t0.0\t1\t1\n",
      "62\t1\t0.0\t1\t0 1\n",
      "63\t1\t0.0\t1\t0 1\n",
      "71\t1\t0.0\t1\t0 1\n",
      "75\t1\t0.0\t1\t0 1\n",
      "83\t1\t0.0\t1\t0 1\n",
      "95\t1\t0.0\t1\t0 1\n",
      "113\t1\t0.0\t1\t0 1\n",
      "122\t1\t0.0\t1\t0 1\n",
      "125\t1\t0.0\t1\t1\n",
      "136\t2\t0.0\t1\t1 1\n",
      "140\t1\t0.0\t1\t0 1\n",
      "162\t1\t0.0\t1\t0 1\n",
      "169\t1\t0.0\t1\t0 1\n",
      "175\t1\t0.0\t1\t0 1\n",
      "195\t1\t0.0\t1\t0 1\n",
      "204\t1\t0.0\t1\t0 1\n",
      "212\t1\t0.0\t1\t0 1\n",
      "218\t1\t0.0\t1\t0 1\n",
      "\n",
      "\n",
      "RUN STATISTICS FOR INPUT FILE: ../8_S356_L001_R2_001.fastq\n",
      "=============================================\n",
      "6652 sequences processed in total\n",
      "The length threshold of paired-end sequences gets evaluated later on (in the validation step)\n",
      "\n",
      "Validate paired-end files 8_S356_L001_R1_001_trimmed.fq and 8_S356_L001_R2_001_trimmed.fq\n",
      "file_1: 8_S356_L001_R1_001_trimmed.fq, file_2: 8_S356_L001_R2_001_trimmed.fq\n",
      "\n",
      "\n",
      ">>>>> Now validing the length of the 2 paired-end infiles: 8_S356_L001_R1_001_trimmed.fq and 8_S356_L001_R2_001_trimmed.fq <<<<<\n",
      "Writing validated paired-end read 1 reads to 8_S356_L001_R1_001_val_1.fq\n",
      "Writing validated paired-end read 2 reads to 8_S356_L001_R2_001_val_2.fq\n",
      "\n",
      "Total number of sequences analysed: 6652\n",
      "\n",
      "Number of sequence pairs removed because at least one read was shorter than the length cutoff (20 bp): 10 (0.15%)\n",
      "\n",
      "Deleting both intermediate output files 8_S356_L001_R1_001_trimmed.fq and 8_S356_L001_R2_001_trimmed.fq\n",
      "\n",
      "====================================================================================================\n",
      "\n",
      "\n",
      "real\t0m1.872s\n",
      "user\t0m1.377s\n",
      "sys\t0m0.424s\n"
     ]
    }
   ],
   "source": [
    "%%bash\n",
    "time trim_galore --paired ../8_S356_L001_R1_001.fastq ../8_S356_L001_R2_001.fastq"
   ]
  },
  {
   "cell_type": "code",
   "execution_count": 11,
   "metadata": {},
   "outputs": [
    {
     "name": "stdout",
     "output_type": "stream",
     "text": [
      "total 12880\r\n",
      "-rw-r--r--   1 migueldelrio  staff   1.9K Feb 26 09:36 8_S356_L001_R1_001.fastq_trimming_report.txt\r\n",
      "-rw-r--r--   1 migueldelrio  staff   3.2M Feb 26 09:36 8_S356_L001_R1_001_val_1.fq\r\n",
      "-rw-r--r--   1 migueldelrio  staff   2.4K Feb 26 09:36 8_S356_L001_R2_001.fastq_trimming_report.txt\r\n",
      "-rw-r--r--   1 migueldelrio  staff   3.1M Feb 26 09:36 8_S356_L001_R2_001_val_2.fq\r\n",
      "-rw-r--r--   1 migueldelrio  staff   1.1K Feb 26 09:46 config_soap_8_S356.txt\r\n",
      "drwxr-xr-x  23 migueldelrio  staff   736B Feb 26 09:48 \u001b[34moutput_directory\u001b[m\u001b[m/\r\n",
      "-rw-r--r--   1 migueldelrio  staff   344B Feb 26 09:48 soapdenovo2.submit\r\n"
     ]
    }
   ],
   "source": [
    "ls -lh "
   ]
  },
  {
   "cell_type": "code",
   "execution_count": 18,
   "metadata": {
    "scrolled": true
   },
   "outputs": [
    {
     "name": "stdout",
     "output_type": "stream",
     "text": [
      "\r\n",
      "SUMMARISING RUN PARAMETERS\r\n",
      "==========================\r\n",
      "Input filename: ../8_S356_L001_R1_001.fastq\r\n",
      "Trimming mode: paired-end\r\n",
      "Trim Galore version: 0.5.0\r\n",
      "Cutadapt version: 1.18\r\n",
      "Quality Phred score cutoff: 20\r\n",
      "Quality encoding type selected: ASCII+33\r\n",
      "Adapter sequence: 'CTGTCTCTTATA' (Nextera Transposase sequence; auto-detected)\r\n",
      "Maximum trimming error rate: 0.1 (default)\r\n",
      "Minimum required adapter overlap (stringency): 1 bp\r\n",
      "Minimum required sequence length for both reads before a sequence pair gets removed: 20 bp\r\n",
      "\r\n",
      "\r\n",
      "This is cutadapt 1.18 with Python 3.7.1\r\n",
      "Command line parameters: -f fastq -e 0.1 -q 20 -O 1 -a CTGTCTCTTATA ../8_S356_L001_R1_001.fastq\r\n",
      "Processing reads on 1 core in single-end mode ...\r\n",
      "Finished in 0.13 s (20 us/read; 2.96 M reads/minute).\r\n",
      "\r\n",
      "=== Summary ===\r\n",
      "\r\n",
      "Total reads processed:                   6,652\r\n",
      "Reads with adapters:                     1,627 (24.5%)\r\n",
      "Reads written (passing filters):         6,652 (100.0%)\r\n",
      "\r\n",
      "Total basepairs processed:     1,477,486 bp\r\n",
      "Quality-trimmed:                   8,177 bp (0.6%)\r\n",
      "Total written (filtered):      1,464,871 bp (99.1%)\r\n",
      "\r\n",
      "=== Adapter 1 ===\r\n",
      "\r\n",
      "Sequence: CTGTCTCTTATA; Type: regular 3'; Length: 12; Trimmed: 1627 times.\r\n",
      "\r\n",
      "No. of allowed errors:\r\n",
      "0-9 bp: 0; 10-12 bp: 1\r\n",
      "\r\n",
      "Bases preceding removed adapters:\r\n",
      "  A: 37.4%\r\n",
      "  C: 20.4%\r\n",
      "  G: 18.8%\r\n",
      "  T: 23.3%\r\n",
      "  none/other: 0.1%\r\n",
      "\r\n",
      "Overview of removed sequences\r\n",
      "length\tcount\texpect\tmax.err\terror counts\r\n",
      "1\t1315\t1663.0\t0\t1315\r\n",
      "2\t193\t415.8\t0\t193\r\n",
      "3\t76\t103.9\t0\t76\r\n",
      "4\t14\t26.0\t0\t14\r\n",
      "5\t6\t6.5\t0\t6\r\n",
      "6\t1\t1.6\t0\t1\r\n",
      "8\t1\t0.1\t0\t1\r\n",
      "14\t1\t0.0\t1\t0 1\r\n",
      "16\t1\t0.0\t1\t0 1\r\n",
      "29\t1\t0.0\t1\t0 1\r\n",
      "56\t1\t0.0\t1\t0 1\r\n",
      "59\t1\t0.0\t1\t0 1\r\n",
      "61\t1\t0.0\t1\t0 1\r\n",
      "65\t1\t0.0\t1\t1\r\n",
      "66\t1\t0.0\t1\t0 1\r\n",
      "71\t1\t0.0\t1\t0 1\r\n",
      "73\t1\t0.0\t1\t0 1\r\n",
      "111\t1\t0.0\t1\t0 1\r\n",
      "129\t1\t0.0\t1\t0 1\r\n",
      "144\t1\t0.0\t1\t0 1\r\n",
      "157\t1\t0.0\t1\t0 1\r\n",
      "167\t1\t0.0\t1\t0 1\r\n",
      "171\t1\t0.0\t1\t0 1\r\n",
      "177\t1\t0.0\t1\t0 1\r\n",
      "182\t1\t0.0\t1\t0 1\r\n",
      "211\t2\t0.0\t1\t0 2\r\n",
      "239\t1\t0.0\t1\t0 1\r\n",
      "\r\n",
      "\r\n",
      "RUN STATISTICS FOR INPUT FILE: ../8_S356_L001_R1_001.fastq\r\n",
      "=============================================\r\n",
      "6652 sequences processed in total\r\n",
      "\r\n"
     ]
    }
   ],
   "source": [
    "!head -80 8_S356_L001_R1_001.fastq_trimming_report.txt"
   ]
  },
  {
   "cell_type": "code",
   "execution_count": 19,
   "metadata": {
    "scrolled": true
   },
   "outputs": [
    {
     "name": "stdout",
     "output_type": "stream",
     "text": [
      "\r\n",
      "SUMMARISING RUN PARAMETERS\r\n",
      "==========================\r\n",
      "Input filename: ../8_S356_L001_R2_001.fastq\r\n",
      "Trimming mode: paired-end\r\n",
      "Trim Galore version: 0.5.0\r\n",
      "Cutadapt version: 1.18\r\n",
      "Quality Phred score cutoff: 20\r\n",
      "Quality encoding type selected: ASCII+33\r\n",
      "Adapter sequence: 'CTGTCTCTTATA' (Nextera Transposase sequence; auto-detected)\r\n",
      "Maximum trimming error rate: 0.1 (default)\r\n",
      "Minimum required adapter overlap (stringency): 1 bp\r\n",
      "Minimum required sequence length for both reads before a sequence pair gets removed: 20 bp\r\n",
      "\r\n",
      "\r\n",
      "This is cutadapt 1.18 with Python 3.7.1\r\n",
      "Command line parameters: -f fastq -e 0.1 -q 20 -O 1 -a CTGTCTCTTATA ../8_S356_L001_R2_001.fastq\r\n",
      "Processing reads on 1 core in single-end mode ...\r\n",
      "Finished in 0.15 s (22 us/read; 2.75 M reads/minute).\r\n",
      "\r\n",
      "=== Summary ===\r\n",
      "\r\n",
      "Total reads processed:                   6,652\r\n",
      "Reads with adapters:                     1,909 (28.7%)\r\n",
      "Reads written (passing filters):         6,652 (100.0%)\r\n",
      "\r\n",
      "Total basepairs processed:     1,484,091 bp\r\n",
      "Quality-trimmed:                  51,380 bp (3.5%)\r\n",
      "Total written (filtered):      1,426,863 bp (96.1%)\r\n",
      "\r\n",
      "=== Adapter 1 ===\r\n",
      "\r\n",
      "Sequence: CTGTCTCTTATA; Type: regular 3'; Length: 12; Trimmed: 1909 times.\r\n",
      "\r\n",
      "No. of allowed errors:\r\n",
      "0-9 bp: 0; 10-12 bp: 1\r\n",
      "\r\n",
      "Bases preceding removed adapters:\r\n",
      "  A: 35.7%\r\n",
      "  C: 20.5%\r\n",
      "  G: 19.0%\r\n",
      "  T: 24.8%\r\n",
      "  none/other: 0.0%\r\n",
      "\r\n",
      "Overview of removed sequences\r\n",
      "length\tcount\texpect\tmax.err\terror counts\r\n",
      "1\t1474\t1663.0\t0\t1474\r\n",
      "2\t233\t415.8\t0\t233\r\n",
      "3\t102\t103.9\t0\t102\r\n",
      "4\t34\t26.0\t0\t34\r\n",
      "5\t7\t6.5\t0\t7\r\n",
      "6\t2\t1.6\t0\t2\r\n",
      "7\t5\t0.4\t0\t5\r\n",
      "9\t3\t0.0\t0\t2 1\r\n",
      "12\t2\t0.0\t1\t0 2\r\n",
      "14\t2\t0.0\t1\t0 2\r\n",
      "15\t5\t0.0\t1\t1 4\r\n",
      "16\t2\t0.0\t1\t0 2\r\n",
      "17\t2\t0.0\t1\t0 2\r\n",
      "18\t1\t0.0\t1\t0 1\r\n",
      "20\t1\t0.0\t1\t0 1\r\n",
      "22\t1\t0.0\t1\t0 1\r\n",
      "23\t1\t0.0\t1\t1\r\n",
      "25\t1\t0.0\t1\t0 1\r\n",
      "29\t1\t0.0\t1\t1\r\n",
      "35\t1\t0.0\t1\t0 1\r\n",
      "36\t1\t0.0\t1\t1\r\n",
      "37\t1\t0.0\t1\t0 1\r\n",
      "38\t1\t0.0\t1\t1\r\n",
      "39\t1\t0.0\t1\t0 1\r\n",
      "42\t2\t0.0\t1\t1 1\r\n",
      "44\t1\t0.0\t1\t1\r\n",
      "48\t1\t0.0\t1\t0 1\r\n",
      "50\t1\t0.0\t1\t1\r\n",
      "60\t1\t0.0\t1\t1\r\n",
      "62\t1\t0.0\t1\t0 1\r\n",
      "63\t1\t0.0\t1\t0 1\r\n",
      "71\t1\t0.0\t1\t0 1\r\n",
      "75\t1\t0.0\t1\t0 1\r\n",
      "83\t1\t0.0\t1\t0 1\r\n"
     ]
    }
   ],
   "source": [
    "!head -80 8_S356_L001_R2_001.fastq_trimming_report.txt"
   ]
  },
  {
   "cell_type": "code",
   "execution_count": 12,
   "metadata": {},
   "outputs": [
    {
     "name": "stdout",
     "output_type": "stream",
     "text": [
      "    6650\n",
      "    6664\n"
     ]
    }
   ],
   "source": [
    "%%bash\n",
    "grep \"^@\" 8_S356_L001_R1_001_val_1.fq | wc -l\n",
    "grep \"^@\" 8_S356_L001_R2_001_val_2.fq | wc -l"
   ]
  },
  {
   "cell_type": "markdown",
   "metadata": {},
   "source": [
    "### Número de secuencias obtenidas:\n",
    "\n",
    "|archivo|secuencias|archivo-trim|recortadas|\n",
    "|-------|----------|----------|----------|\n",
    "|8_S356_L001_R1_001.fastq|6660|8_S356_L001_R1_001_val_1.fq|6650|\n",
    "|8_S356_L001_R2_001.fastq|6674|8_S356_L001_R2_001_val_2.fq|6664|"
   ]
  },
  {
   "cell_type": "markdown",
   "metadata": {},
   "source": [
    "Tomado del manual de [Biopython](http://biopython.org/DIST/docs/tutorial/Tutorial.html#htoc292)"
   ]
  },
  {
   "cell_type": "code",
   "execution_count": 3,
   "metadata": {},
   "outputs": [],
   "source": [
    "def cuentasecuencias(arch1):\n",
    "    count, total_len, maximo = 0, 0, 0,\n",
    "    minimo = 100\n",
    "    for rec in SeqIO.parse(arch1, \"fastq\"):\n",
    "        count += 1\n",
    "        total_len += len(rec.seq)\n",
    "        if maximo< len(rec.seq):\n",
    "            maximo = len(rec.seq)\n",
    "        if minimo > len(rec.seq):\n",
    "            minimo = len(rec.seq)\n",
    "    return (count, total_len, maximo, minimo)"
   ]
  },
  {
   "cell_type": "code",
   "execution_count": 8,
   "metadata": {},
   "outputs": [
    {
     "name": "stdout",
     "output_type": "stream",
     "text": [
      "archivo              \t#sec \tmin max \t archivo-trim\t\t\t #recor\tmin max\n",
      "../8_S356_L001_R1 \t 6652 \t 35 251 \t 8_S356_L001_R1_001_val_1.fq \t 6642 \t 24 251\n",
      "../8_S356_L001_R2 \t 6652 \t 35 251 \t 8_S356_L001_R2_001_val_2.fq \t 6642 \t 21 251\n"
     ]
    }
   ],
   "source": [
    "count1, count2, count3, count4 = 0, 0, 0, 0\n",
    "total_len1, total_len2, total_len3, total_len4, = 0, 0, 0, 0\n",
    "minimo1, minimo2, minimo3, minimo4 = 100, 100, 100, 100\n",
    "maximo1, maximo2, maximo3, maximo4 = 0, 0, 0, 0\n",
    "# cuenta secuencias en el primer archivo\n",
    "archivo1 = \"../8_S356_L001_R1_001.fastq\"\n",
    "count1, total_len1, maximo1, minimo1 = cuentasecuencias(archivo1)\n",
    "archivo2 = \"8_S356_L001_R1_001_val_1.fq\"\n",
    "count2, total_len2, maximo2, minimo2 = cuentasecuencias(archivo2)\n",
    "archivo3 = \"../8_S356_L001_R2_001.fastq\"\n",
    "count3, total_len3, maximo3, minimo3 = cuentasecuencias(archivo3)\n",
    "archivo4 = \"8_S356_L001_R2_001_val_2.fq\"\n",
    "count4, total_len4, maximo4, minimo4 = cuentasecuencias(archivo4)\n",
    "\n",
    "print (\"archivo              \\t#sec \\tmin max \\t archivo-trim\\t\\t\\t #recor\\tmin max\")\n",
    "print(archivo1[:17], \"\\t\", count1, \"\\t\", minimo1, maximo1, \"\\t\", archivo2, \"\\t\", count2, \"\\t\", minimo2, maximo2)\n",
    "print(archivo3[:17], \"\\t\", count3, \"\\t\", minimo3, maximo3, \"\\t\", archivo4, \"\\t\", count4, \"\\t\", minimo4, maximo4)\n"
   ]
  },
  {
   "cell_type": "raw",
   "metadata": {},
   "source": [
    "arc = \"archivo\"\n",
    "contar = \"count\"\n",
    "tl = \"total_len\"\n",
    "minimo = \"minimo\"\n",
    "maximo = \"maximo\"\n",
    "n = 1\n",
    "arc1 = [\"../8_S356_L001_R1_001.fastq\", \"8_S356_L001_R1_001_val_1.fq\", \"../8_S356_L001_R2_001.fastq\", \"8_S356_L001_R2_001_val_2.fq\"]\n",
    "for i in arc1:\n",
    "    arc = \"archivo\"+str(n)\n",
    "    contar = \"count\"+str(n)\n",
    "    tl = \"total_len\"+str(n)\n",
    "    minimo = \"minimo\"+str(n)\n",
    "    maximo = \"maximo\"+str(n)\n",
    "    \n",
    "    \n",
    "count1, count2, count3, count4 = 0, 0, 0, 0\n",
    "total_len1, total_len2, total_len3, total_len4, = 0, 0, 0, 0\n",
    "minimo1, minimo2, minimo3, minimo4 = 100, 100, 100, 100\n",
    "maximo1, maximo2, maximo3, maximo4 = 0, 0, 0, 0\n",
    "# cuenta secuencias en el primer archivo\n",
    "archivo1 = \"../8_S356_L001_R1_001.fastq\"\n",
    "count1, total_len1, maximo1, minimo1 = cuentasecuencias(archivo1)\n",
    "archivo2 = \"8_S356_L001_R1_001_val_1.fq\"\n",
    "count2, total_len2, maximo2, minimo2 = cuentasecuencias(archivo2)\n",
    "archivo3 = \"../8_S356_L001_R2_001.fastq\"\n",
    "count3, total_len3, maximo3, minimo3 = cuentasecuencias(archivo3)\n",
    "archivo4 = \"8_S356_L001_R2_001_val_2.fq\"\n",
    "count4, total_len4, maximo4, minimo4 = cuentasecuencias(archivo4)\n",
    "\n",
    "print (\"archivo              \\t#sec \\tmin max \\t archivo-trim\\t\\t\\t #recor\\tmin max\")\n",
    "print(archivo1[:17], \"\\t\", count1, \"\\t\", minimo1, maximo1, \"\\t\", archivo2, \"\\t\", count2, \"\\t\", minimo2, maximo2)\n",
    "print(archivo3[:17], \"\\t\", count3, \"\\t\", minimo3, maximo3, \"\\t\", archivo4, \"\\t\", count4, \"\\t\", minimo4, maximo4)\n"
   ]
  },
  {
   "cell_type": "code",
   "execution_count": null,
   "metadata": {},
   "outputs": [],
   "source": []
  },
  {
   "cell_type": "markdown",
   "metadata": {},
   "source": [
    "# Archivo de configuración para el ensamblador Soapdenovo\n",
    "En caso de ser necesario, cambiar el valor de `max_rd_len=`, en este caso a **251**  \n",
    "Revisar los demás parámetros, p. e. `rd_len_cutoff=`  \n",
    "Cambie las líneas q1 y q2, en este caso a:  \n",
    "`q1=8_S356_L001_R1_001_val_1.fq  \n",
    "q2=8_S356_L001_R2_001_val_2.fq`\n",
    "\n",
    "Leer el [manual](https://vcru.wisc.edu/simonlab/bioinformatics/programs/soap/SOAPdenovo2MANUAL.txt).  \n",
    "Asimismo es necesario tomar en cuenta el nombre del archivo de la configuración. En este caso:  \n",
    "`config_soap_8_S356.txt`"
   ]
  },
  {
   "cell_type": "code",
   "execution_count": 25,
   "metadata": {},
   "outputs": [],
   "source": [
    "fout = open(\"config_soap_8_S356.txt\", \"w\")\n",
    "linea=\"\"\"#maximal read length\n",
    "max_rd_len=251\n",
    "[LIB]\n",
    "#average insert size of the library\n",
    "avg_ins=300\n",
    "#if sequences are forward-reverse of reverse-forward\n",
    "reverse_seq=0\n",
    "#in which part(s) the reads are used (only contigs, only scaffolds, both contigs and scaffolds, only gap closure)\n",
    "asm_flags=3\n",
    "#cut the reads to the given length\n",
    "rd_len_cutoff=300\n",
    "#in which order the reads are used while scaffolding\n",
    "rank=1\n",
    "# cutoff of pair number for a reliable connection (at least 3 for short insert size)\n",
    "pair_num_cutoff=3\n",
    "#minimum aligned length to contigs for a reliable read location (at least 32 for short insert size)\n",
    "map_len=32\n",
    "#paired-end fastq files, read 1 file should always be followed by read 2 file\n",
    "q1=8_S356_L001_R1_001_val_1.fq\n",
    "q2=8_S356_L001_R2_001_val_2.fq\n",
    "#another pair of paired-end fastq files, read 1 file should always be followed by read 2 file\n",
    "#q1=input_reads2_pair_1.fq\n",
    "#q2=input_reads2_pair_2.fq\n",
    "#paired-end fasta files, read 1 file should always be followed by read 2 file\n",
    "#f1= SRX5014491_1_val_1.fq\n",
    "#f2=SRX5014491_2_val_2.fq\n",
    "#fastq file for single reads\n",
    "#q=input_reads.fq\n",
    "\"\"\"\n",
    "\n",
    "fout.write(linea)\n",
    "\n",
    "fout.close()"
   ]
  },
  {
   "cell_type": "markdown",
   "metadata": {},
   "source": [
    "### Verificando contenido del archivo de configuración"
   ]
  },
  {
   "cell_type": "code",
   "execution_count": 27,
   "metadata": {},
   "outputs": [
    {
     "name": "stdout",
     "output_type": "stream",
     "text": [
      "#maximal read length\r\n",
      "max_rd_len=300\r\n",
      "[LIB]\r\n",
      "#average insert size of the library\r\n",
      "avg_ins=300\r\n",
      "#if sequences are forward-reverse of reverse-forward\r\n",
      "reverse_seq=0\r\n",
      "#in which part(s) the reads are used (only contigs, only scaffolds, both contigs and scaffolds, only gap closure)\r\n",
      "asm_flags=3\r\n",
      "#cut the reads to the given length\r\n",
      "rd_len_cutoff=300\r\n",
      "#in which order the reads are used while scaffolding\r\n",
      "rank=1\r\n",
      "# cutoff of pair number for a reliable connection (at least 3 for short insert size)\r\n",
      "pair_num_cutoff=3\r\n",
      "#minimum aligned length to contigs for a reliable read location (at least 32 for short insert size)\r\n",
      "map_len=32\r\n",
      "#paired-end fastq files, read 1 file should always be followed by read 2 file\r\n",
      "q1=8_S356_L001_R1_001_val_1.fq\r\n",
      "q2=8_S356_L001_R2_001_val_2.fq\r\n",
      "#another pair of paired-end fastq files, read 1 file should always be followed by read 2 file\r\n",
      "#q1=input_reads2_pair_1.fq\r\n",
      "#q2=input_reads2_pair_2.fq\r\n",
      "#paired-end fasta files, read 1 file should always be followed by read 2 file\r\n",
      "#f1= SRX5014491_1_val_1.fq\r\n",
      "#f2=SRX5014491_2_val_2.fq\r\n",
      "#fastq file for single reads\r\n",
      "#q=input_reads.fq\r\n"
     ]
    }
   ],
   "source": [
    "!head -50 config_soap_8_S356.txt"
   ]
  },
  {
   "cell_type": "code",
   "execution_count": null,
   "metadata": {},
   "outputs": [],
   "source": [
    "ls"
   ]
  },
  {
   "cell_type": "code",
   "execution_count": null,
   "metadata": {},
   "outputs": [],
   "source": []
  },
  {
   "cell_type": "markdown",
   "metadata": {},
   "source": [
    "# Archivo para ejecutar sh.\n",
    "# Se debe cambiar el nombre del archivo generado, en este caso a:\n",
    "`open(\"soapdenovo2.submit\", \"w\")`"
   ]
  },
  {
   "cell_type": "code",
   "execution_count": 28,
   "metadata": {},
   "outputs": [],
   "source": [
    "fout = open(\"soapdenovo2.submit\", \"w\")\n",
    "linea=\"\"\"#!/bin/sh\n",
    "#SBATCH --job-name=SOAPdenovo2\n",
    "#SBATCH --nodes=1\n",
    "#SBATCH --ntasks-per-node=8\n",
    "#SBATCH --time=168:00:00\n",
    "#SBATCH --mem=50gb\n",
    "#SBATCH --output=SOAPdenovo2.%J.out\n",
    "#SBATCH --error=SOAPdenovo2.%J.err\n",
    "\n",
    "#module load soapdenovo2/r240\n",
    "\n",
    "SOAPdenovo-63mer all -s config_soap_8_S356.txt -K 31 -o output_directory/output31 -p $SLURM_NTASKS_PER_NODE\n",
    "\n",
    "\n",
    "\"\"\"\n",
    "\n",
    "fout.write(linea)\n",
    "\n",
    "fout.close()"
   ]
  },
  {
   "cell_type": "markdown",
   "metadata": {},
   "source": [
    "### Se verifica el contenido del archivo"
   ]
  },
  {
   "cell_type": "code",
   "execution_count": 29,
   "metadata": {},
   "outputs": [
    {
     "name": "stdout",
     "output_type": "stream",
     "text": [
      "#!/bin/sh\r\n",
      "#SBATCH --job-name=SOAPdenovo2\r\n",
      "#SBATCH --nodes=1\r\n",
      "#SBATCH --ntasks-per-node=8\r\n",
      "#SBATCH --time=168:00:00\r\n",
      "#SBATCH --mem=50gb\r\n",
      "#SBATCH --output=SOAPdenovo2.%J.out\r\n",
      "#SBATCH --error=SOAPdenovo2.%J.err\r\n",
      "\r\n",
      "#module load soapdenovo2/r240\r\n",
      "\r\n",
      "SOAPdenovo-63mer all -s config_soap_8_S356.txt -K 31 -o output_directory/output31 -p $SLURM_NTASKS_PER_NODE\r\n",
      "\r\n",
      "\r\n"
     ]
    }
   ],
   "source": [
    "!head -20 soapdenovo2.submit"
   ]
  },
  {
   "cell_type": "markdown",
   "metadata": {},
   "source": [
    "### Se crea el directorio de salida, en caso de no existir."
   ]
  },
  {
   "cell_type": "code",
   "execution_count": 30,
   "metadata": {},
   "outputs": [],
   "source": [
    "os.makedirs('output_directory',exist_ok=True)"
   ]
  },
  {
   "cell_type": "markdown",
   "metadata": {},
   "source": [
    "# Se ejecuta el programa"
   ]
  },
  {
   "cell_type": "code",
   "execution_count": 32,
   "metadata": {},
   "outputs": [
    {
     "name": "stdout",
     "output_type": "stream",
     "text": [
      "\n",
      "Version 2.04: released on July 13th, 2012\n",
      "Compile Dec 23 2013\t10:45:55\n",
      "all: option requires an argument -- p\n",
      "\n",
      "********************\n",
      "Pregraph\n",
      "********************\n",
      "\n",
      "Parameters: pregraph -s config_soap_8_S356.txt -K 31 -o output_directory/output31 \n",
      "\n",
      "In config_soap_8_S356.txt, 1 lib(s), maximum read length 300, maximum name length 256.\n",
      "\n",
      "8 thread(s) initialized.\n",
      "Import reads from file:\n",
      " 8_S356_L001_R1_001_val_1.fq\n",
      "Import reads from file:\n",
      " 8_S356_L001_R2_001_val_2.fq\n",
      "Time spent on hashing reads: 1s, 13284 read(s) processed.\n",
      "LIB(s) information:\n",
      " [LIB] 0, avg_ins 300, reverse 0.\n",
      "1879837 node(s) allocated, 2492602 kmer(s) in reads, 2492602 kmer(s) processed.\n",
      "done hashing nodes\n",
      "1855394 linear node(s) marked.\n",
      "Time spent on marking linear nodes: 0s.\n",
      "Time spent on pre-graph construction: 1s.\n",
      "\n",
      "Start to remove frequency-one-kmer tips shorter than 62.\n",
      "Total 6133 tip(s) removed.\n",
      "8 thread(s) initialized.\n",
      "1736 linear node(s) marked.\n",
      "Start to remove tips with minority links.\n",
      "437 tip(s) removed in cycle 1.\n",
      "0 tip(s) removed in cycle 2.\n",
      "Total 437 tip(s) removed.\n",
      "8 thread(s) initialized.\n",
      "0 linear node(s) marked.\n",
      "Time spent on removing tips: 1s.\n",
      "\n",
      "27964 (13983) edge(s) and 615 extra node(s) constructed.\n",
      "Time spent on constructing edges: 1s.\n",
      "\n",
      "In file: config_soap_8_S356.txt, max seq len 300, max name len 256.\n",
      "8 thread(s) initialized.\n",
      "Import reads from file:\n",
      " 8_S356_L001_R1_001_val_1.fq\n",
      "Import reads from file:\n",
      " 8_S356_L001_R2_001_val_2.fq\n",
      "13284 read(s) processed.\n",
      "Time spent on:\n",
      " importing reads: 0s,\n",
      " chopping reads to kmers: 0s,\n",
      " searching kmers: 0s,\n",
      " aligning reads to edges: 0s,\n",
      " searching (K+1)mers: 0s,\n",
      " adding pre-arcs: 0s,\n",
      " recording read paths: 0s.\n",
      "0 marker(s) output.\n",
      "Reads alignment done, 1845 read(s) deleted, 12201 pre-arc(s) added.\n",
      "LIB(s) information:\n",
      " [LIB] 0, avg_ins 300, reverse 0.\n",
      "Time spent on aligning reads: 1s.\n",
      "\n",
      "18578 vertex(es) output.\n",
      "Overall time spent on constructing pre-graph: 0m.\n",
      "\n",
      "\n",
      "********************\n",
      "Contig\n",
      "********************\n",
      "\n",
      "Parameters: contig -g output_directory/output31 -M 1 -s config_soap_8_S356.txt \n",
      "\n",
      "There are 18578 kmer(s) in vertex file.\n",
      "There are 27964 edge(s) in edge file.\n",
      "Kmers sorted.\n",
      "27964 edge(s) input.\n",
      "18438 pre-arcs loaded.\n",
      "7093 none-palindrome edge(s) swapped, 0 palindrome edge(s) processed.\n",
      "27964 edge(s) sorted.\n",
      "Arcs sorted.\n",
      "Start to pinch bubbles, cutoff 0.100000, MAX NODE NUM 3, MAX DIFF NUM 2.\n",
      "8231 start points, 6545 dheap nodes.\n",
      "1501 pair(s) found, 472 pair of path(s) compared, 375 pair(s) merged.\n",
      "Sequence comparison failed:\n",
      " Path crossing deleted edge                         0\n",
      " Length difference of two paths greater than two    29\n",
      " Mismatch score greater than cutoff (2)             65\n",
      " Mismatch score ratio greater than cutoff (0.1)     0\n",
      " Path length shorter than (Kmer-1)                  3\n",
      "DFibHeap: 169 node(s) allocated.\n",
      "935 edge(s) concatenated in cycle 1.\n",
      "13 edge(s) concatenated in cycle 2.\n",
      "0 edge(s) concatenated in cycle 3.\n",
      "Time spent on pinching bubbles: 0s.\n",
      "Start to destroy weak inner edges.\n",
      "1479 weak inner edge(s) destroyed in cycle 1.\n",
      "25 weak inner edge(s) destroyed in cycle 2.\n",
      "0 weak inner edge(s) destroyed in cycle 3.\n",
      "2934 dead arc(s) removed.\n",
      "146 inner edge(s) with coverage lower than or equal to 1 destroyed.\n",
      "306 dead arc(s) removed.\n",
      "952 edge(s) concatenated in cycle 1.\n",
      "22 edge(s) concatenated in cycle 2.\n",
      "0 edge(s) concatenated in cycle 3.\n",
      "Before compacting, 27964 edge(s) existed.\n",
      "After compacting, 20068 edge(s) left.\n",
      "\n",
      "Strict: 0, cutoff length: 62.\n",
      "744 tips cut in cycle 1.\n",
      "24 tips cut in cycle 2.\n",
      "5 tips cut in cycle 3.\n",
      "0 tips cut in cycle 4.\n",
      "555 dead arc(s) removed.\n",
      "287 edge(s) concatenated in cycle 1.\n",
      "2 edge(s) concatenated in cycle 2.\n",
      "0 edge(s) concatenated in cycle 3.\n",
      "Before compacting, 20068 edge(s) existed.\n",
      "After compacting, 17944 edge(s) left.\n",
      "\n",
      "There are 7834 contig(s) longer than 100, sum up 1879435 bp, with average length 239.\n",
      "The longest length is 908 bp, contig N50 is 250 bp,contig N90 is 160 bp.\n",
      "8973 contig(s) longer than 32 output.\n",
      "\n",
      "Time spent on constructing contig: 0m.\n",
      "\n",
      "\n",
      "********************\n",
      "Map\n",
      "********************\n",
      "\n",
      "Parameters: map -s config_soap_8_S356.txt -g output_directory/output31 -K 31 \n",
      "\n",
      "Kmer size: 31.\n",
      "Contig length cutoff: 33.\n",
      "\n",
      "8973 contig(s), maximum sequence length 908, minimum sequence length 32, maximum name length 10.\n",
      "Time spent on parsing contigs file: 0s.\n",
      "8 thread(s) initialized.\n",
      "Time spent on hashing contigs: 1s.\n",
      "1666576 node(s) allocated, 1668869 kmer(s) in contigs, 1668869 kmer(s) processed.\n",
      "Time spent on graph construction: 1s.\n",
      "\n",
      "Time spent on aligning long reads: 0s.\n",
      "\n",
      "In file: config_soap_8_S356.txt, max seq len 300, max name len 256\n",
      "8 thread(s) initialized.\n",
      "17944 edge(s) in the graph.\n",
      "Import reads from file:\n",
      " 8_S356_L001_R1_001_val_1.fq\n",
      "Import reads from file:\n",
      " 8_S356_L001_R2_001_val_2.fq\n",
      "Current insert size is 300, map_len is 32.\n",
      "\n",
      "Total reads         13284\n",
      "Reads in gaps       2126\n",
      "Ratio               16.0%\n",
      "Reads on contigs    12382\n",
      "Ratio               93.2%\n",
      "1 pe insert size, the largest boundary is 13284.\n",
      "\n",
      "LIB(s) information:\n",
      " [LIB] 0, avg_ins 300, reverse 0.\n",
      "Time spent on aligning reads: 1s.\n",
      "\n",
      "Overall time spent on alignment: 0m.\n",
      "\n",
      "\n",
      "********************\n",
      "Scaff\n",
      "********************\n",
      "\n",
      "Parameters: scaff -g output_directory/output31 \n",
      "\n",
      "gzip: error writing to output: Broken pipe\n",
      "gzip: output_directory/output31.readOnContig.gz: uncompress failed\n",
      "Files for scaffold construction are OK.\n",
      "\n",
      "There are 1 grad(s), 13284 read(s), max read len 300.\n",
      "Kmer size: 31\n",
      "There are 17944 edge(s) in edge file.\n",
      "Mask contigs with coverage lower than 0.3 or higher than 6.0, and strict length 100.\n",
      "Average contig coverage is 3, 1178 contig(s) masked.\n",
      "Mask contigs shorter than 33, 619 contig(s) masked.\n",
      "4620 arc(s) loaded, average weight is 1.\n",
      "8973 contig(s) loaded.\n",
      "Done loading updated edges.\n",
      "Time spent on loading updated edges: 0s.\n",
      "\n",
      "File output_directory/output31.links exists, skip creating the links...\n",
      "Time spent on loading paired-end reads information: 0s.\n",
      "\n",
      "*****************************************************\n",
      "Start to construct scaffolds.\n",
      "\n",
      "***************************\n",
      "For insert size: 300\n",
      " Total PE links                360\n",
      " PE links to masked contigs    112\n",
      " On same scaffold PE links     0\n",
      "Cutoff of PE links to make a reliable connection: 3\n",
      " Active connections    496\n",
      " Weak connections      496\n",
      " Weak ratio            100.0%\n",
      "0 circles removed.\n",
      "Start to remove transitive connection.\n",
      "Total contigs                         17944\n",
      "Masked contigs                        1797\n",
      "Remained contigs                      16147\n",
      "None-outgoing-connection contigs      16147 (100.000000%)\n",
      "Single-outgoing-connection contigs    0\n",
      "Multi-outgoing-connection contigs     0\n",
      "Cycle 1\n",
      " Two-outgoing-connection contigs     0\n",
      " Potential transitive connections    0\n",
      " Transitive connections              0\n",
      "Start to linearize sub-graph.\n",
      " Picked sub-graphs          0\n",
      " Connection-conflict        0\n",
      " Significant overlapping    0\n",
      " Eligible                   0\n",
      " Bubble structures          0\n",
      "Mask repeats:\n",
      " Puzzles           0\n",
      " Masked contigs    0\n",
      "Start to remove transitive connection.\n",
      "Total contigs                         17944\n",
      "Masked contigs                        1797\n",
      "Remained contigs                      16147\n",
      "None-outgoing-connection contigs      16147 (100.000000%)\n",
      "Single-outgoing-connection contigs    0\n",
      "Multi-outgoing-connection contigs     0\n",
      "Cycle 1\n",
      " Two-outgoing-connection contigs     0\n",
      " Potential transitive connections    0\n",
      " Transitive connections              0\n",
      "Start to linearize sub-graph.\n",
      " Picked sub-graphs          0\n",
      " Connection-conflict        0\n",
      " Significant overlapping    0\n",
      " Eligible                   0\n",
      " Bubble structures          0\n",
      "Non-strict linearization.\n",
      "Start to linearize sub-graph.\n",
      " Picked sub-graphs          0\n",
      " Connection-conflict        0\n",
      " Significant overlapping    0\n",
      " Eligible                   0\n",
      " Bubble structures          0\n",
      "Start to mask puzzles.\n",
      " Masked contigs      0\n",
      " Remained puzzles    0\n",
      "Freezing done.\n",
      "\n",
      "Recover contigs.\n",
      " Total recovered contigs    0\n",
      " Single-route cases         0\n",
      " Multi-route cases          0\n",
      "\n",
      "All links loaded.\n",
      "Time spent on constructing scaffolds: 0s.\n",
      "\n",
      "The final rank\n",
      "\n",
      "\n",
      "No scaffold was constructed.\n",
      "\n",
      "\n",
      "Done with 0 scaffolds, 0 gaps finished, 0 gaps overall.\n",
      "\n",
      "Overall time spent on constructing scaffolds: 0m.\n",
      "Time for the whole pipeline: 0m.\n",
      "\n",
      "real\t0m6.329s\n",
      "user\t0m8.210s\n",
      "sys\t0m4.857s\n"
     ]
    }
   ],
   "source": [
    "!time sh soapdenovo2.submit "
   ]
  },
  {
   "cell_type": "markdown",
   "metadata": {},
   "source": [
    "# Se verifican los archivos de salida y su contenido"
   ]
  },
  {
   "cell_type": "code",
   "execution_count": 7,
   "metadata": {},
   "outputs": [
    {
     "name": "stdout",
     "output_type": "stream",
     "text": [
      "output31.Arc               output31.preArc\r\n",
      "output31.ContigIndex       output31.preGraphBasic\r\n",
      "output31.bubbleInScaff     output31.readInGap.gz\r\n",
      "output31.contig            output31.readOnContig.gz\r\n",
      "output31.contigPosInscaff  output31.scaf\r\n",
      "output31.edge.gz           output31.scafSeq\r\n",
      "output31.gapSeq            output31.scafStatistics\r\n",
      "output31.kmerFreq          output31.scaf_gap\r\n",
      "output31.links             output31.updated.edge\r\n",
      "output31.newContigIndex    output31.vertex\r\n",
      "output31.peGrads\r\n"
     ]
    }
   ],
   "source": [
    "ls output_directory/"
   ]
  },
  {
   "cell_type": "markdown",
   "metadata": {},
   "source": [
    "### Escriba en la siguiente celda qué contiene cada archivo."
   ]
  },
  {
   "cell_type": "code",
   "execution_count": null,
   "metadata": {},
   "outputs": [],
   "source": []
  },
  {
   "cell_type": "markdown",
   "metadata": {},
   "source": [
    "### Verificando el contenido de *.contig"
   ]
  },
  {
   "cell_type": "code",
   "execution_count": 36,
   "metadata": {},
   "outputs": [
    {
     "name": "stdout",
     "output_type": "stream",
     "text": [
      ">1 length 32 cvg_0.0_tip_0\r\n",
      "AAAAAAGTACAGGCTCTGAAATGTACTCAAAG\r\n",
      ">3 length 32 cvg_0.0_tip_0\r\n",
      "AAAAATTAGAAACATCCTTTCTCAGAGTGATG\r\n",
      ">5 length 32 cvg_0.0_tip_0\r\n",
      "AAAACACACACACACACACACACACACACACA\r\n",
      ">7 length 32 cvg_0.0_tip_0\r\n",
      "AAAAGCTAATTCATGCATTTATTACTTCTAGG\r\n",
      ">9 length 32 cvg_0.0_tip_0\r\n",
      "AAAAGGGAGTTTTTCCTTCCCACTGTCACCAA\r\n"
     ]
    }
   ],
   "source": [
    "!head output_directory/output31.contig"
   ]
  },
  {
   "cell_type": "markdown",
   "metadata": {},
   "source": [
    "# Contando el número de contigs"
   ]
  },
  {
   "cell_type": "code",
   "execution_count": 43,
   "metadata": {},
   "outputs": [
    {
     "name": "stdout",
     "output_type": "stream",
     "text": [
      "    8973\r\n"
     ]
    }
   ],
   "source": [
    "!grep \"^>\" output_directory/output31.contig |wc -l"
   ]
  },
  {
   "cell_type": "markdown",
   "metadata": {},
   "source": [
    "# Contando el número de secuencias en montaje (scaffolding)"
   ]
  },
  {
   "cell_type": "code",
   "execution_count": 44,
   "metadata": {},
   "outputs": [
    {
     "name": "stdout",
     "output_type": "stream",
     "text": [
      "    7834\r\n"
     ]
    }
   ],
   "source": [
    "!grep \"^>\" output_directory/output31.scafSeq |wc -l"
   ]
  },
  {
   "cell_type": "markdown",
   "metadata": {},
   "source": [
    "# Estadística"
   ]
  },
  {
   "cell_type": "code",
   "execution_count": 45,
   "metadata": {
    "scrolled": true
   },
   "outputs": [
    {
     "name": "stdout",
     "output_type": "stream",
     "text": [
      "<-- Information for assembly Scaffold 'output_directory/output31.scafSeq'.(cut_off_length < 100bp) -->\r\n",
      "\r\n",
      "Size_includeN\t1879435\r\n",
      "Size_withoutN\t1879435\r\n",
      "Scaffold_Num\t7834\r\n",
      "Mean_Size\t239\r\n",
      "Median_Size\t247\r\n",
      "Longest_Seq\t908\r\n",
      "Shortest_Seq\t100\r\n",
      "Singleton_Num\t7834\r\n",
      "Average_length_of_break(N)_in_scaffold\t0\r\n",
      "\r\n",
      "Known_genome_size\tNaN\r\n",
      "Total_scaffold_length_as_percentage_of_known_genome_size\tNaN\r\n",
      "\r\n",
      "scaffolds>100 \t7797\t99.53\r\n",
      "scaffolds>500 \t21\t0.27\r\n",
      "scaffolds>1K  \t0\t0.00\r\n",
      "scaffolds>10K \t0\t0.00\r\n",
      "scaffolds>100K\t0\t0.00\r\n",
      "scaffolds>1M  \t0\t0.00\r\n",
      "\r\n",
      "Nucleotide_A\t553081\t29.43\r\n",
      "Nucleotide_C\t402847\t21.43\r\n",
      "Nucleotide_G\t387864\t20.64\r\n",
      "Nucleotide_T\t535643\t28.50\r\n",
      "GapContent_N\t0\t0.00\r\n",
      "Non_ACGTN\t0\t0.00\r\n",
      "GC_Content\t42.07\t\t(G+C)/(A+C+G+T)\r\n",
      "\r\n",
      "N10\t408\t424\r\n",
      "N20\t358\t916\r\n",
      "N30\t314\t1477\r\n",
      "N40\t251\t2208\r\n",
      "N50\t250\t2957\r\n",
      "N60\t248\t3711\r\n",
      "N70\t234\t4483\r\n",
      "N80\t203\t5344\r\n",
      "N90\t160\t6366\r\n",
      "\r\n",
      "NG50\tNaN\tNaN\r\n",
      "N50_scaffold-NG50_scaffold_length_difference\tNaN\r\n",
      "\r\n",
      "<-- Information for assembly Contig 'output_directory/output31.contig'.(cut_off_length < 100bp) -->\r\n",
      "\r\n",
      "Size_includeN\t1879435\r\n",
      "Size_withoutN\t1879435\r\n",
      "Contig_Num\t7834\r\n",
      "Mean_Size\t239\r\n",
      "Median_Size\t247\r\n",
      "Longest_Seq\t908\r\n",
      "Shortest_Seq\t100\r\n",
      "\r\n",
      "Contig>100 \t7797\t99.53\r\n",
      "Contig>500 \t21\t0.27\r\n",
      "Contig>1K  \t0\t0.00\r\n",
      "Contig>10K \t0\t0.00\r\n",
      "Contig>100K\t0\t0.00\r\n",
      "Contig>1M  \t0\t0.00\r\n",
      "\r\n",
      "Nucleotide_A\t553081\t29.43\r\n",
      "Nucleotide_C\t402847\t21.43\r\n",
      "Nucleotide_G\t387864\t20.64\r\n",
      "Nucleotide_T\t535643\t28.50\r\n",
      "GapContent_N\t0\t0.00\r\n",
      "Non_ACGTN\t0\t0.00\r\n",
      "GC_Content\t42.07\t\t(G+C)/(A+C+G+T)\r\n",
      "\r\n",
      "N10\t408\t424\r\n",
      "N20\t358\t916\r\n",
      "N30\t314\t1477\r\n",
      "N40\t251\t2208\r\n",
      "N50\t250\t2957\r\n",
      "N60\t248\t3711\r\n",
      "N70\t234\t4483\r\n",
      "N80\t203\t5344\r\n",
      "N90\t160\t6366\r\n",
      "\r\n",
      "NG50\tNaN\tNaN\r\n",
      "N50_contig-NG50_contig_length_difference\tNaN\r\n",
      "\r\n",
      "Number_of_contigs_in_scaffolds\t0\r\n",
      "Number_of_contigs_not_in_scaffolds(Singleton)\t7834\r\n",
      "Average_number_of_contigs_per_scaffold\tnan\r\n",
      "\r\n"
     ]
    }
   ],
   "source": [
    "!head -100 output_directory/output31.scafStatistics"
   ]
  },
  {
   "cell_type": "code",
   "execution_count": null,
   "metadata": {},
   "outputs": [],
   "source": []
  },
  {
   "cell_type": "markdown",
   "metadata": {},
   "source": [
    "## Una vez concluido el ensamblaje se procede a la anotación de los contigs"
   ]
  },
  {
   "cell_type": "code",
   "execution_count": null,
   "metadata": {},
   "outputs": [],
   "source": []
  }
 ],
 "metadata": {
  "kernelspec": {
   "display_name": "Python 3",
   "language": "python",
   "name": "python3"
  },
  "language_info": {
   "codemirror_mode": {
    "name": "ipython",
    "version": 3
   },
   "file_extension": ".py",
   "mimetype": "text/x-python",
   "name": "python",
   "nbconvert_exporter": "python",
   "pygments_lexer": "ipython3",
   "version": "3.7.1"
  }
 },
 "nbformat": 4,
 "nbformat_minor": 2
}
