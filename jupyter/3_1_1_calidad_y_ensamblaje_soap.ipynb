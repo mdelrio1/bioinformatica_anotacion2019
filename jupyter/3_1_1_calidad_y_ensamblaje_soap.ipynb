{
 "cells": [
  {
   "cell_type": "markdown",
   "metadata": {},
   "source": [
    "# Bitacora: calidad de la secuenciación masiva y ensamblaje "
   ]
  },
  {
   "cell_type": "markdown",
   "metadata": {},
   "source": [
    "En esta bitácora se utilizarán diferentes programas "
   ]
  },
  {
   "cell_type": "markdown",
   "metadata": {},
   "source": [
    "# FastQC\n",
    "Se puede encontrar más información en el sitio de [fastqc](http://www.bioinformatics.babraham.ac.uk/projects/fastqc/) \n",
    "<img src=\"img/fastqc1.png\">\n",
    "y de  [Trim Galore](https://www.bioinformatics.babraham.ac.uk/projects/trim_galore/)\n",
    "<img src=\"./img/trim_galore.png\">"
   ]
  },
  {
   "cell_type": "markdown",
   "metadata": {},
   "source": [
    "# Ensamblaje con Soapdenovo2\n",
    "Luo, R. et al. 2012. SOAPdenovo2: an empirically improved memory-efficient short-read de novo assembler. Gigascience 1, 18. [doi: 10.1186/2047-217X-1-18](https://academic.oup.com/gigascience/article/1/1/2047-217X-1-18/2656146)\n",
    "SOAPdenovo2 [manual](https://github.com/aquaskyline/SOAPdenovo2)"
   ]
  },
  {
   "cell_type": "markdown",
   "metadata": {},
   "source": [
    "### Todos estos programas se pueden instalar en sistemas Linux o iOS desde [anaconda](https://anaconda.org/bioconda/soapdenovo2)"
   ]
  },
  {
   "cell_type": "code",
   "execution_count": null,
   "metadata": {},
   "outputs": [],
   "source": [
    "import os\n",
    "from Bio import SeqIO, Entrez"
   ]
  },
  {
   "cell_type": "code",
   "execution_count": null,
   "metadata": {},
   "outputs": [],
   "source": [
    "cd ~/Desktop/bioinformatica_anotacion2019/data/sec_masiva/"
   ]
  },
  {
   "cell_type": "code",
   "execution_count": null,
   "metadata": {},
   "outputs": [],
   "source": [
    "ls"
   ]
  },
  {
   "cell_type": "code",
   "execution_count": null,
   "metadata": {},
   "outputs": [],
   "source": [
    "%%bash\n",
    "grep \"^@\" ../8_S356_L001_R1_001.fastq | wc -l\n",
    "grep \"^@\" ../8_S356_L001_R2_001.fastq | wc -l\n"
   ]
  },
  {
   "cell_type": "markdown",
   "metadata": {},
   "source": [
    "### Número de secuencias obtenidas:\n",
    "\n",
    "|archivo|secuencias|\n",
    "|-------|----------|\n",
    "|8_S356_L001_R1_001.fastq|6660|\n",
    "|8_S356_L001_R2_001.fastq|6674|"
   ]
  },
  {
   "cell_type": "code",
   "execution_count": null,
   "metadata": {
    "scrolled": true
   },
   "outputs": [],
   "source": [
    "%%bash\n",
    "time fastqc 8_S356_L001_R1_001.fastq \n",
    "time fastqc 8_S356_L001_R2_001.fastq"
   ]
  },
  {
   "cell_type": "code",
   "execution_count": null,
   "metadata": {},
   "outputs": [],
   "source": [
    "ls -lh"
   ]
  },
  {
   "cell_type": "code",
   "execution_count": null,
   "metadata": {},
   "outputs": [],
   "source": [
    "os.makedirs('fastqc',exist_ok=True)"
   ]
  },
  {
   "cell_type": "code",
   "execution_count": null,
   "metadata": {},
   "outputs": [],
   "source": [
    "cd fastqc/"
   ]
  },
  {
   "cell_type": "code",
   "execution_count": null,
   "metadata": {
    "scrolled": true
   },
   "outputs": [],
   "source": [
    "%%bash\n",
    "time trim_galore --paired ../8_S356_L001_R1_001.fastq ../8_S356_L001_R2_001.fastq"
   ]
  },
  {
   "cell_type": "code",
   "execution_count": null,
   "metadata": {},
   "outputs": [],
   "source": [
    "ls -lh "
   ]
  },
  {
   "cell_type": "code",
   "execution_count": null,
   "metadata": {
    "scrolled": true
   },
   "outputs": [],
   "source": [
    "!head -80 8_S356_L001_R1_001.fastq_trimming_report.txt"
   ]
  },
  {
   "cell_type": "code",
   "execution_count": null,
   "metadata": {
    "scrolled": true
   },
   "outputs": [],
   "source": [
    "!head -80 8_S356_L001_R2_001.fastq_trimming_report.txt"
   ]
  },
  {
   "cell_type": "code",
   "execution_count": null,
   "metadata": {},
   "outputs": [],
   "source": [
    "%%bash\n",
    "grep \"^@\" 8_S356_L001_R1_001_val_1.fq | wc -l\n",
    "grep \"^@\" 8_S356_L001_R2_001_val_2.fq | wc -l"
   ]
  },
  {
   "cell_type": "markdown",
   "metadata": {},
   "source": [
    "### Número de secuencias obtenidas:\n",
    "\n",
    "|archivo|secuencias|archivo-trim|recortadas|\n",
    "|-------|----------|----------|----------|\n",
    "|8_S356_L001_R1_001.fastq|6660|8_S356_L001_R1_001_val_1.fq|6650|\n",
    "|8_S356_L001_R2_001.fastq|6674|8_S356_L001_R2_001_val_2.fq|6664|"
   ]
  },
  {
   "cell_type": "markdown",
   "metadata": {},
   "source": [
    "Tomado del manual de [Biopython](http://biopython.org/DIST/docs/tutorial/Tutorial.html#htoc292)"
   ]
  },
  {
   "cell_type": "code",
   "execution_count": null,
   "metadata": {},
   "outputs": [],
   "source": [
    "def cuentasecuencias(arch1):\n",
    "    count, total_len, maximo = 0, 0, 0,\n",
    "    minimo = 100\n",
    "    for rec in SeqIO.parse(arch1, \"fastq\"):\n",
    "        count += 1\n",
    "        total_len += len(rec.seq)\n",
    "        if maximo< len(rec.seq):\n",
    "            maximo = len(rec.seq)\n",
    "        if minimo > len(rec.seq):\n",
    "            minimo = len(rec.seq)\n",
    "    return (count, total_len, maximo, minimo)"
   ]
  },
  {
   "cell_type": "code",
   "execution_count": null,
   "metadata": {},
   "outputs": [],
   "source": [
    "count1, count2, count3, count4 = 0, 0, 0, 0\n",
    "total_len1, total_len2, total_len3, total_len4, = 0, 0, 0, 0\n",
    "minimo1, minimo2, minimo3, minimo4 = 100, 100, 100, 100\n",
    "maximo1, maximo2, maximo3, maximo4 = 0, 0, 0, 0\n",
    "# cuenta secuencias en el primer archivo\n",
    "archivo1 = \"../8_S356_L001_R1_001.fastq\"\n",
    "count1, total_len1, maximo1, minimo1 = cuentasecuencias(archivo1)\n",
    "archivo2 = \"8_S356_L001_R1_001_val_1.fq\"\n",
    "count2, total_len2, maximo2, minimo2 = cuentasecuencias(archivo2)\n",
    "archivo3 = \"../8_S356_L001_R2_001.fastq\"\n",
    "count3, total_len3, maximo3, minimo3 = cuentasecuencias(archivo3)\n",
    "archivo4 = \"8_S356_L001_R2_001_val_2.fq\"\n",
    "count4, total_len4, maximo4, minimo4 = cuentasecuencias(archivo4)\n",
    "\n",
    "print (\"archivo              \\t#sec \\tmin max \\t archivo-trim\\t\\t\\t #recor\\tmin max\")\n",
    "print(archivo1[:17], \"\\t\", count1, \"\\t\", minimo1, maximo1, \"\\t\", archivo2, \"\\t\", count2, \"\\t\", minimo2, maximo2)\n",
    "print(archivo3[:17], \"\\t\", count3, \"\\t\", minimo3, maximo3, \"\\t\", archivo4, \"\\t\", count4, \"\\t\", minimo4, maximo4)\n"
   ]
  },
  {
   "cell_type": "raw",
   "metadata": {},
   "source": [
    "arc = \"archivo\"\n",
    "contar = \"count\"\n",
    "tl = \"total_len\"\n",
    "minimo = \"minimo\"\n",
    "maximo = \"maximo\"\n",
    "n = 1\n",
    "arc1 = [\"../8_S356_L001_R1_001.fastq\", \"8_S356_L001_R1_001_val_1.fq\", \"../8_S356_L001_R2_001.fastq\", \"8_S356_L001_R2_001_val_2.fq\"]\n",
    "for i in arc1:\n",
    "    arc = \"archivo\"+str(n)\n",
    "    contar = \"count\"+str(n)\n",
    "    tl = \"total_len\"+str(n)\n",
    "    minimo = \"minimo\"+str(n)\n",
    "    maximo = \"maximo\"+str(n)\n",
    "    \n",
    "    \n",
    "count1, count2, count3, count4 = 0, 0, 0, 0\n",
    "total_len1, total_len2, total_len3, total_len4, = 0, 0, 0, 0\n",
    "minimo1, minimo2, minimo3, minimo4 = 100, 100, 100, 100\n",
    "maximo1, maximo2, maximo3, maximo4 = 0, 0, 0, 0\n",
    "# cuenta secuencias en el primer archivo\n",
    "archivo1 = \"../8_S356_L001_R1_001.fastq\"\n",
    "count1, total_len1, maximo1, minimo1 = cuentasecuencias(archivo1)\n",
    "archivo2 = \"8_S356_L001_R1_001_val_1.fq\"\n",
    "count2, total_len2, maximo2, minimo2 = cuentasecuencias(archivo2)\n",
    "archivo3 = \"../8_S356_L001_R2_001.fastq\"\n",
    "count3, total_len3, maximo3, minimo3 = cuentasecuencias(archivo3)\n",
    "archivo4 = \"8_S356_L001_R2_001_val_2.fq\"\n",
    "count4, total_len4, maximo4, minimo4 = cuentasecuencias(archivo4)\n",
    "\n",
    "print (\"archivo              \\t#sec \\tmin max \\t archivo-trim\\t\\t\\t #recor\\tmin max\")\n",
    "print(archivo1[:17], \"\\t\", count1, \"\\t\", minimo1, maximo1, \"\\t\", archivo2, \"\\t\", count2, \"\\t\", minimo2, maximo2)\n",
    "print(archivo3[:17], \"\\t\", count3, \"\\t\", minimo3, maximo3, \"\\t\", archivo4, \"\\t\", count4, \"\\t\", minimo4, maximo4)\n"
   ]
  },
  {
   "cell_type": "code",
   "execution_count": null,
   "metadata": {},
   "outputs": [],
   "source": []
  },
  {
   "cell_type": "markdown",
   "metadata": {},
   "source": [
    "# Archivo de configuración para el ensamblador Soapdenovo\n",
    "En caso de ser necesario, cambiar el valor de `max_rd_len=`, en este caso a **251**  \n",
    "Revisar los demás parámetros, p. e. `rd_len_cutoff=`  \n",
    "Cambie las líneas q1 y q2, en este caso a:  \n",
    "`q1=8_S356_L001_R1_001_val_1.fq  \n",
    "q2=8_S356_L001_R2_001_val_2.fq`\n",
    "\n",
    "Leer el [manual](https://vcru.wisc.edu/simonlab/bioinformatics/programs/soap/SOAPdenovo2MANUAL.txt).  \n",
    "Asimismo es necesario tomar en cuenta el nombre del archivo de la configuración. En este caso:  \n",
    "`config_soap_8_S356.txt`"
   ]
  },
  {
   "cell_type": "code",
   "execution_count": null,
   "metadata": {},
   "outputs": [],
   "source": [
    "fout = open(\"config_soap_8_S356.txt\", \"w\")\n",
    "linea=\"\"\"#maximal read length\n",
    "max_rd_len=251\n",
    "[LIB]\n",
    "#average insert size of the library\n",
    "avg_ins=300\n",
    "#if sequences are forward-reverse of reverse-forward\n",
    "reverse_seq=0\n",
    "#in which part(s) the reads are used (only contigs, only scaffolds, both contigs and scaffolds, only gap closure)\n",
    "asm_flags=3\n",
    "#cut the reads to the given length\n",
    "rd_len_cutoff=300\n",
    "#in which order the reads are used while scaffolding\n",
    "rank=1\n",
    "# cutoff of pair number for a reliable connection (at least 3 for short insert size)\n",
    "pair_num_cutoff=3\n",
    "#minimum aligned length to contigs for a reliable read location (at least 32 for short insert size)\n",
    "map_len=32\n",
    "#paired-end fastq files, read 1 file should always be followed by read 2 file\n",
    "q1=8_S356_L001_R1_001_val_1.fq\n",
    "q2=8_S356_L001_R2_001_val_2.fq\n",
    "#another pair of paired-end fastq files, read 1 file should always be followed by read 2 file\n",
    "#q1=input_reads2_pair_1.fq\n",
    "#q2=input_reads2_pair_2.fq\n",
    "#paired-end fasta files, read 1 file should always be followed by read 2 file\n",
    "#f1= SRX5014491_1_val_1.fq\n",
    "#f2=SRX5014491_2_val_2.fq\n",
    "#fastq file for single reads\n",
    "#q=input_reads.fq\n",
    "\"\"\"\n",
    "\n",
    "fout.write(linea)\n",
    "\n",
    "fout.close()"
   ]
  },
  {
   "cell_type": "markdown",
   "metadata": {},
   "source": [
    "### Verificando contenido del archivo de configuración"
   ]
  },
  {
   "cell_type": "code",
   "execution_count": null,
   "metadata": {},
   "outputs": [],
   "source": [
    "!head -50 config_soap_8_S356.txt"
   ]
  },
  {
   "cell_type": "code",
   "execution_count": null,
   "metadata": {},
   "outputs": [],
   "source": [
    "ls"
   ]
  },
  {
   "cell_type": "code",
   "execution_count": null,
   "metadata": {},
   "outputs": [],
   "source": []
  },
  {
   "cell_type": "markdown",
   "metadata": {},
   "source": [
    "# Archivo para ejecutar sh.\n",
    "# Se debe cambiar el nombre del archivo generado, en este caso a:\n",
    "`open(\"soapdenovo2.submit\", \"w\")`"
   ]
  },
  {
   "cell_type": "code",
   "execution_count": null,
   "metadata": {},
   "outputs": [],
   "source": [
    "fout = open(\"soapdenovo2.submit\", \"w\")\n",
    "linea=\"\"\"#!/bin/sh\n",
    "#SBATCH --job-name=SOAPdenovo2\n",
    "#SBATCH --nodes=1\n",
    "#SBATCH --ntasks-per-node=8\n",
    "#SBATCH --time=168:00:00\n",
    "#SBATCH --mem=50gb\n",
    "#SBATCH --output=SOAPdenovo2.%J.out\n",
    "#SBATCH --error=SOAPdenovo2.%J.err\n",
    "\n",
    "#module load soapdenovo2/r240\n",
    "\n",
    "SOAPdenovo-63mer all -s config_soap_8_S356.txt -K 31 -o output_directory/output31 -p $SLURM_NTASKS_PER_NODE\n",
    "\n",
    "\n",
    "\"\"\"\n",
    "\n",
    "fout.write(linea)\n",
    "\n",
    "fout.close()"
   ]
  },
  {
   "cell_type": "markdown",
   "metadata": {},
   "source": [
    "### Se verifica el contenido del archivo"
   ]
  },
  {
   "cell_type": "code",
   "execution_count": null,
   "metadata": {},
   "outputs": [],
   "source": [
    "!head -20 soapdenovo2.submit"
   ]
  },
  {
   "cell_type": "markdown",
   "metadata": {},
   "source": [
    "### Se crea el directorio de salida, en caso de no existir."
   ]
  },
  {
   "cell_type": "code",
   "execution_count": null,
   "metadata": {},
   "outputs": [],
   "source": [
    "os.makedirs('output_directory',exist_ok=True)"
   ]
  },
  {
   "cell_type": "markdown",
   "metadata": {},
   "source": [
    "# Se ejecuta el programa"
   ]
  },
  {
   "cell_type": "code",
   "execution_count": null,
   "metadata": {},
   "outputs": [],
   "source": [
    "!time sh soapdenovo2.submit "
   ]
  },
  {
   "cell_type": "markdown",
   "metadata": {},
   "source": [
    "# Se verifican los archivos de salida y su contenido"
   ]
  },
  {
   "cell_type": "code",
   "execution_count": null,
   "metadata": {},
   "outputs": [],
   "source": [
    "ls output_directory/"
   ]
  },
  {
   "cell_type": "markdown",
   "metadata": {},
   "source": [
    "### Escriba en la siguiente celda qué contiene cada archivo."
   ]
  },
  {
   "cell_type": "code",
   "execution_count": null,
   "metadata": {},
   "outputs": [],
   "source": []
  },
  {
   "cell_type": "markdown",
   "metadata": {},
   "source": [
    "### Verificando el contenido de *.contig"
   ]
  },
  {
   "cell_type": "code",
   "execution_count": null,
   "metadata": {},
   "outputs": [],
   "source": [
    "!head output_directory/output31.contig"
   ]
  },
  {
   "cell_type": "markdown",
   "metadata": {},
   "source": [
    "# Contando el número de contigs"
   ]
  },
  {
   "cell_type": "code",
   "execution_count": null,
   "metadata": {},
   "outputs": [],
   "source": [
    "!grep \"^>\" output_directory/output31.contig |wc -l"
   ]
  },
  {
   "cell_type": "markdown",
   "metadata": {},
   "source": [
    "# Contando el número de secuencias en montaje (scaffolding)"
   ]
  },
  {
   "cell_type": "code",
   "execution_count": null,
   "metadata": {},
   "outputs": [],
   "source": [
    "!grep \"^>\" output_directory/output31.scafSeq |wc -l"
   ]
  },
  {
   "cell_type": "markdown",
   "metadata": {},
   "source": [
    "# Estadística"
   ]
  },
  {
   "cell_type": "code",
   "execution_count": null,
   "metadata": {
    "scrolled": true
   },
   "outputs": [],
   "source": [
    "!head -100 output_directory/output31.scafStatistics"
   ]
  },
  {
   "cell_type": "code",
   "execution_count": null,
   "metadata": {},
   "outputs": [],
   "source": []
  },
  {
   "cell_type": "markdown",
   "metadata": {},
   "source": [
    "## Una vez concluido el ensamblaje se procede a la anotación de los contigs"
   ]
  },
  {
   "cell_type": "code",
   "execution_count": null,
   "metadata": {},
   "outputs": [],
   "source": []
  }
 ],
 "metadata": {
  "kernelspec": {
   "display_name": "Python 3",
   "language": "python",
   "name": "python3"
  },
  "language_info": {
   "codemirror_mode": {
    "name": "ipython",
    "version": 3
   },
   "file_extension": ".py",
   "mimetype": "text/x-python",
   "name": "python",
   "nbconvert_exporter": "python",
   "pygments_lexer": "ipython3",
   "version": "3.7.1"
  }
 },
 "nbformat": 4,
 "nbformat_minor": 2
}
