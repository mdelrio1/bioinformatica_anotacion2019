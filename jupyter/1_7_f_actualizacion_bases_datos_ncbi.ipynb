{
 "cells": [
  {
   "cell_type": "markdown",
   "metadata": {},
   "source": [
    "# Actualización de las bases de datos del NCBI"
   ]
  },
  {
   "cell_type": "markdown",
   "metadata": {},
   "source": [
    "### Se requiere tener instalado el blast\n",
    "https://blast.ncbi.nlm.nih.gov/Blast.cgi?CMD=Web&PAGE_TYPE=BlastDocs&DOC_TYPE=Download\n",
    "ejecutar en el cmd\n",
    "blastn -version\n",
    "\n",
    "### se requiere tener instalado el lenguaje perl\n",
    "se puede instalar con el comando de [anaconda.org](https://anaconda.org/conda-forge/perl)  \n",
    "`conda install -c conda-forge perl`  \n",
    "o desde:  \n",
    "https://www.perl.org\n",
    "ejecutar en el cmd  \n",
    "perl -version \n",
    "\n",
    "\n"
   ]
  },
  {
   "cell_type": "markdown",
   "metadata": {},
   "source": [
    "### Se actualiza la base de datos utilizando un comando de perl"
   ]
  },
  {
   "cell_type": "code",
   "execution_count": 1,
   "metadata": {},
   "outputs": [],
   "source": [
    "import os"
   ]
  },
  {
   "cell_type": "code",
   "execution_count": 2,
   "metadata": {},
   "outputs": [
    {
     "name": "stdout",
     "output_type": "stream",
     "text": [
      "/Users/migueldelrio/Desktop/bigdata\n"
     ]
    }
   ],
   "source": [
    "cd ~/Desktop/bigdata/"
   ]
  },
  {
   "cell_type": "markdown",
   "metadata": {},
   "source": [
    "## Verificar que está el archivo\n",
    "`update_blastdb.pl`\n"
   ]
  },
  {
   "cell_type": "markdown",
   "metadata": {},
   "source": [
    "### En el servidor está en \n",
    "### `/home/databases/`\n",
    "#### para buscar un archivo se usa\n",
    "`which update_blastdb.pl`  \n",
    "`whereis update_blastdb.pl`"
   ]
  },
  {
   "cell_type": "code",
   "execution_count": 3,
   "metadata": {},
   "outputs": [
    {
     "name": "stdout",
     "output_type": "stream",
     "text": [
      "\u001b[34m16SMicrobial\u001b[m\u001b[m/                      \u001b[34mm_philippinarum\u001b[m\u001b[m/\r\n",
      "\u001b[34mAnoplopoma_fimbria_genome\u001b[m\u001b[m/         \u001b[34mnt\u001b[m\u001b[m/\r\n",
      "Oncorhynchus_mykiss20170228.fasta  \u001b[34mo_bimaculoides\u001b[m\u001b[m/\r\n",
      "UniProtKB_completo.pdf             onco.nhr\r\n",
      "UniProtKB_completo20180912.pdf     onco.nin\r\n",
      "UniProtKB_default.pdf              onco.nog\r\n",
      "\u001b[34mb_platifrons\u001b[m\u001b[m/                      onco.nsd\r\n",
      "\u001b[34mbacalao_genoma\u001b[m\u001b[m/                    onco.nsi\r\n",
      "ec-5.4.2.2.txt                     onco.nsq\r\n",
      "\u001b[31mgo_to_goslim.csv\u001b[m\u001b[m*                  spidgo.csv\r\n",
      "keywlist.txt                       \u001b[34mswissprot\u001b[m\u001b[m/\r\n",
      "\u001b[34mm_galloprovincialis\u001b[m\u001b[m/               \u001b[34mtruchasbigdata\u001b[m\u001b[m/\r\n",
      "\u001b[34mm_menidia\u001b[m\u001b[m/                         \u001b[34muniprot\u001b[m\u001b[m/\r\n"
     ]
    }
   ],
   "source": [
    "ls"
   ]
  },
  {
   "cell_type": "markdown",
   "metadata": {
    "scrolled": false
   },
   "source": [
    "#### ejemplo:\n",
    "ls /Users/migueldelrio/anaconda3/pkgs/blast-2.6.0-boost1.64_2/bin/up*"
   ]
  },
  {
   "cell_type": "code",
   "execution_count": 5,
   "metadata": {},
   "outputs": [],
   "source": [
    "os.makedirs('16SMicrobial',exist_ok=True)"
   ]
  },
  {
   "cell_type": "code",
   "execution_count": 6,
   "metadata": {},
   "outputs": [
    {
     "name": "stdout",
     "output_type": "stream",
     "text": [
      "/Users/migueldelrio/Desktop/bigdata/16SMicrobial\n"
     ]
    }
   ],
   "source": [
    "cd ~/Desktop/bigdata/16SMicrobial"
   ]
  },
  {
   "cell_type": "raw",
   "metadata": {},
   "source": [
    "!perl ~/aplicaciones/update_blastdb.pl --passive 16SMicrobial"
   ]
  },
  {
   "cell_type": "code",
   "execution_count": 11,
   "metadata": {},
   "outputs": [
    {
     "name": "stdout",
     "output_type": "stream",
     "text": [
      "Connected to NCBI\n",
      "16SMicrobial.tar.gz is up to date.\n"
     ]
    }
   ],
   "source": [
    "!perl /Users/migueldelrio/anaconda3/pkgs/blast-2.6.0-boost1.64_2/bin/update_blastdb.pl --passive 16SMicrobial"
   ]
  },
  {
   "cell_type": "markdown",
   "metadata": {},
   "source": [
    "En caso de no poder instalar mediante el `update_blastdb.pl` se descarga el archivo directamente desde la página del NCBI"
   ]
  },
  {
   "cell_type": "markdown",
   "metadata": {},
   "source": [
    "![](img/ncbi_descarga_bd.png)"
   ]
  },
  {
   "cell_type": "code",
   "execution_count": null,
   "metadata": {},
   "outputs": [],
   "source": [
    "ls -lh"
   ]
  },
  {
   "cell_type": "code",
   "execution_count": 9,
   "metadata": {},
   "outputs": [
    {
     "name": "stdout",
     "output_type": "stream",
     "text": [
      "x 16SMicrobial.nhr\n",
      "x 16SMicrobial.nin\n",
      "x 16SMicrobial.nnd\n",
      "x 16SMicrobial.nni\n",
      "x 16SMicrobial.nog\n",
      "x 16SMicrobial.nsd\n",
      "x 16SMicrobial.nsi\n",
      "x 16SMicrobial.nsq\n",
      "x taxdb.btd\n",
      "x taxdb.bti\n"
     ]
    }
   ],
   "source": [
    "!tar -xzvf 16SMicrobial.tar.gz"
   ]
  },
  {
   "cell_type": "code",
   "execution_count": 10,
   "metadata": {},
   "outputs": [
    {
     "name": "stdout",
     "output_type": "stream",
     "text": [
      "total 395536\r\n",
      "drwx------  5 migueldelrio  staff   160B May  7 13:19 \u001b[34m16SMicrobial\u001b[m\u001b[m/\r\n",
      "-rw-r--r--  1 migueldelrio  staff   3.1M Jun 15 23:04 16SMicrobial.nhr\r\n",
      "-rw-r--r--  1 migueldelrio  staff   243K Jun 15 23:04 16SMicrobial.nin\r\n",
      "-rw-r--r--  1 migueldelrio  staff   165K Jun 15 23:04 16SMicrobial.nnd\r\n",
      "-rw-r--r--  1 migueldelrio  staff   708B Jun 15 23:04 16SMicrobial.nni\r\n",
      "-rw-r--r--  1 migueldelrio  staff    81K Jun 15 23:04 16SMicrobial.nog\r\n",
      "-rw-r--r--  1 migueldelrio  staff   678K Jun 15 23:04 16SMicrobial.nsd\r\n",
      "-rw-r--r--  1 migueldelrio  staff    15K Jun 15 23:04 16SMicrobial.nsi\r\n",
      "-rw-r--r--  1 migueldelrio  staff   7.3M Jun 15 23:04 16SMicrobial.nsq\r\n",
      "-rw-r--r--  1 migueldelrio  staff    33M Jun 17 13:07 16SMicrobial.tar.gz\r\n",
      "-rw-r--r--  1 migueldelrio  staff    54B Jun 17 13:07 16SMicrobial.tar.gz.md5\r\n",
      "-rw-r--r--  1 migueldelrio  staff   134M Jun 15 23:04 taxdb.btd\r\n",
      "-rw-r--r--  1 migueldelrio  staff    14M Jun 15 23:04 taxdb.bti\r\n"
     ]
    }
   ],
   "source": [
    "ls -lh"
   ]
  },
  {
   "cell_type": "markdown",
   "metadata": {},
   "source": [
    "### Cómo serían los comandos para descargar y descomprimir las proteinas de referencia (swissprot)?\n"
   ]
  },
  {
   "cell_type": "code",
   "execution_count": 12,
   "metadata": {},
   "outputs": [
    {
     "name": "stdout",
     "output_type": "stream",
     "text": [
      "/Users/migueldelrio/Desktop/bigdata\n"
     ]
    }
   ],
   "source": [
    "cd ~/Desktop/bigdata/"
   ]
  },
  {
   "cell_type": "code",
   "execution_count": 13,
   "metadata": {},
   "outputs": [
    {
     "name": "stdout",
     "output_type": "stream",
     "text": [
      "\u001b[34m16SMicrobial\u001b[m\u001b[m/                      \u001b[34mm_philippinarum\u001b[m\u001b[m/\r\n",
      "\u001b[34mAnoplopoma_fimbria_genome\u001b[m\u001b[m/         \u001b[34mnt\u001b[m\u001b[m/\r\n",
      "Oncorhynchus_mykiss20170228.fasta  \u001b[34mo_bimaculoides\u001b[m\u001b[m/\r\n",
      "UniProtKB_completo.pdf             onco.nhr\r\n",
      "UniProtKB_completo20180912.pdf     onco.nin\r\n",
      "UniProtKB_default.pdf              onco.nog\r\n",
      "\u001b[34mb_platifrons\u001b[m\u001b[m/                      onco.nsd\r\n",
      "\u001b[34mbacalao_genoma\u001b[m\u001b[m/                    onco.nsi\r\n",
      "ec-5.4.2.2.txt                     onco.nsq\r\n",
      "\u001b[31mgo_to_goslim.csv\u001b[m\u001b[m*                  spidgo.csv\r\n",
      "keywlist.txt                       \u001b[34mswissprot\u001b[m\u001b[m/\r\n",
      "\u001b[34mm_galloprovincialis\u001b[m\u001b[m/               \u001b[34mtruchasbigdata\u001b[m\u001b[m/\r\n",
      "\u001b[34mm_menidia\u001b[m\u001b[m/                         \u001b[34muniprot\u001b[m\u001b[m/\r\n"
     ]
    }
   ],
   "source": [
    "ls"
   ]
  },
  {
   "cell_type": "code",
   "execution_count": 14,
   "metadata": {},
   "outputs": [],
   "source": [
    "os.makedirs('swissprot',exist_ok=True)"
   ]
  },
  {
   "cell_type": "code",
   "execution_count": 15,
   "metadata": {},
   "outputs": [
    {
     "name": "stdout",
     "output_type": "stream",
     "text": [
      "/Users/migueldelrio/Desktop/bigdata/swissprot\n"
     ]
    }
   ],
   "source": [
    "cd ~/colaboradores/BASES/swissprot/"
   ]
  },
  {
   "cell_type": "code",
   "execution_count": 17,
   "metadata": {},
   "outputs": [
    {
     "name": "stdout",
     "output_type": "stream",
     "text": [
      "swissprot.tar.gz      taxdb.btd\r\n",
      "swissprot.tar.gz.md5  taxdb.btd.md5\r\n"
     ]
    }
   ],
   "source": [
    "ls"
   ]
  },
  {
   "cell_type": "code",
   "execution_count": 20,
   "metadata": {},
   "outputs": [
    {
     "name": "stdout",
     "output_type": "stream",
     "text": [
      "Connected to NCBI\n",
      "swissprot.tar.gz is up to date.\n"
     ]
    }
   ],
   "source": [
    "!perl ~/colaboradores/anaconda/pkgs/blast-2.7.1-h4422958_6/bin/update_blastdb.pl --passive swissprot\n",
    "#!perl /Users/migueldelrio/anaconda3/pkgs/blast-2.6.0-boost1.64_2/bin/update_blastdb.pl --passive swissprot"
   ]
  },
  {
   "cell_type": "markdown",
   "metadata": {},
   "source": [
    "#### Si se descarga una actualización ejecutar la siguiente celda, no hacerlo si la base de datos está actualizada"
   ]
  },
  {
   "cell_type": "code",
   "execution_count": 21,
   "metadata": {},
   "outputs": [
    {
     "name": "stdout",
     "output_type": "stream",
     "text": [
      "x swissprot.pal\n",
      "x swissprot.00.pin\n",
      "x swissprot.00.phr\n",
      "x swissprot.00.psq\n",
      "x swissprot.00.pni\n",
      "x swissprot.00.pnd\n",
      "x swissprot.00.psi\n",
      "x swissprot.00.psd\n",
      "x swissprot.00.ppi\n",
      "x swissprot.00.ppd\n",
      "x swissprot.00.pog\n",
      "x taxdb.btd\n",
      "x taxdb.bti\n"
     ]
    }
   ],
   "source": [
    "!tar -xzvf swissprot.tar.gz"
   ]
  },
  {
   "cell_type": "raw",
   "metadata": {},
   "source": [
    "# alternativamente se puede usar\n",
    "%%bash\n",
    "cd ~/Desktop/bigdata/swissprot  \n",
    "gunzip swissprot.tar.gz  \n",
    "tar xvf  swissprot.tar  "
   ]
  },
  {
   "cell_type": "code",
   "execution_count": 22,
   "metadata": {},
   "outputs": [
    {
     "name": "stdout",
     "output_type": "stream",
     "text": [
      "total 1336752\r\n",
      "-rw-r--r--  1 migueldelrio  staff   119M Jun 14 01:23 swissprot.00.phr\r\n",
      "-rw-r--r--  1 migueldelrio  staff   3.6M Jun 14 01:23 swissprot.00.pin\r\n",
      "-rw-r--r--  1 migueldelrio  staff   4.3M Jun 14 01:24 swissprot.00.pnd\r\n",
      "-rw-r--r--  1 migueldelrio  staff    17K Jun 14 01:24 swissprot.00.pni\r\n",
      "-rw-r--r--  1 migueldelrio  staff   1.8M Jun 14 01:24 swissprot.00.pog\r\n",
      "-rw-r--r--  1 migueldelrio  staff   3.6M Jun 14 01:24 swissprot.00.ppd\r\n",
      "-rw-r--r--  1 migueldelrio  staff    14K Jun 14 01:24 swissprot.00.ppi\r\n",
      "-rw-r--r--  1 migueldelrio  staff    25M Jun 14 01:24 swissprot.00.psd\r\n",
      "-rw-r--r--  1 migueldelrio  staff   615K Jun 14 01:24 swissprot.00.psi\r\n",
      "-rw-r--r--  1 migueldelrio  staff   170M Jun 14 01:23 swissprot.00.psq\r\n",
      "-rw-r--r--  1 migueldelrio  staff    31B Jun 14 01:24 swissprot.pal\r\n",
      "-rw-r--r--  1 migueldelrio  staff   148M Jun 17 13:19 swissprot.tar.gz\r\n",
      "-rw-r--r--  1 migueldelrio  staff    51B Jun 17 13:19 swissprot.tar.gz.md5\r\n",
      "-rw-r--r--  1 migueldelrio  staff   134M Jun 14 23:00 taxdb.btd\r\n",
      "-rw-r--r--  1 migueldelrio  staff    14M Jun 14 23:00 taxdb.bti\r\n"
     ]
    }
   ],
   "source": [
    "ls -lh "
   ]
  },
  {
   "cell_type": "markdown",
   "metadata": {},
   "source": [
    "# Hay algunas diferencias entre la base de datos que hay en el NCBI con respecto a la de Uniprot, por lo que será necesario descargar la base de datos original (Uniprot)\n",
    "https://www.uniprot.org/\n",
    "En el recuadro azul del lado izquierdo donde dice *Manually annotated and reviewed*"
   ]
  },
  {
   "cell_type": "markdown",
   "metadata": {},
   "source": [
    "<img src=\"img/uniprot_1.png\">"
   ]
  },
  {
   "cell_type": "markdown",
   "metadata": {},
   "source": [
    "# Mover el cursor a *Download* y dar clic"
   ]
  },
  {
   "cell_type": "markdown",
   "metadata": {},
   "source": [
    "<img src=\"img/uniprot_2.png\">"
   ]
  },
  {
   "cell_type": "markdown",
   "metadata": {},
   "source": [
    "# Descargar el archivo Fasta sin comprimir, si se tiene una conexión con cable, si es por inalámbrico, descargarlo comprimido"
   ]
  },
  {
   "cell_type": "markdown",
   "metadata": {},
   "source": [
    "<img src=\"img/uniprot_3.png\">"
   ]
  },
  {
   "cell_type": "markdown",
   "metadata": {},
   "source": [
    "## Una vez que se ha descargado el archivo, se necesita dar un formato para que blastx lo pueda interpretar adecuadamente"
   ]
  },
  {
   "cell_type": "markdown",
   "metadata": {},
   "source": [
    "# Para la creación de una base de datos a partir de un archivo fasta para la búsqueda con blast, se utiliza el comando\n",
    "`makeblastdb –in mydb.fsa –dbtype nucl –parse_seqids`\n",
    "\n",
    "donde `makeblastdb` es el comando para la creación de la base de datos, `–in` el archivo de entrada, en este caso `mydb.fsa`, `–dbtype` indica el tipo de base de datos, en este caso nucleótidos `nucl` y `–parse_seqids` es el indicador para que utilice los identificadores.\n"
   ]
  },
  {
   "cell_type": "code",
   "execution_count": 23,
   "metadata": {},
   "outputs": [
    {
     "data": {
      "text/plain": [
       "'/Users/migueldelrio/Desktop/bigdata/swissprot'"
      ]
     },
     "execution_count": 23,
     "metadata": {},
     "output_type": "execute_result"
    }
   ],
   "source": [
    "pwd"
   ]
  },
  {
   "cell_type": "code",
   "execution_count": 24,
   "metadata": {},
   "outputs": [
    {
     "name": "stdout",
     "output_type": "stream",
     "text": [
      "/Users/migueldelrio/Desktop/bigdata\n"
     ]
    }
   ],
   "source": [
    "cd ~/Desktop/bigdata/"
   ]
  },
  {
   "cell_type": "code",
   "execution_count": 25,
   "metadata": {},
   "outputs": [],
   "source": [
    "os.makedirs('uniprot',exist_ok=True)"
   ]
  },
  {
   "cell_type": "code",
   "execution_count": 26,
   "metadata": {},
   "outputs": [
    {
     "name": "stdout",
     "output_type": "stream",
     "text": [
      "/Users/migueldelrio/Desktop/bigdata/uniprot\n"
     ]
    }
   ],
   "source": [
    "cd ~/Desktop/bigdata/uniprot/"
   ]
  },
  {
   "cell_type": "code",
   "execution_count": 28,
   "metadata": {},
   "outputs": [
    {
     "name": "stdout",
     "output_type": "stream",
     "text": [
      "\u001b[34mncbi\u001b[m\u001b[m/                uniprot.xlsx         uniprot20190612.tab\r\n",
      "uniprot.fasta.gz     uniprot1906.txt\r\n",
      "uniprot.tab.gz       uniprot201904.txt\r\n"
     ]
    }
   ],
   "source": [
    "ls"
   ]
  },
  {
   "cell_type": "markdown",
   "metadata": {},
   "source": [
    "### Descomprimir la base de datos uniprot que se encuentra en formato fasta"
   ]
  },
  {
   "cell_type": "code",
   "execution_count": 30,
   "metadata": {},
   "outputs": [
    {
     "name": "stdout",
     "output_type": "stream",
     "text": [
      "tar: Unrecognized archive format\n",
      "tar: Error exit delayed from previous errors.\n"
     ]
    }
   ],
   "source": [
    "!tar -xzvf uniprot.fasta.gz"
   ]
  },
  {
   "cell_type": "code",
   "execution_count": 31,
   "metadata": {},
   "outputs": [],
   "source": [
    "%%bash\n",
    "gunzip uniprot.fasta.gz\n"
   ]
  },
  {
   "cell_type": "code",
   "execution_count": 32,
   "metadata": {},
   "outputs": [
    {
     "name": "stdout",
     "output_type": "stream",
     "text": [
      ">sp|Q9JX15|RL15_NEIMA 50S ribosomal protein L15 OS=Neisseria meningitidis serogroup A / serotype 4A (strain Z2491) OX=122587 GN=rplO PE=3 SV=1\r\n",
      "MFLNTIQPAVGATHAGRRVGRGIGSGLGKTGGRGHKGQKSRSGGFHKVGFEGGQMPLQRR\r\n",
      "LPKRGFKSLTASANAQLRLSELESIAVNEIDILVLKQAGLIASTVSNVKVIAFGEISKAV\r\n",
      "ALKGIKVTKGARAAIEAVGGKIEM\r\n",
      ">sp|Q71WF3|RL16_LISMF 50S ribosomal protein L16 OS=Listeria monocytogenes serotype 4b (strain F2365) OX=265669 GN=rplP PE=3 SV=1\r\n",
      "MLVPKRVKYRREFRGNMRGRAKGGTEVAFGEYGLQAVEASWITNRQIEAARIAMTRYMKR\r\n",
      "GGKVWIKIFPHKSYTSKPIGVRMGKGKGAPEGWVSPVKRGKIMFEIAGVPEDVAREALRL\r\n",
      "AAHKLPVKTKIVKREEIGGEANES\r\n",
      ">sp|Q7T2N5|RL15_TACFU 60S ribosomal protein L15 OS=Tachysurus fulvidraco OX=1234273 GN=rpl15 PE=2 SV=3\r\n",
      "MGAYRYMQKLWRKKQSDVMRFLLRVRCWQYRQLSALHRAPRPTRPDKARRLGYKAKQGYV\r\n"
     ]
    }
   ],
   "source": [
    "!head uniprot.fasta"
   ]
  },
  {
   "cell_type": "markdown",
   "metadata": {},
   "source": [
    "## Qué tipo de secuencias contiene el archivo uniprot.fasta?"
   ]
  },
  {
   "cell_type": "markdown",
   "metadata": {},
   "source": [
    "## Corrija el siguiente comando de acuerdo a su respuesta"
   ]
  },
  {
   "cell_type": "code",
   "execution_count": null,
   "metadata": {},
   "outputs": [],
   "source": [
    "%%bash\n",
    "makeblastdb –in uniprot.fasta –dbtype nucl –parse_seqids"
   ]
  },
  {
   "cell_type": "code",
   "execution_count": null,
   "metadata": {},
   "outputs": [],
   "source": []
  },
  {
   "cell_type": "markdown",
   "metadata": {},
   "source": [
    "## Si hay unos errores, verifique su comandos y explique qué pasó"
   ]
  },
  {
   "cell_type": "code",
   "execution_count": 10,
   "metadata": {},
   "outputs": [
    {
     "name": "stdout",
     "output_type": "stream",
     "text": [
      "\n",
      "\n",
      "Building a new DB, current time: 04/02/2019 15:33:11\n",
      "New DB name:   /Users/migueldelrio/Desktop/bigdata/uniprot/uniprot\n",
      "New DB title:  uniprot.fasta\n",
      "Sequence type: Protein\n",
      "Deleted existing Protein BLAST database named /Users/migueldelrio/Desktop/bigdata/uniprot/uniprot\n",
      "Keep MBits: T\n",
      "Maximum file size: 1000000000B\n",
      "Adding sequences from FASTA; added 559228 sequences in 20.509 seconds.\n"
     ]
    }
   ],
   "source": [
    "%%bash\n",
    "makeblastdb -in uniprot.fasta -out uniprot -dbtype prot -parse_seqids "
   ]
  },
  {
   "cell_type": "code",
   "execution_count": 12,
   "metadata": {},
   "outputs": [
    {
     "name": "stdout",
     "output_type": "stream",
     "text": [
      "\n",
      "\n",
      "Building a new DB, current time: 04/02/2019 15:35:43\n",
      "New DB name:   /Users/migueldelrio/Desktop/bigdata/uniprot/uniprot\n",
      "New DB title:  uniprot.fasta\n",
      "Sequence type: Protein\n",
      "Deleted existing Protein BLAST database named /Users/migueldelrio/Desktop/bigdata/uniprot/uniprot\n",
      "Keep MBits: T\n",
      "Maximum file size: 1000000000B\n",
      "Adding sequences from FASTA; added 559228 sequences in 20.8515 seconds.\n"
     ]
    }
   ],
   "source": [
    "%%bash\n",
    "makeblastdb -in uniprot.fasta -input_type fasta -out uniprot -dbtype prot -parse_seqids \n",
    "#makeblastdb -in exons_for_blastall.fasta  -dbtype nucl \\\n",
    "#-title exons_for_blastall -parse_seqids -out exons_for_blastall"
   ]
  },
  {
   "cell_type": "code",
   "execution_count": 36,
   "metadata": {},
   "outputs": [
    {
     "name": "stdout",
     "output_type": "stream",
     "text": [
      "\u001b[34mncbi\u001b[m\u001b[m/                uniprot.psd          uniprot1906.txt\r\n",
      "uniprot.fasta        uniprot.psi          uniprot201904.txt\r\n",
      "uniprot.phr          uniprot.psq          uniprot20190612.tab\r\n",
      "uniprot.pin          uniprot.tab.gz\r\n",
      "uniprot.pog          uniprot.xlsx\r\n"
     ]
    }
   ],
   "source": [
    "ls"
   ]
  },
  {
   "cell_type": "code",
   "execution_count": null,
   "metadata": {},
   "outputs": [],
   "source": []
  },
  {
   "cell_type": "code",
   "execution_count": null,
   "metadata": {},
   "outputs": [],
   "source": []
  },
  {
   "cell_type": "code",
   "execution_count": null,
   "metadata": {},
   "outputs": [],
   "source": []
  }
 ],
 "metadata": {
  "kernelspec": {
   "display_name": "Python 3",
   "language": "python",
   "name": "python3"
  },
  "language_info": {
   "codemirror_mode": {
    "name": "ipython",
    "version": 3
   },
   "file_extension": ".py",
   "mimetype": "text/x-python",
   "name": "python",
   "nbconvert_exporter": "python",
   "pygments_lexer": "ipython3",
   "version": "3.7.1"
  }
 },
 "nbformat": 4,
 "nbformat_minor": 2
}
