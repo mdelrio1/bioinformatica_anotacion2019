{
 "cells": [
  {
   "cell_type": "markdown",
   "metadata": {},
   "source": [
    "# Bitácora para ensamblaje con Velvet\n",
    "Tomado de [Holland Compunting Center](https://hcc.unl.edu/docs/guides/running_applications/bioinformatics_tools/de_novo_assembly_tools/velvet/running_velvet_with_paired_end_data/)\n",
    "\n",
    "Zerbino, D.R., Birney, E., 2008. Velvet: Algorithms for de novo short read assembly using de Bruijn graphs. Genome Res. 18, 821–829. [doi:10.1101/gr.074492.107](http://www.genome.org/cgi/doi/10.1101/gr.074492.107)\n"
   ]
  },
  {
   "cell_type": "markdown",
   "metadata": {},
   "source": [
    "### Esta bitácora considera que ya se realizó el análisis de calidad y se tienen los archivos obtenidos con Trim Galore"
   ]
  },
  {
   "cell_type": "code",
   "execution_count": 4,
   "metadata": {},
   "outputs": [],
   "source": [
    "import os\n",
    "from Bio import SeqIO, Entrez"
   ]
  },
  {
   "cell_type": "code",
   "execution_count": 5,
   "metadata": {},
   "outputs": [
    {
     "name": "stdout",
     "output_type": "stream",
     "text": [
      "/Users/migueldelrio/Desktop/bioinformatica_anotacion2019/data/sec_masiva\n"
     ]
    }
   ],
   "source": [
    "cd ~/Desktop/bioinformatica_anotacion2019/data/sec_masiva/"
   ]
  },
  {
   "cell_type": "code",
   "execution_count": 3,
   "metadata": {},
   "outputs": [
    {
     "name": "stdout",
     "output_type": "stream",
     "text": [
      "8_S356_L001_R1_001.fastq        8_S356_L001_R2_001_fastqc.html\r\n",
      "8_S356_L001_R1_001_fastqc.html  8_S356_L001_R2_001_fastqc.zip\r\n",
      "8_S356_L001_R1_001_fastqc.zip   \u001b[34mfastqc\u001b[m\u001b[m/\r\n",
      "8_S356_L001_R2_001.fastq        \u001b[34mvelvet\u001b[m\u001b[m/\r\n"
     ]
    }
   ],
   "source": [
    "ls"
   ]
  },
  {
   "cell_type": "code",
   "execution_count": 6,
   "metadata": {},
   "outputs": [],
   "source": [
    "os.makedirs('velvet',exist_ok=True)"
   ]
  },
  {
   "cell_type": "code",
   "execution_count": 7,
   "metadata": {},
   "outputs": [
    {
     "name": "stdout",
     "output_type": "stream",
     "text": [
      "/Users/migueldelrio/Desktop/bioinformatica_anotacion2019/data/sec_masiva/fastqc\n"
     ]
    }
   ],
   "source": [
    "cd fastqc/"
   ]
  },
  {
   "cell_type": "markdown",
   "metadata": {},
   "source": [
    "Tomado del manual de [Biopython](http://biopython.org/DIST/docs/tutorial/Tutorial.html#htoc292)"
   ]
  },
  {
   "cell_type": "code",
   "execution_count": 8,
   "metadata": {},
   "outputs": [],
   "source": [
    "def cuentasecuencias(arch1):\n",
    "    count, total_len, maximo = 0, 0, 0,\n",
    "    minimo = 100\n",
    "    for rec in SeqIO.parse(arch1, \"fastq\"):\n",
    "        count += 1\n",
    "        total_len += len(rec.seq)\n",
    "        if maximo< len(rec.seq):\n",
    "            maximo = len(rec.seq)\n",
    "        if minimo > len(rec.seq):\n",
    "            minimo = len(rec.seq)\n",
    "    return (count, total_len, maximo, minimo)"
   ]
  },
  {
   "cell_type": "code",
   "execution_count": 9,
   "metadata": {},
   "outputs": [
    {
     "name": "stdout",
     "output_type": "stream",
     "text": [
      "archivo              \t#sec \tmin max \t archivo-trim\t\t\t #   min max\n",
      "/8_S356_L001_R1 \t 6652 \t 35 251 \t 8_S356_L001_R1_001_val_1     6642   24 251\n",
      "/8_S356_L001_R2 \t 6652 \t 35 251 \t 8_S356_L001_R2_001_val_2     6642   21 251\n"
     ]
    }
   ],
   "source": [
    "arc = \"archivo\"\n",
    "contar = \"count\"\n",
    "tl = \"total_len\"\n",
    "minimo = \"minimo\"\n",
    "maximo = \"maximo\"\n",
    "n = 1\n",
    "arc1 = [\"../8_S356_L001_R1_001.fastq\", \"8_S356_L001_R1_001_val_1.fq\", \"../8_S356_L001_R2_001.fastq\", \"8_S356_L001_R2_001_val_2.fq\"]\n",
    "for i in arc1:\n",
    "    arc = \"archivo\"+str(n)\n",
    "    contar = \"count\"+str(n)\n",
    "    tl = \"total_len\"+str(n)\n",
    "    minimo = \"minimo\"+str(n)\n",
    "    maximo = \"maximo\"+str(n)\n",
    "    \n",
    "    \n",
    "count1, count2, count3, count4 = 0, 0, 0, 0\n",
    "total_len1, total_len2, total_len3, total_len4, = 0, 0, 0, 0\n",
    "minimo1, minimo2, minimo3, minimo4 = 100, 100, 100, 100\n",
    "maximo1, maximo2, maximo3, maximo4 = 0, 0, 0, 0\n",
    "# cuenta secuencias en el primer archivo\n",
    "archivo1 = \"../8_S356_L001_R1_001.fastq\"\n",
    "count1, total_len1, maximo1, minimo1 = cuentasecuencias(archivo1)\n",
    "archivo2 = \"8_S356_L001_R1_001_val_1.fq\"\n",
    "count2, total_len2, maximo2, minimo2 = cuentasecuencias(archivo2)\n",
    "archivo3 = \"../8_S356_L001_R2_001.fastq\"\n",
    "count3, total_len3, maximo3, minimo3 = cuentasecuencias(archivo3)\n",
    "archivo4 = \"8_S356_L001_R2_001_val_2.fq\"\n",
    "count4, total_len4, maximo4, minimo4 = cuentasecuencias(archivo4)\n",
    "\n",
    "print (\"archivo              \\t#sec \\tmin max \\t archivo-trim\\t\\t\\t #   min max\")\n",
    "print(archivo1[2:17], \"\\t\", count1, \"\\t\", minimo1, maximo1, \"\\t\", archivo2[:-3], \"   \", count2, \" \", minimo2, maximo2)\n",
    "print(archivo3[2:17], \"\\t\", count3, \"\\t\", minimo3, maximo3, \"\\t\", archivo4[:-3], \"   \", count4, \" \", minimo4, maximo4)\n"
   ]
  },
  {
   "cell_type": "code",
   "execution_count": 10,
   "metadata": {},
   "outputs": [
    {
     "name": "stdout",
     "output_type": "stream",
     "text": [
      "/Users/migueldelrio/Desktop/bioinformatica_anotacion2019/data/sec_masiva/velvet\n"
     ]
    }
   ],
   "source": [
    "cd ../velvet/"
   ]
  },
  {
   "cell_type": "markdown",
   "metadata": {},
   "source": [
    "# Archivo de configuración para el ensamblador Velvet\n",
    "Cambie los archivos de entrada, en este caso a:  \n",
    "`8_S356_L001_R1_001_val_1.fq  \n",
    "8_S356_L001_R2_001_val_2.fq`\n",
    "\n",
    "Leer el [manual](https://www.ebi.ac.uk/~zerbino/velvet/Manual.pdf).  \n",
    "Asimismo es necesario tomar en cuenta el nombre del archivo de la configuración. En este caso:  \n",
    "`velvet_8_S356.sh`"
   ]
  },
  {
   "cell_type": "code",
   "execution_count": 12,
   "metadata": {},
   "outputs": [],
   "source": [
    "fout = open(\"velvet_8_S356.sh\", \"w\")\n",
    "linea=\"\"\"#!/bin/sh\n",
    "#SBATCH --job-name=Velvet_Velveth\n",
    "#SBATCH --nodes=1\n",
    "#SBATCH --ntasks-per-node=8\n",
    "#SBATCH --time=168:00:00\n",
    "#SBATCH --mem=10gb\n",
    "#SBATCH --output=Velveth.%J.out\n",
    "#SBATCH --error=Velveth.%J.err\n",
    "\n",
    "#module load velvet/1.2\n",
    "#module load biokit\n",
    "export OMP_NUM_THREADS=1\n",
    "\n",
    "velveth output_directory/ 43 -fastq -longPaired -separate ../fastqc/8_S356_L001_R1_001_val_1.fq ../fastqc/8_S356_L001_R2_001_val_2.fq\n",
    "\n",
    "\"\"\"\n",
    "\n",
    "fout.write(linea)\n",
    "\n",
    "fout.close()"
   ]
  },
  {
   "cell_type": "markdown",
   "metadata": {},
   "source": [
    "### Verificando contenido del archivo de configuración"
   ]
  },
  {
   "cell_type": "code",
   "execution_count": 9,
   "metadata": {},
   "outputs": [
    {
     "name": "stdout",
     "output_type": "stream",
     "text": [
      "#!/bin/sh\r\n",
      "#SBATCH --job-name=Velvet_Velveth\r\n",
      "#SBATCH --nodes=1\r\n",
      "#SBATCH --ntasks-per-node=8\r\n",
      "#SBATCH --time=168:00:00\r\n",
      "#SBATCH --mem=10gb\r\n",
      "#SBATCH --output=Velveth.%J.out\r\n",
      "#SBATCH --error=Velveth.%J.err\r\n",
      "\r\n",
      "#module load velvet/1.2\r\n",
      "#module load biokit\r\n",
      "export OMP_NUM_THREADS=$SLURM_NTASKS_PER_NODE\r\n",
      "\r\n",
      "velveth output_directory/ 43 -fastq -longPaired -separate ../fastqc/8_S356_L001_R1_001_val_1.fq ../fastqc/8_S356_L001_R2_001_val_2.fq\r\n",
      "\r\n"
     ]
    }
   ],
   "source": [
    "!head -50 velvet_8_S356.sh"
   ]
  },
  {
   "cell_type": "code",
   "execution_count": 10,
   "metadata": {},
   "outputs": [
    {
     "name": "stdout",
     "output_type": "stream",
     "text": [
      "\u001b[34moutput_directory\u001b[m\u001b[m/ velvet_8_S356.sh  velvetg.sh\r\n"
     ]
    }
   ],
   "source": [
    "ls"
   ]
  },
  {
   "cell_type": "markdown",
   "metadata": {},
   "source": [
    "## Se ejecuta el comando `velveth`\n",
    "Se utiliza el comando `time` para tener una idea del tiempo que tarda en ejecutarse."
   ]
  },
  {
   "cell_type": "code",
   "execution_count": 13,
   "metadata": {
    "scrolled": true
   },
   "outputs": [
    {
     "name": "stdout",
     "output_type": "stream",
     "text": [
      "[0.000000] Reading FastQ file ../fastqc/8_S356_L001_R1_001_val_1.fq;\n",
      "[0.000155] Reading FastQ file ../fastqc/8_S356_L001_R2_001_val_2.fq;\n",
      "[0.063850] 13284 sequences found in total in the paired sequence files\n",
      "[0.063861] Done\n",
      "[0.731592] Reading read set file output_directory//Sequences;\n",
      "[0.737280] 13284 sequences found\n",
      "[0.757009] Done\n",
      "[0.757026] 13284 sequences in total.\n",
      "[0.757225] Writing into roadmap file output_directory//Roadmaps...\n",
      "[0.785780] Inputting sequences...\n",
      "[0.785929] Inputting sequence 0 / 13284\n",
      "[1.541051]  === Sequences loaded in 0.755284 s\n",
      "[1.541262] Done inputting sequences\n",
      "[1.541267] Destroying splay table\n",
      "[1.579015] Splay table destroyed\n",
      "\n",
      "real\t0m1.692s\n",
      "user\t0m1.834s\n",
      "sys\t0m0.569s\n"
     ]
    }
   ],
   "source": [
    "!time sh velvet_8_S356.sh"
   ]
  },
  {
   "cell_type": "markdown",
   "metadata": {},
   "source": [
    "### Una vez que se ha corrido `velveth`, es necesario ejecutar `velvetg`"
   ]
  },
  {
   "cell_type": "markdown",
   "metadata": {},
   "source": [
    "# Archivo para ejecutar velvetg.\n",
    "# Se debe cambiar el nombre del archivo generado, en este caso a:\n",
    "`open(\"velvetg.sh\", \"w\")`"
   ]
  },
  {
   "cell_type": "code",
   "execution_count": 14,
   "metadata": {},
   "outputs": [],
   "source": [
    "fout = open(\"velvetg.sh\", \"w\")\n",
    "linea=\"\"\"#!/bin/sh\n",
    "#SBATCH --job-name=Velvet_Velvetg\n",
    "#SBATCH --nodes=1\n",
    "#SBATCH --ntasks-per-node=8\n",
    "#SBATCH --time=168:00:00\n",
    "#SBATCH --mem=100gb\n",
    "#SBATCH --output=Velvetg.%J.out\n",
    "#SBATCH --error=Velvetg.%J.err\n",
    "\n",
    "module load velvet/1.2\n",
    "#export OMP_NUM_THREADS=$SLURM_NTASKS_PER_NODE\n",
    "export OMP_NUM_THREADS=1\n",
    "\n",
    "velvetg output_directory/ -min_contig_lgth 200\n",
    "\"\"\"\n",
    "\n",
    "fout.write(linea)\n",
    "\n",
    "fout.close()"
   ]
  },
  {
   "cell_type": "code",
   "execution_count": 15,
   "metadata": {},
   "outputs": [
    {
     "name": "stdout",
     "output_type": "stream",
     "text": [
      "#!/bin/sh\r\n",
      "#SBATCH --job-name=Velvet_Velvetg\r\n",
      "#SBATCH --nodes=1\r\n",
      "#SBATCH --ntasks-per-node=8\r\n",
      "#SBATCH --time=168:00:00\r\n",
      "#SBATCH --mem=100gb\r\n",
      "#SBATCH --output=Velvetg.%J.out\r\n",
      "#SBATCH --error=Velvetg.%J.err\r\n",
      "\r\n",
      "module load velvet/1.2\r\n",
      "#export OMP_NUM_THREADS=$SLURM_NTASKS_PER_NODE\r\n",
      "export OMP_NUM_THREADS=1\r\n",
      "\r\n",
      "velvetg output_directory/ -min_contig_lgth 200\r\n"
     ]
    }
   ],
   "source": [
    "!head -20 velvetg.sh"
   ]
  },
  {
   "cell_type": "markdown",
   "metadata": {},
   "source": [
    "## Se ejecuta el comando `velvetg`\n",
    "Se utiliza el comando `time` para tener una idea del tiempo que tarda en ejecutarse."
   ]
  },
  {
   "cell_type": "code",
   "execution_count": 16,
   "metadata": {
    "scrolled": true
   },
   "outputs": [
    {
     "name": "stdout",
     "output_type": "stream",
     "text": [
      "velvetg.sh: line 10: module: command not found\n",
      "[0.000000] Reading roadmap file output_directory//Roadmaps\n",
      "[0.014292] 13284 roadmaps read\n",
      "[0.014452] Creating insertion markers\n",
      "[0.014995] Ordering insertion markers\n",
      "[0.016206] Counting preNodes\n",
      "[0.016690] 16811 preNodes counted, creating them now\n",
      "[0.247499] Adjusting marker info...\n",
      "[0.249038] Connecting preNodes\n",
      "[0.255563] Cleaning up memory\n",
      "[0.255591] Done creating preGraph\n",
      "[0.255595] Concatenation...\n",
      "[0.265615] Renumbering preNodes\n",
      "[0.265629] Initial preNode count 16811\n",
      "[0.266012] Destroyed 8371 preNodes\n",
      "[0.266020] Concatenation over!\n",
      "[0.266024] Clipping short tips off preGraph\n",
      "[0.268663] Concatenation...\n",
      "[0.269893] Renumbering preNodes\n",
      "[0.269901] Initial preNode count 8440\n",
      "[0.270201] Destroyed 1428 preNodes\n",
      "[0.270209] Concatenation over!\n",
      "[0.270212] 1025 tips cut off\n",
      "[0.270216] 7012 nodes left\n",
      "[0.270419] Writing into pregraph file output_directory//PreGraph...\n",
      "[0.538369] Reading read set file output_directory//Sequences;\n",
      "[0.550501] 13284 sequences found\n",
      "[0.590435] Done\n",
      "[0.633516] Reading pre-graph file output_directory//PreGraph\n",
      "[0.633558] Graph has 7012 nodes and 13284 sequences\n",
      "[0.732154] Scanning pre-graph file output_directory//PreGraph for k-mers\n",
      "[0.794361] 1007290 kmers found\n",
      "[0.956370] Sorting kmer occurence table ... \n",
      "[1.272272] Sorting done.\n",
      "[1.272292] Computing acceleration table... \n",
      "[1.343561] Computing offsets... \n",
      "[1.351542] Ghost Threading through reads 0 / 13284\n",
      "[1.352514]  === Ghost-Threaded in 0.001069 s\n",
      "[1.352534] Threading through reads 0 / 13284\n",
      "[1.950240]  === Threaded in 0.597709 s\n",
      "[1.964057] Correcting graph with cutoff 0.200000\n",
      "[1.964788] Determining eligible starting points\n",
      "[1.970618] Done listing starting nodes\n",
      "[1.970644] Initializing todo lists\n",
      "[1.971454] Done with initilization\n",
      "[1.971469] Activating arc lookup table\n",
      "[1.972193] Done activating arc lookup table\n",
      "[2.020472] Concatenation...\n",
      "[2.020781] Renumbering nodes\n",
      "[2.020791] Initial node count 7012\n",
      "[2.020962] Removed 930 null nodes\n",
      "[2.020971] Concatenation over!\n",
      "[2.020975] Clipping short tips off graph, drastic\n",
      "[2.024901] Concatenation...\n",
      "[2.026867] Renumbering nodes\n",
      "[2.026886] Initial node count 6082\n",
      "[2.027021] Removed 1030 null nodes\n",
      "[2.027028] Concatenation over!\n",
      "[2.027030] 5052 nodes left\n",
      "[2.027926] Writing into graph file output_directory//Graph...\n",
      "[2.251659] WARNING: NO COVERAGE CUTOFF PROVIDED\n",
      "[2.251684] Velvet will probably leave behind many detectable errors\n",
      "[2.251691] See manual for instructions on how to set the coverage cutoff parameter\n",
      "[2.251712] Removing contigs with coverage < -1.000000...\n",
      "[2.251938] Concatenation...\n",
      "[2.252228] Renumbering nodes\n",
      "[2.252237] Initial node count 5052\n",
      "[2.252247] Removed 0 null nodes\n",
      "[2.252251] Concatenation over!\n",
      "[2.252430] Concatenation...\n",
      "[2.252594] Renumbering nodes\n",
      "[2.252600] Initial node count 5052\n",
      "[2.252621] Removed 0 null nodes\n",
      "[2.252625] Concatenation over!\n",
      "[2.252649] Clipping short tips off graph, drastic\n",
      "[2.252924] Concatenation...\n",
      "[2.253049] Renumbering nodes\n",
      "[2.253054] Initial node count 5052\n",
      "[2.253063] Removed 0 null nodes\n",
      "[2.253067] Concatenation over!\n",
      "[2.253070] 5052 nodes left\n",
      "[2.253073] WARNING: NO EXPECTED COVERAGE PROVIDED\n",
      "[2.253076] Velvet will be unable to resolve any repeats\n",
      "[2.253079] See manual for instructions on how to set the expected coverage parameter\n",
      "[2.253083] Concatenation...\n",
      "[2.253196] Renumbering nodes\n",
      "[2.253201] Initial node count 5052\n",
      "[2.253209] Removed 0 null nodes\n",
      "[2.253213] Concatenation over!\n",
      "[2.253216] Removing reference contigs with coverage < -1.000000...\n",
      "[2.255931] Concatenation...\n",
      "[2.256112] Renumbering nodes\n",
      "[2.256119] Initial node count 5052\n",
      "[2.256132] Removed 0 null nodes\n",
      "[2.256136] Concatenation over!\n",
      "[2.256728] Writing contigs into output_directory//contigs.fa...\n",
      "[2.381479] Writing into stats file output_directory//stats.txt...\n",
      "[2.399215] Writing into graph file output_directory//LastGraph...\n",
      "Final graph has 5052 nodes and n50 of 275, max 929, total 965104, using 6376/13284 reads\n",
      "\n",
      "real\t0m2.654s\n",
      "user\t0m2.366s\n",
      "sys\t0m0.146s\n"
     ]
    }
   ],
   "source": [
    "!time sh velvetg.sh"
   ]
  },
  {
   "cell_type": "code",
   "execution_count": 17,
   "metadata": {},
   "outputs": [
    {
     "name": "stdout",
     "output_type": "stream",
     "text": [
      "Graph       Log         Roadmaps    contigs.fa\r\n",
      "LastGraph   PreGraph    Sequences   stats.txt\r\n"
     ]
    }
   ],
   "source": [
    "ls output_directory/"
   ]
  },
  {
   "cell_type": "markdown",
   "metadata": {},
   "source": [
    "# Se verifican los archivos de salida y su contenido\n",
    "\n",
    "## la estadística está en el archivo `stats.txt`"
   ]
  },
  {
   "cell_type": "code",
   "execution_count": 18,
   "metadata": {},
   "outputs": [
    {
     "name": "stdout",
     "output_type": "stream",
     "text": [
      "    5053 output_directory/stats.txt\r\n"
     ]
    }
   ],
   "source": [
    "!wc -l output_directory/stats.txt"
   ]
  },
  {
   "cell_type": "code",
   "execution_count": 19,
   "metadata": {
    "scrolled": true
   },
   "outputs": [
    {
     "name": "stdout",
     "output_type": "stream",
     "text": [
      "ID\tlgth\tout\tin\tlong_cov\tshort1_cov\tshort1_Ocov\tshort2_cov\tshort2_Ocov\tshort3_cov\tshort3_Ocov\tshort4_cov\tshort4_Ocov\tlong_nb\tshort1_nb\tshort2_nb\tshort3_nb\tshort4_nb\r\n",
      "1\t187\t0\t0\t1.438503\t0.000000\t0.000000\t0.000000\t0.000000\t0.000000\t0.000000\t0.000000\t0.000000\t2\t0\t0\t0\t0\r\n",
      "2\t181\t0\t0\t1.988950\t0.000000\t0.000000\t0.000000\t0.000000\t0.000000\t0.000000\t0.000000\t0.000000\t2\t0\t0\t0\t0\r\n",
      "3\t308\t0\t0\t1.136364\t0.000000\t0.000000\t0.000000\t0.000000\t0.000000\t0.000000\t0.000000\t0.000000\t2\t0\t0\t0\t0\r\n",
      "4\t113\t2\t0\t1.079646\t0.000000\t0.000000\t0.000000\t0.000000\t0.000000\t0.000000\t0.000000\t0.000000\t2\t0\t0\t0\t0\r\n",
      "5\t43\t1\t1\t1.000000\t0.000000\t0.000000\t0.000000\t0.000000\t0.000000\t0.000000\t0.000000\t0.000000\t1\t0\t0\t0\t0\r\n",
      "6\t113\t0\t2\t1.336283\t0.000000\t0.000000\t0.000000\t0.000000\t0.000000\t0.000000\t0.000000\t0.000000\t2\t0\t0\t0\t0\r\n",
      "7\t43\t1\t1\t1.000000\t0.000000\t0.000000\t0.000000\t0.000000\t0.000000\t0.000000\t0.000000\t0.000000\t1\t0\t0\t0\t0\r\n",
      "8\t279\t0\t0\t1.487455\t0.000000\t0.000000\t0.000000\t0.000000\t0.000000\t0.000000\t0.000000\t0.000000\t2\t0\t0\t0\t0\r\n",
      "9\t165\t0\t0\t1.981818\t0.000000\t0.000000\t0.000000\t0.000000\t0.000000\t0.000000\t0.000000\t0.000000\t2\t0\t0\t0\t0\r\n",
      "10\t317\t0\t0\t1.160883\t0.000000\t0.000000\t0.000000\t0.000000\t0.000000\t0.000000\t0.000000\t0.000000\t2\t0\t0\t0\t0\r\n",
      "11\t97\t0\t0\t1.989691\t0.000000\t0.000000\t0.000000\t0.000000\t0.000000\t0.000000\t0.000000\t0.000000\t2\t0\t0\t0\t0\r\n",
      "12\t202\t0\t0\t1.970297\t0.000000\t0.000000\t0.000000\t0.000000\t0.000000\t0.000000\t0.000000\t0.000000\t2\t0\t0\t0\t0\r\n",
      "13\t133\t0\t0\t1.067669\t0.000000\t0.000000\t0.000000\t0.000000\t0.000000\t0.000000\t0.000000\t0.000000\t2\t0\t0\t0\t0\r\n",
      "14\t384\t0\t0\t1.002604\t0.000000\t0.000000\t0.000000\t0.000000\t0.000000\t0.000000\t0.000000\t0.000000\t2\t0\t0\t0\t0\r\n",
      "15\t363\t0\t0\t1.146006\t0.000000\t0.000000\t0.000000\t0.000000\t0.000000\t0.000000\t0.000000\t0.000000\t2\t0\t0\t0\t0\r\n",
      "16\t199\t0\t0\t1.723618\t0.000000\t0.000000\t0.000000\t0.000000\t0.000000\t0.000000\t0.000000\t0.000000\t2\t0\t0\t0\t0\r\n",
      "17\t192\t0\t0\t2.276042\t0.000000\t0.000000\t0.000000\t0.000000\t0.000000\t0.000000\t0.000000\t0.000000\t4\t0\t0\t0\t0\r\n",
      "18\t403\t0\t0\t1.019851\t0.000000\t0.000000\t0.000000\t0.000000\t0.000000\t0.000000\t0.000000\t0.000000\t2\t0\t0\t0\t0\r\n",
      "19\t104\t2\t0\t1.173077\t0.000000\t0.000000\t0.000000\t0.000000\t0.000000\t0.000000\t0.000000\t0.000000\t2\t0\t0\t0\t0\r\n"
     ]
    }
   ],
   "source": [
    "!head -20 output_directory/stats.txt"
   ]
  },
  {
   "cell_type": "code",
   "execution_count": 20,
   "metadata": {
    "scrolled": true
   },
   "outputs": [
    {
     "name": "stdout",
     "output_type": "stream",
     "text": [
      "5033\t100\t0\t0\t1.980000\t0.000000\t0.000000\t0.000000\t0.000000\t0.000000\t0.000000\t0.000000\t0.000000\t2\t0\t0\t0\t0\r\n",
      "5034\t230\t0\t0\t1.800000\t0.000000\t0.000000\t0.000000\t0.000000\t0.000000\t0.000000\t0.000000\t0.000000\t2\t0\t0\t0\t0\r\n",
      "5035\t344\t0\t0\t1.136628\t0.000000\t0.000000\t0.000000\t0.000000\t0.000000\t0.000000\t0.000000\t0.000000\t2\t0\t0\t0\t0\r\n",
      "5036\t287\t0\t0\t1.090592\t0.000000\t0.000000\t0.000000\t0.000000\t0.000000\t0.000000\t0.000000\t0.000000\t2\t0\t0\t0\t0\r\n",
      "5037\t190\t0\t0\t1.326316\t0.000000\t0.000000\t0.000000\t0.000000\t0.000000\t0.000000\t0.000000\t0.000000\t2\t0\t0\t0\t0\r\n",
      "5038\t43\t1\t1\t1.000000\t0.000000\t0.000000\t0.000000\t0.000000\t0.000000\t0.000000\t0.000000\t0.000000\t1\t0\t0\t0\t0\r\n",
      "5039\t9\t1\t1\t1.000000\t0.000000\t0.000000\t0.000000\t0.000000\t0.000000\t0.000000\t0.000000\t0.000000\t1\t0\t0\t0\t0\r\n",
      "5040\t34\t1\t2\t2.000000\t0.000000\t0.000000\t0.000000\t0.000000\t0.000000\t0.000000\t0.000000\t0.000000\t2\t0\t0\t0\t0\r\n",
      "5041\t9\t1\t1\t1.000000\t0.000000\t0.000000\t0.000000\t0.000000\t0.000000\t0.000000\t0.000000\t0.000000\t1\t0\t0\t0\t0\r\n",
      "5042\t273\t0\t0\t1.212454\t0.000000\t0.000000\t0.000000\t0.000000\t0.000000\t0.000000\t0.000000\t0.000000\t2\t0\t0\t0\t0\r\n",
      "5043\t93\t0\t0\t1.526882\t0.000000\t0.000000\t0.000000\t0.000000\t0.000000\t0.000000\t0.000000\t0.000000\t2\t0\t0\t0\t0\r\n",
      "5044\t140\t0\t0\t1.778571\t0.000000\t0.000000\t0.000000\t0.000000\t0.000000\t0.000000\t0.000000\t0.000000\t2\t0\t0\t0\t0\r\n",
      "5045\t370\t0\t0\t1.105405\t0.000000\t0.000000\t0.000000\t0.000000\t0.000000\t0.000000\t0.000000\t0.000000\t2\t0\t0\t0\t0\r\n",
      "5046\t187\t0\t0\t1.267380\t0.000000\t0.000000\t0.000000\t0.000000\t0.000000\t0.000000\t0.000000\t0.000000\t2\t0\t0\t0\t0\r\n",
      "5047\t214\t0\t0\t1.939252\t0.000000\t0.000000\t0.000000\t0.000000\t0.000000\t0.000000\t0.000000\t0.000000\t2\t0\t0\t0\t0\r\n",
      "5048\t278\t0\t0\t1.251799\t0.000000\t0.000000\t0.000000\t0.000000\t0.000000\t0.000000\t0.000000\t0.000000\t2\t0\t0\t0\t0\r\n",
      "5049\t346\t0\t0\t1.052023\t0.000000\t0.000000\t0.000000\t0.000000\t0.000000\t0.000000\t0.000000\t0.000000\t2\t0\t0\t0\t0\r\n",
      "5050\t130\t0\t0\t1.300000\t0.000000\t0.000000\t0.000000\t0.000000\t0.000000\t0.000000\t0.000000\t0.000000\t2\t0\t0\t0\t0\r\n",
      "5051\t104\t0\t0\t1.413462\t0.000000\t0.000000\t0.000000\t0.000000\t0.000000\t0.000000\t0.000000\t0.000000\t2\t0\t0\t0\t0\r\n",
      "5052\t374\t0\t0\t1.026738\t0.000000\t0.000000\t0.000000\t0.000000\t0.000000\t0.000000\t0.000000\t0.000000\t2\t0\t0\t0\t0\r\n"
     ]
    }
   ],
   "source": [
    "!tail -20 output_directory/stats.txt"
   ]
  },
  {
   "cell_type": "markdown",
   "metadata": {},
   "source": [
    "## mas información en el [manual](https://www.ebi.ac.uk/~zerbino/velvet/Manual.pdf).  \n",
    "\n",
    "\n",
    "\n",
    "### Escriba en la siguiente celda qué contiene cada archivo."
   ]
  },
  {
   "cell_type": "code",
   "execution_count": null,
   "metadata": {},
   "outputs": [],
   "source": [
    " "
   ]
  },
  {
   "cell_type": "markdown",
   "metadata": {},
   "source": [
    "### Verificando el contenido de contigs.fa"
   ]
  },
  {
   "cell_type": "code",
   "execution_count": 21,
   "metadata": {},
   "outputs": [
    {
     "name": "stdout",
     "output_type": "stream",
     "text": [
      ">NODE_1_length_187_cov_1.438503\r\n",
      "GAATGAAATGTTCCAAAATGTCTTGGCATGCTGAAGCAGAGTTCCTTTCATCAGAACTAA\r\n",
      "CGGGCCCAAATCCTGAAAAACAACCCCACACCATAACCCCCCCACCACCACCACCAAACT\r\n",
      "TTAAACTTGATACAGTGCAATCAGACAAATACTGTTCTCCTGGCAACTGCCAAACCCAGA\r\n",
      "CTCATCCAGACAGAGAAGTGTGACTGGTCACTCCAGAGAATATGTGTat\r\n",
      ">NODE_2_length_181_cov_1.988950\r\n",
      "GACTAAAGGCTGTCAACAAATTAATCAGTACAGCCTGTACCAAAAACAATTTTAGAATCT\r\n",
      "GAAATTTGGCTCCCTGATAGCCTTGGATTGCTGGTTATCTCAGTTTTCTCCTGGATGTTT\r\n",
      "TGTAAGCAGATGCTCTACCCCCCCCGCTGTCCTGTCTTCTGACCTGTGTGAACTGATATC\r\n",
      "CCTAGACCAAGCTGCTGATGAACATTTCACATCTTATCAAAgt\r\n"
     ]
    }
   ],
   "source": [
    "!head output_directory/contigs.fa"
   ]
  },
  {
   "cell_type": "markdown",
   "metadata": {},
   "source": [
    "# Contando el número de contigs"
   ]
  },
  {
   "cell_type": "code",
   "execution_count": null,
   "metadata": {},
   "outputs": [],
   "source": [
    "!grep \">\" output_directory/contigs.fa | wc -l"
   ]
  },
  {
   "cell_type": "code",
   "execution_count": null,
   "metadata": {},
   "outputs": [],
   "source": []
  },
  {
   "cell_type": "code",
   "execution_count": null,
   "metadata": {},
   "outputs": [],
   "source": []
  },
  {
   "cell_type": "code",
   "execution_count": null,
   "metadata": {},
   "outputs": [],
   "source": []
  },
  {
   "cell_type": "code",
   "execution_count": 24,
   "metadata": {},
   "outputs": [
    {
     "name": "stdout",
     "output_type": "stream",
     "text": [
      "Graph       Log         Roadmaps    contigs.fa\r\n",
      "LastGraph   PreGraph    Sequences   stats.txt\r\n"
     ]
    }
   ],
   "source": [
    "ls output_directory/"
   ]
  },
  {
   "cell_type": "markdown",
   "metadata": {},
   "source": [
    "# Contando el número de secuencias en montaje (scaffolding)"
   ]
  },
  {
   "cell_type": "code",
   "execution_count": 25,
   "metadata": {
    "scrolled": true
   },
   "outputs": [
    {
     "name": "stdout",
     "output_type": "stream",
     "text": [
      "5052\t13284\t43\t1\r\n",
      "NODE\t1\t187\t0\t0\t0\t0\t0\t0\t0\t0\r\n",
      "TCCTTTCATCAGAACTAACGGGCCCAAATCCTGAAAAACAACCCCACACCATAACCCCCCCACCACCACCACCAAACTTTAAACTTGATACAGTGCAATCAGACAAATACTGTTCTCCTGGCAACTGCCAAACCCAGACTCATCCAGACAGAGAAGTGTGACTGGTCACTCCAGAGAATATGTGTAT\r\n",
      "GGATGAGTCTGGGTTTGGCAGTTGCCAGGAGAACAGTATTTGTCTGATTGCACTGTATCAAGTTTAAAGTTTGGTGGTGGTGGTGGGGGGGTTATGGTGTGGGGTTGTTTTTCAGGATTTGGGCCCGTTAGTTCTGATGAAAGGAACTCTGCTTCAGCATGCCAAGACATTTTGGAACATTTCATTC\r\n",
      "NODE\t2\t181\t0\t0\t0\t0\t0\t0\t0\t0\r\n",
      "AAAACAATTTTAGAATCTGAAATTTGGCTCCCTGATAGCCTTGGATTGCTGGTTATCTCAGTTTTCTCCTGGATGTTTTGTAAGCAGATGCTCTACCCCCCCCGCTGTCCTGTCTTCTGACCTGTGTGAACTGATATCCCTAGACCAAGCTGCTGATGAACATTTCACATCTTATCAAAGT\r\n",
      "GGATATCAGTTCACACAGGTCAGAAGACAGGACAGCGGGGGGGGTAGAGCATCTGCTTACAAAACATCCAGGAGAAAACTGAGATAACCAGCAATCCAAGGCTATCAGGGAGCCAAATTTCAGATTCTAAAATTGTTTTTGGTACAGGCTGTACTGATTAATTTGTTGACAGCCTTTAGTC\r\n",
      "NODE\t3\t308\t0\t0\t0\t0\t0\t0\t0\t0\r\n",
      "AGTTCAGTGTGTTGCTCCTGTTCATCAGAGAGCAAGATATGTCTGTGCAAACACAGCTCCTCTCATGCAGGGACTCTTTGCTCCGCCCCCTCCTCTCCGCACCGCTGTGATTAGTTGTCTGCGGTCACGTGACTCAGCGGCACTGAGCAGTTATGGGCTGCAGTGAGTGAGAAAGCCGAGCGTCGTGCAGCTGTACTTTACAGCTGGAAATGAAAACAGTGTTAACAGTGATGCGTTTTGGGAGGAAATTTTCTACTGTGGCAACACCATGGACTTATTTAAAGACATGAAAGTGCAGGAAAAAGAAT\r\n",
      "TGTTGCCACAGTAGAAAATTTCCTCCCAAAACGCATCACTGTTAACACTGTTTTCATTTCCAGCTGTAAAGTACAGCTGCACGACGCTCGGCTTTCTCACTCACTGCAGCCCATAACTGCTCAGTGCCGCTGAGTCACGTGACCGCAGACAACTAATCACAGCGGTGCGGAGAGGAGGGGGCGGAGCAAAGAGTCCCTGCATGAGAGGAGCTGTGTTTGCACAGACATATCTTGCTCTCTGATGAACAGGAGCAACACACTGAACTTACAGGAGACAAACTGAAGTATCGATCCTATCACGCTAATAT\r\n"
     ]
    }
   ],
   "source": [
    "!head output_directory/Graph"
   ]
  },
  {
   "cell_type": "code",
   "execution_count": 26,
   "metadata": {
    "scrolled": true
   },
   "outputs": [
    {
     "name": "stdout",
     "output_type": "stream",
     "text": [
      "Wed Feb 27 13:32:03 2019\r\n",
      " velveth output_directory/ 43 -fastq -longPaired -separate ../fastqc/8_S356_L001_R1_001_val_1.fq ../fastqc/8_S356_L001_R2_001_val_2.fq\r\n",
      "Version 1.2.10\r\n",
      "Copyright 2007, 2008 Daniel Zerbino (zerbino@ebi.ac.uk)\r\n",
      "This is free software; see the source for copying conditions.  There is NO\r\n",
      "warranty; not even for MERCHANTABILITY or FITNESS FOR A PARTICULAR PURPOSE.\r\n",
      "Compilation settings:\r\n",
      "CATEGORIES = 4\r\n",
      "MAXKMERLENGTH = 191\r\n",
      "OPENMP\r\n",
      "LONGSEQUENCES\r\n",
      "\r\n",
      "Wed Feb 27 13:37:40 2019\r\n",
      " velvetg output_directory/ -min_contig_lgth 200\r\n",
      "Version 1.2.10\r\n",
      "Copyright 2007, 2008 Daniel Zerbino (zerbino@ebi.ac.uk)\r\n",
      "This is free software; see the source for copying conditions.  There is NO\r\n",
      "warranty; not even for MERCHANTABILITY or FITNESS FOR A PARTICULAR PURPOSE.\r\n",
      "Compilation settings:\r\n",
      "CATEGORIES = 4\r\n",
      "MAXKMERLENGTH = 191\r\n",
      "OPENMP\r\n",
      "LONGSEQUENCES\r\n",
      "\r\n",
      "Final graph has 5068 nodes and n50 of 275, max 929, total 965477, using 6333/13284 reads\r\n",
      "Wed Feb 27 14:57:09 2019\r\n",
      " velveth output_directory/ 43 -fastq -longPaired -separate ../fastqc/8_S356_L001_R1_001_val_1.fq ../fastqc/8_S356_L001_R2_001_val_2.fq\r\n",
      "Version 1.2.10\r\n",
      "Copyright 2007, 2008 Daniel Zerbino (zerbino@ebi.ac.uk)\r\n",
      "This is free software; see the source for copying conditions.  There is NO\r\n"
     ]
    }
   ],
   "source": [
    "!head -30 output_directory/Log"
   ]
  },
  {
   "cell_type": "code",
   "execution_count": 27,
   "metadata": {},
   "outputs": [
    {
     "name": "stdout",
     "output_type": "stream",
     "text": [
      "13284\t0\t43\t1\r\n",
      "ROADMAP 1\r\n",
      "ROADMAP 2\r\n",
      "-1\t1\t185\t103\r\n",
      "ROADMAP 3\r\n",
      "ROADMAP 4\r\n",
      "-3\t1\t179\t0\r\n",
      "ROADMAP 5\r\n",
      "ROADMAP 6\r\n",
      "-5\t99\t208\t166\r\n"
     ]
    }
   ],
   "source": [
    "!head output_directory/Roadmaps"
   ]
  },
  {
   "cell_type": "code",
   "execution_count": 57,
   "metadata": {
    "scrolled": true
   },
   "outputs": [
    {
     "name": "stdout",
     "output_type": "stream",
     "text": [
      "5068\t13284\t43\t1\r\n",
      "NODE\t1\t187\t0\t0\t0\t0\t0\t0\t0\t0\r\n",
      "TCCTTTCATCAGAACTAACGGGCCCAAATCCTGAAAAACAACCCCACACCATAACCCCCCCACCACCACCACCAAACTTTAAACTTGATACAGTGCAATCAGACAAATACTGTTCTCCTGGCAACTGCCAAACCCAGACTCATCCAGACAGAGAAGTGTGACTGGTCACTCCAGAGAATATGTGTAT\r\n",
      "GGATGAGTCTGGGTTTGGCAGTTGCCAGGAGAACAGTATTTGTCTGATTGCACTGTATCAAGTTTAAAGTTTGGTGGTGGTGGTGGGGGGGTTATGGTGTGGGGTTGTTTTTCAGGATTTGGGCCCGTTAGTTCTGATGAAAGGAACTCTGCTTCAGCATGCCAAGACATTTTGGAACATTTCATTC\r\n",
      "NODE\t2\t181\t0\t0\t0\t0\t0\t0\t0\t0\r\n",
      "AAAACAATTTTAGAATCTGAAATTTGGCTCCCTGATAGCCTTGGATTGCTGGTTATCTCAGTTTTCTCCTGGATGTTTTGTAAGCAGATGCTCTACCCCCCCCGCTGTCCTGTCTTCTGACCTGTGTGAACTGATATCCCTAGACCAAGCTGCTGATGAACATTTCACATCTTATCAAAGT\r\n",
      "GGATATCAGTTCACACAGGTCAGAAGACAGGACAGCGGGGGGGGTAGAGCATCTGCTTACAAAACATCCAGGAGAAAACTGAGATAACCAGCAATCCAAGGCTATCAGGGAGCCAAATTTCAGATTCTAAAATTGTTTTTGGTACAGGCTGTACTGATTAATTTGTTGACAGCCTTTAGTC\r\n",
      "NODE\t3\t308\t0\t0\t0\t0\t0\t0\t0\t0\r\n",
      "AGTTCAGTGTGTTGCTCCTGTTCATCAGAGAGCAAGATATGTCTGTGCAAACACAGCTCCTCTCATGCAGGGACTCTTTGCTCCGCCCCCTCCTCTCCGCACCGCTGTGATTAGTTGTCTGCGGTCACGTGACTCAGCGGCACTGAGCAGTTATGGGCTGCAGTGAGTGAGAAAGCCGAGCGTCGTGCAGCTGTACTTTACAGCTGGAAATGAAAACAGTGTTAACAGTGATGCGTTTTGGGAGGAAATTTTCTACTGTGGCAACACCATGGACTTATTTAAAGACATGAAAGTGCAGGAAAAAGAAT\r\n",
      "TGTTGCCACAGTAGAAAATTTCCTCCCAAAACGCATCACTGTTAACACTGTTTTCATTTCCAGCTGTAAAGTACAGCTGCACGACGCTCGGCTTTCTCACTCACTGCAGCCCATAACTGCTCAGTGCCGCTGAGTCACGTGACCGCAGACAACTAATCACAGCGGTGCGGAGAGGAGGGGGCGGAGCAAAGAGTCCCTGCATGAGAGGAGCTGTGTTTGCACAGACATATCTTGCTCTCTGATGAACAGGAGCAACACACTGAACTTACAGGAGACAAACTGAAGTATCGATCCTATCACGCTAATAT\r\n"
     ]
    }
   ],
   "source": [
    "!head output_directory/LastGraph"
   ]
  },
  {
   "cell_type": "code",
   "execution_count": 28,
   "metadata": {
    "scrolled": true
   },
   "outputs": [
    {
     "name": "stdout",
     "output_type": "stream",
     "text": [
      "7012\t13284\t43\t1\r\n",
      "NODE\t1\t187\r\n",
      "GAATGAAATGTTCCAAAATGTCTTGGCATGCTGAAGCAGAGTTCCTTTCATCAGAACTAACGGGCCCAAATCCTGAAAAACAACCCCACACCATAACCCCCCCACCACCACCACCAAACTTTAAACTTGATACAGTGCAATCAGACAAATACTGTTCTCCTGGCAACTGCCAAACCCAGACTCATCCAGACAGAGAAGTGTGACTGGTCACTCCAGAGAATATGTGTAT\r\n",
      "NODE\t2\t181\r\n",
      "GACTAAAGGCTGTCAACAAATTAATCAGTACAGCCTGTACCAAAAACAATTTTAGAATCTGAAATTTGGCTCCCTGATAGCCTTGGATTGCTGGTTATCTCAGTTTTCTCCTGGATGTTTTGTAAGCAGATGCTCTACCCCCCCCGCTGTCCTGTCTTCTGACCTGTGTGAACTGATATCCCTAGACCAAGCTGCTGATGAACATTTCACATCTTATCAAAGT\r\n",
      "NODE\t3\t308\r\n",
      "ATATTAGCGTGATAGGATCGATACTTCAGTTTGTCTCCTGTAAGTTCAGTGTGTTGCTCCTGTTCATCAGAGAGCAAGATATGTCTGTGCAAACACAGCTCCTCTCATGCAGGGACTCTTTGCTCCGCCCCCTCCTCTCCGCACCGCTGTGATTAGTTGTCTGCGGTCACGTGACTCAGCGGCACTGAGCAGTTATGGGCTGCAGTGAGTGAGAAAGCCGAGCGTCGTGCAGCTGTACTTTACAGCTGGAAATGAAAACAGTGTTAACAGTGATGCGTTTTGGGAGGAAATTTTCTACTGTGGCAACACCATGGACTTATTTAAAGACATGAAAGTGCAGGAAAAAGAAT\r\n",
      "NODE\t4\t113\r\n",
      "TCTGTCTGCAGCAGCTCCAGAACCCTTCCAAGACCGGGAGGATGATCAGATCACATCTGTCATGTTCAAGTTCCGCTCGCCAAGTTCCTCTCTCTGCTTCGGTTCCTACATTGTAACCATGCCAGTGATGTCATTGCTTCCTTTCATACTGTGAG\r\n",
      "NODE\t5\t43\r\n"
     ]
    }
   ],
   "source": [
    "!head output_directory/PreGraph"
   ]
  },
  {
   "cell_type": "code",
   "execution_count": 29,
   "metadata": {},
   "outputs": [
    {
     "name": "stdout",
     "output_type": "stream",
     "text": [
      ">M00313:49:000000000-A41BL:1:1101:15868:1583\t1\t9\r\n",
      "GNATGAAATGTTCCAAAATGTCTTGGCATGCTGAAGCAGAGTTCCTTTCATCAGAACTAA\r\n",
      "CGGGCCCAAATCCTGAAAAACAACCCCACACCATAACCCCCCCACCACCACCACCAAACT\r\n",
      "TTAAACTTGATACAGTGCAATCAGACAAATACTGTTCTCCTGGCAACTGCCAAACCCAGA\r\n",
      "CTCATCCAGACAGAGAAGTGTGACTGGTCACTCCAGAGAATATGTGTA\r\n",
      ">M00313:49:000000000-A41BL:1:1101:15868:1583\t2\t9\r\n",
      "NTACACATATTCTCTGGAGTGACCAGTCACACTTCTCTGTCTGGATGAGTCTGGGTTTGG\r\n",
      "CAGTTGCCAGGAGAACAGTATTTGTCTGATTGCACTGTATCAAGTTTAAAGTTTGGTGGT\r\n",
      "GGTGGGGGGGGGGTTATGGTGTGGGGTTGTTTTTCAGGATTTGGGCCGGTTAGTTCTGAT\r\n",
      "GAAAGGAACTCTGCTTCAGCATGCCAAGGCATTTGGGAAGATTTCATGCCTGGCTCTTAT\r\n"
     ]
    }
   ],
   "source": [
    "!head output_directory/Sequences"
   ]
  },
  {
   "cell_type": "code",
   "execution_count": null,
   "metadata": {},
   "outputs": [],
   "source": []
  },
  {
   "cell_type": "markdown",
   "metadata": {},
   "source": [
    "## Una vez concluido el ensamblaje se procede a la anotación de los contigs"
   ]
  },
  {
   "cell_type": "code",
   "execution_count": null,
   "metadata": {},
   "outputs": [],
   "source": []
  },
  {
   "cell_type": "code",
   "execution_count": null,
   "metadata": {},
   "outputs": [],
   "source": []
  }
 ],
 "metadata": {
  "kernelspec": {
   "display_name": "Python 3",
   "language": "python",
   "name": "python3"
  },
  "language_info": {
   "codemirror_mode": {
    "name": "ipython",
    "version": 3
   },
   "file_extension": ".py",
   "mimetype": "text/x-python",
   "name": "python",
   "nbconvert_exporter": "python",
   "pygments_lexer": "ipython3",
   "version": "3.7.1"
  }
 },
 "nbformat": 4,
 "nbformat_minor": 2
}
