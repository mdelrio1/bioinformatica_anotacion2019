{
 "cells": [
  {
   "cell_type": "markdown",
   "metadata": {},
   "source": [
    "# Bitacora para el manejo de secuencias provenientes de un [microbioma de la piel de larvas de bacalao negro secuenciado con Illumina MiSeq.](https://www.ncbi.nlm.nih.gov/sra/?term=SRX6435585)\n",
    "referencia:\n",
    "[Pierce et al.](https://www.frontiersin.org/articles/10.3389/fmars.2019.00203/full)"
   ]
  },
  {
   "cell_type": "markdown",
   "metadata": {},
   "source": [
    "### Revise la página del [NCBI](https://www.ncbi.nlm.nih.gov/sra/?term=SRX6435585) y describa la muestra en la siguiente celda utilizando markdown"
   ]
  },
  {
   "cell_type": "code",
   "execution_count": null,
   "metadata": {},
   "outputs": [],
   "source": []
  },
  {
   "cell_type": "markdown",
   "metadata": {},
   "source": [
    "## Se analizarán con *Blastn* y la base de datos de 16SMicrobial"
   ]
  },
  {
   "cell_type": "code",
   "execution_count": null,
   "metadata": {},
   "outputs": [],
   "source": [
    "import os\n",
    "from pandas import Series, DataFrame\n",
    "import pandas as pd\n",
    "from Bio import SeqIO, AlignIO, SeqRecord\n",
    "from Bio.SeqRecord import SeqRecord\n",
    "from Bio.Seq import Seq\n",
    "import matplotlib.pyplot as plt "
   ]
  },
  {
   "cell_type": "code",
   "execution_count": null,
   "metadata": {},
   "outputs": [],
   "source": [
    "cd ~/Desktop/data/fasta/"
   ]
  },
  {
   "cell_type": "code",
   "execution_count": null,
   "metadata": {},
   "outputs": [],
   "source": [
    "ls"
   ]
  },
  {
   "cell_type": "code",
   "execution_count": null,
   "metadata": {},
   "outputs": [],
   "source": [
    "!head Pierce287.3.14L13.S.S43046070.fasta"
   ]
  },
  {
   "cell_type": "markdown",
   "metadata": {},
   "source": [
    "### Crear el directorio \"img\""
   ]
  },
  {
   "cell_type": "code",
   "execution_count": null,
   "metadata": {},
   "outputs": [],
   "source": [
    "os.makedirs('img',exist_ok=True)"
   ]
  },
  {
   "cell_type": "code",
   "execution_count": null,
   "metadata": {},
   "outputs": [],
   "source": [
    "!grep \">\" Pierce287.3.14L13.S.S43046070.fasta |wc -l"
   ]
  },
  {
   "cell_type": "markdown",
   "metadata": {},
   "source": [
    "# Se analizarán con blastn los contigs obtenidos a la base de datos *16SMicrobial*"
   ]
  },
  {
   "cell_type": "markdown",
   "metadata": {},
   "source": [
    "Verifique la localización de la base de datos, en este caso se encuentra en `/home/database/16SMicrobial` o corrija si es necesario"
   ]
  },
  {
   "cell_type": "code",
   "execution_count": null,
   "metadata": {},
   "outputs": [],
   "source": [
    "%%bash\n",
    "#export BLASTDB=~/DATA/nt/\n",
    "export BLASTDB=/home/database/16SMicrobial\n",
    "date  \n",
    "time blastn -query Pierce287.3.14L13.S.S43046070.fasta \\\n",
    "-db /home/database/16SMicrobial/16SMicrobial \\\n",
    "-out pierce16s.tsv \\\n",
    "-evalue 1E-6 \\\n",
    "-max_target_seqs 1 \\\n",
    "-num_threads 18 \\\n",
    "-outfmt \"6 std sskingdoms stitle staxids sscinames scomnames sblastnames sstrand\" \n",
    "date"
   ]
  },
  {
   "cell_type": "code",
   "execution_count": null,
   "metadata": {},
   "outputs": [],
   "source": [
    "%%bash\n",
    "#export BLASTDB=~/DATA/nt/\n",
    "export BLASTDB=~/Desktop/bigdata/16SMicrobial/\n",
    "date  \n",
    "time blastn -query Pierce287.3.14L13.S.S43046070.fasta \\\n",
    "-db ~/Desktop/bigdata/16SMicrobial/16SMicrobial \\\n",
    "-out pierce16s.tsv \\\n",
    "-evalue 1E-6 \\\n",
    "-max_target_seqs 1 \\\n",
    "-num_threads 18 \\\n",
    "-outfmt \"6 std sskingdoms stitle staxids sscinames scomnames sblastnames sstrand\" \n",
    "date"
   ]
  },
  {
   "cell_type": "code",
   "execution_count": null,
   "metadata": {},
   "outputs": [],
   "source": []
  },
  {
   "cell_type": "code",
   "execution_count": null,
   "metadata": {},
   "outputs": [],
   "source": [
    "ls"
   ]
  },
  {
   "cell_type": "code",
   "execution_count": null,
   "metadata": {},
   "outputs": [],
   "source": [
    "!head -2 pierce16s.tsv"
   ]
  },
  {
   "cell_type": "code",
   "execution_count": null,
   "metadata": {},
   "outputs": [],
   "source": [
    "encabezado =(\"qseqid\", \"sseqid\", \"pident\", \"length\", \"mismatch\", \"gapopen\",\"qstart\", \n",
    "             \"qend\", \"sstart\",\"send\", \"evalue\", \"bitscore\", \"sskingdoms\", \"stitle\", \n",
    "             \"staxids\", \"sscinames\", \"scomnames\", \"sblastnames\",\"sstrand\")"
   ]
  },
  {
   "cell_type": "code",
   "execution_count": null,
   "metadata": {
    "scrolled": false
   },
   "outputs": [],
   "source": [
    "ftab=pd.read_csv(\"pierce16s.tsv\", header=None, sep = \"\\t\" , names= encabezado)\n",
    "ftab.head()"
   ]
  },
  {
   "cell_type": "code",
   "execution_count": null,
   "metadata": {
    "scrolled": false
   },
   "outputs": [],
   "source": [
    "len(ftab)"
   ]
  },
  {
   "cell_type": "code",
   "execution_count": null,
   "metadata": {
    "scrolled": false
   },
   "outputs": [],
   "source": [
    "ftab1= ftab.groupby(\"sskingdoms\")[\"qseqid\"].count()\n",
    "ftab1 = DataFrame(ftab1)\n",
    "ftab1"
   ]
  },
  {
   "cell_type": "markdown",
   "metadata": {},
   "source": [
    "# Cuántos contigs no son bacterianos?"
   ]
  },
  {
   "cell_type": "code",
   "execution_count": null,
   "metadata": {},
   "outputs": [],
   "source": []
  },
  {
   "cell_type": "markdown",
   "metadata": {},
   "source": [
    "## Guadardo la base de datos en formato csv"
   ]
  },
  {
   "cell_type": "code",
   "execution_count": null,
   "metadata": {},
   "outputs": [],
   "source": [
    "ftab.to_csv(\"pierce_blastn16s.csv\", header=True, index= None)"
   ]
  },
  {
   "cell_type": "markdown",
   "metadata": {},
   "source": [
    "### en caso de haber el hecho el análisis previo y querer recuperar el archivo anterior "
   ]
  },
  {
   "cell_type": "code",
   "execution_count": null,
   "metadata": {},
   "outputs": [],
   "source": [
    "ftab= pd.read_csv(\"pierce_blastn16s.csv\")\n",
    "ftab.head(2)"
   ]
  },
  {
   "cell_type": "code",
   "execution_count": null,
   "metadata": {},
   "outputs": [],
   "source": []
  },
  {
   "cell_type": "code",
   "execution_count": null,
   "metadata": {},
   "outputs": [],
   "source": []
  },
  {
   "cell_type": "markdown",
   "metadata": {},
   "source": [
    "# Hay algún contig con más de una asignación (duplicados)?"
   ]
  },
  {
   "cell_type": "code",
   "execution_count": null,
   "metadata": {
    "scrolled": true
   },
   "outputs": [],
   "source": [
    "ftab1= ftab.groupby(\"qseqid\")[\"qseqid\"].count()\n",
    "ftab1 = DataFrame(ftab1)\n",
    "ftab1"
   ]
  },
  {
   "cell_type": "code",
   "execution_count": null,
   "metadata": {},
   "outputs": [],
   "source": []
  },
  {
   "cell_type": "markdown",
   "metadata": {},
   "source": [
    "# Es necesario eliminar duplicados?"
   ]
  },
  {
   "cell_type": "code",
   "execution_count": null,
   "metadata": {
    "scrolled": true
   },
   "outputs": [],
   "source": [
    "ftab1 =ftab.drop_duplicates(subset = 'qseqid', keep='first', inplace = False)\n",
    "ftab1"
   ]
  },
  {
   "cell_type": "code",
   "execution_count": null,
   "metadata": {},
   "outputs": [],
   "source": []
  },
  {
   "cell_type": "code",
   "execution_count": null,
   "metadata": {},
   "outputs": [],
   "source": []
  },
  {
   "cell_type": "markdown",
   "metadata": {},
   "source": [
    "# Cuántos grupos hay a parte del que pertenece la especie analizada?"
   ]
  },
  {
   "cell_type": "code",
   "execution_count": null,
   "metadata": {
    "scrolled": false
   },
   "outputs": [],
   "source": [
    "ftab2= ftab1.groupby(\"sblastnames\")[\"qseqid\"].count()\n",
    "ftab2 = DataFrame(ftab2)\n",
    "ftab2"
   ]
  },
  {
   "cell_type": "code",
   "execution_count": null,
   "metadata": {
    "scrolled": false
   },
   "outputs": [],
   "source": [
    "ftab2= ftab1.groupby(\"sscinames\")[\"qseqid\"].count()\n",
    "ftab2.sort_values(axis = 0, ascending=False, inplace=True)\n",
    "ftab2"
   ]
  },
  {
   "cell_type": "markdown",
   "metadata": {},
   "source": [
    "# Procedimiento para simplificar tabla y graficar las 10 primeras categorías y el resto ponerlas en \"otras\""
   ]
  },
  {
   "cell_type": "code",
   "execution_count": null,
   "metadata": {},
   "outputs": [],
   "source": [
    "linea10=ftab2[:10]\n",
    "linea11=ftab2[10:]\n",
    "#linea10\n",
    "otro=sum (linea11)\n",
    "#otro\n",
    "otros = pd.DataFrame({0:otro}, index=[\"Other\"])\n",
    "otros\n",
    "linea10=linea10.append(otros)\n",
    "linea10"
   ]
  },
  {
   "cell_type": "code",
   "execution_count": null,
   "metadata": {},
   "outputs": [],
   "source": [
    "linea10.plot(kind='barh', figsize= (8,6))\n",
    "plt.axis([-1, int(max(linea10[0])*1.05), -1, 10.8], label=None)\n",
    "plt.legend().set_visible(False)\n",
    "plt.xlabel(\"Frecuencia\")\n",
    "plt.ylabel(\"Especies\")\n",
    "plt.title(\"Especies con resultado de blastn\")\n",
    "plt.show()"
   ]
  },
  {
   "cell_type": "code",
   "execution_count": null,
   "metadata": {},
   "outputs": [],
   "source": []
  },
  {
   "cell_type": "code",
   "execution_count": null,
   "metadata": {},
   "outputs": [],
   "source": []
  },
  {
   "cell_type": "code",
   "execution_count": null,
   "metadata": {},
   "outputs": [],
   "source": []
  },
  {
   "cell_type": "code",
   "execution_count": null,
   "metadata": {},
   "outputs": [],
   "source": []
  },
  {
   "cell_type": "code",
   "execution_count": null,
   "metadata": {},
   "outputs": [],
   "source": []
  }
 ],
 "metadata": {
  "kernelspec": {
   "display_name": "Python 3",
   "language": "python",
   "name": "python3"
  },
  "language_info": {
   "codemirror_mode": {
    "name": "ipython",
    "version": 3
   },
   "file_extension": ".py",
   "mimetype": "text/x-python",
   "name": "python",
   "nbconvert_exporter": "python",
   "pygments_lexer": "ipython3",
   "version": "3.7.1"
  }
 },
 "nbformat": 4,
 "nbformat_minor": 2
}
