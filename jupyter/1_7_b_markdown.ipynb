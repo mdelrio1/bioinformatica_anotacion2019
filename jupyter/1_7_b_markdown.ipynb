{
 "cells": [
  {
   "cell_type": "markdown",
   "metadata": {},
   "source": [
    "# [Markdown](https://github.com/adam-p/markdown-here/wiki/Markdown-Cheatsheet) \n",
    "Es un lenguaje marcado de escritura breve para la publicación de texto en html. Se puede utilizar para la publicación de manera consistente en [internet](https://markdown.es).\n",
    "Existen diferentes versiones de *Markdown* por lo que no hay un estándar. A pesar de esto se darán unos comandos básicos para su uso.\n",
    "### A continuación se dan unos comandos, aunque se recomienda consultar la página del [github](https://github.com/adam-p/markdown-here/wiki/Markdown-Cheatsheet) para más información  "
   ]
  },
  {
   "cell_type": "markdown",
   "metadata": {},
   "source": [
    "# Encabezados"
   ]
  },
  {
   "cell_type": "markdown",
   "metadata": {},
   "source": [
    "```\n",
    "# E1  \n",
    "## E2  \n",
    "### E3  \n",
    "#### E4  \n",
    "##### E5  \n",
    "###### E6 \n",
    "```"
   ]
  },
  {
   "cell_type": "markdown",
   "metadata": {},
   "source": [
    "# E1\n",
    "## E2\n",
    "### E3\n",
    "#### E4\n",
    "##### E5\n",
    "###### E6"
   ]
  },
  {
   "cell_type": "markdown",
   "metadata": {},
   "source": [
    "### _Ejercicio:_ Escriba el Título de este taller (\"Secuenciación masiva y anotación de genes\") con encabezado1 y en la siguiente línea con encabezado3 la palabra \"contenido\""
   ]
  },
  {
   "cell_type": "code",
   "execution_count": null,
   "metadata": {},
   "outputs": [],
   "source": []
  },
  {
   "cell_type": "markdown",
   "metadata": {},
   "source": [
    "# Enfasis"
   ]
  },
  {
   "cell_type": "markdown",
   "metadata": {},
   "source": [
    "```\n",
    "Enfasis, también conocido como cursiva o italica se hace on *asteriscos* o _guión bajo_.\n",
    "\n",
    "Enfasis fuerte o negritas, con **asteriscos** o __guiones bajos__.\n",
    "\n",
    "Enfasis combinado con **asteriscos and _guión bajo_**.\n",
    "\n",
    "Texo tachado usa dos virgulillas. ~~texo tachado.~~\n",
    "```"
   ]
  },
  {
   "cell_type": "markdown",
   "metadata": {},
   "source": [
    "Enfasis, también conocido como cursiva o italica se hace on *asteriscos* o _guión bajo_.\n",
    "\n",
    "Enfasis fuerte o negritas, con **asteriscos** or __guiones bajos__.\n",
    "\n",
    "Enfasis combinado con **asteriscos and _guión bajo_**.\n",
    "\n",
    "Texo tachado usa dos virgulillas. ~~texo tachado.~~"
   ]
  },
  {
   "cell_type": "markdown",
   "metadata": {},
   "source": [
    "### _Ejercicio:_ Modifique el siguiente texto para que aparezcan los nombres científicos en itálicas y \"abulón\" resaltado (pruebe negritas y subrayado). Tache el texto \"me equivoqué\""
   ]
  },
  {
   "cell_type": "markdown",
   "metadata": {},
   "source": [
    "El abulón es un conjunto de especies pertenecientes al género Haliotis en donde se pueden encontrar: abulón azul, Haliotis fulgens, abulón rojo, Haliotis rufescens y abulón amarillo, Haliotis corrutata.\n",
    "me equivoqué"
   ]
  },
  {
   "cell_type": "markdown",
   "metadata": {},
   "source": [
    "# Listas"
   ]
  },
  {
   "cell_type": "markdown",
   "metadata": {},
   "source": [
    "```\n",
    "1. Primer ítem en la lista\n",
    "2. Segundo ítem\n",
    "  * Sublista no ordenada. \n",
    "1. No importa el número, se continua la lista\n",
    "  1. Sublista ordenada\n",
    "4. Otro ítem.\n",
    "\n",
    "   Se pueden identar los párrafors dentro de las listas. Note la línea en blanco antes de este texto y los espacios al inicio (por lo menos uno, pero se usan tres en este caso) del párrafo.\n",
    "\n",
    "   Para tener un punto y aparte, es necesario utilizar al menos dos espacios al final.  \n",
    "   Observe que esta línea está separada, pero dentro del mismo párrafo.  \n",
    "   Por el contrario, si no se usan espacios al final, no se observa la lína de separación\n",
    "\n",
    "\n",
    "* Para una lista no ordenada, use asteriscos \n",
    "- menos\n",
    "+ o mas\n",
    "```"
   ]
  },
  {
   "cell_type": "markdown",
   "metadata": {},
   "source": [
    "1. Primer ítem en la lista\n",
    "2. Segundo ítem\n",
    "  * Sublista no ordenada. \n",
    "1. No importa el número, se continua la lista\n",
    "  1. Sublista ordenada\n",
    "4. Otro ítem.\n",
    "\n",
    "   Se pueden identar los párrafors dentro de las listas. Note la línea en blanco antes de este texto y los espacios al inicio (por lo menos uno, pero se usan tres en este caso) del párrafo.\n",
    "\n",
    "   Para tener un punto y aparte, es necesario utilizar al menos dos espacios al final.  \n",
    "   Observe que esta línea está separada, pero dentro del mismo párrafo.  \n",
    "   Por el contrario, si no se usan espacios al final, no se observa la lína de separación\n",
    "\n",
    "\n",
    "* Para una lista no ordenada, use asteriscos \n",
    "- menos\n",
    "+ o mas"
   ]
  },
  {
   "cell_type": "markdown",
   "metadata": {},
   "source": [
    "### _Ejercicio:_ Escriba la lista de abulones del ejercicio anterior de los abulones"
   ]
  },
  {
   "cell_type": "code",
   "execution_count": null,
   "metadata": {},
   "outputs": [],
   "source": []
  },
  {
   "cell_type": "markdown",
   "metadata": {},
   "source": [
    "# Enlaces a páginas de internet"
   ]
  },
  {
   "cell_type": "markdown",
   "metadata": {},
   "source": [
    "```\n",
    "Se puede poner un [enlace en línea](https://www.ncbi.nlm.nih.gov)\n",
    "\n",
    "o dejar el enlace como tal cual https://www.ncbi.nlm.nih.gov\n",
    "```"
   ]
  },
  {
   "cell_type": "markdown",
   "metadata": {},
   "source": [
    "Se puede poner un [enlace en línea](https://www.ncbi.nlm.nih.gov)\n",
    "\n",
    "o dejar el enlace como tal cual https://www.ncbi.nlm.nih.gov\n"
   ]
  },
  {
   "cell_type": "markdown",
   "metadata": {},
   "source": [
    "### _Ejercicio:_ Haga la búsqueda de una especie de interés, haga una pequeña descripción e inserte la página de donde sacó la información."
   ]
  },
  {
   "cell_type": "code",
   "execution_count": null,
   "metadata": {},
   "outputs": [],
   "source": []
  },
  {
   "cell_type": "markdown",
   "metadata": {},
   "source": [
    "# Imágenes"
   ]
  },
  {
   "cell_type": "markdown",
   "metadata": {},
   "source": [
    "```\n",
    "En línea con el texto <img src=\"https://www.cicese.edu.mx/assets/img/cicese45.png\" width = 10%>\n",
    "\n",
    "Centrado \n",
    "<p align=\"center\"><img src=\"https://www.cicese.edu.mx/assets/img/cicese45.png\" width = 10%></p>\n",
    "```"
   ]
  },
  {
   "cell_type": "markdown",
   "metadata": {},
   "source": [
    "En línea con el texto <img src=\"http://www.uam.mx/encabezado_75.png\">\n",
    "\n",
    "Centrado y reducción al 50 %: \n",
    "<p align=\"center\"><img src=\"http://www.uam.mx/encabezado_75.png\" width = 50%></p>"
   ]
  },
  {
   "cell_type": "markdown",
   "metadata": {},
   "source": [
    "### _Ejercicio:_ Haga una búsqueda de una imagen de la especie de interés del ejercicio anterior e insértela en la siguiente celda"
   ]
  },
  {
   "cell_type": "code",
   "execution_count": null,
   "metadata": {},
   "outputs": [],
   "source": []
  },
  {
   "cell_type": "markdown",
   "metadata": {},
   "source": [
    "# Código en el texto"
   ]
  },
  {
   "cell_type": "raw",
   "metadata": {},
   "source": [
    "Markdown se usa para usar bloques de código. Estos se utiliza la tilde grave para señalar un `bloque de código`"
   ]
  },
  {
   "cell_type": "markdown",
   "metadata": {},
   "source": [
    "Markdown se usa para usar bloques de código. Estos se utiliza la tilde grave para señalar un `bloque de código`\n"
   ]
  },
  {
   "cell_type": "markdown",
   "metadata": {},
   "source": [
    "### _Ejercicio:_ modifique la siguiente línea para indicar que ls, pwd y cd son comandos de código"
   ]
  },
  {
   "cell_type": "code",
   "execution_count": null,
   "metadata": {},
   "outputs": [],
   "source": [
    "ls se utiliza para obtener el listado de los archivos de directorio indicado\n",
    "pwd indica el directorio de trabajo actual\n",
    "cd se usa para cambiar el directorio actual "
   ]
  },
  {
   "cell_type": "markdown",
   "metadata": {},
   "source": [
    "# Tablas"
   ]
  },
  {
   "cell_type": "markdown",
   "metadata": {},
   "source": [
    "```\n",
    "|operación | linux/unix/iOS|Windows|\n",
    "|:----------:|:---------------|-------:|\n",
    "|lista de archivos|`ls` |`dir`|\n",
    "|cambio de directorio| `cd` nombre_del_diectorio| `cd` nombre_del_diectorio|\n",
    "|cd directorio por omisión (home)| `cd` |`cd` *|\n",
    "|crear un nuevo directorio| `mkdir` nombre del directorio| `md` nombre_del_directorio|\n",
    "|borrar un directorio | `rmdir` nombre_del_directorio (debe estar vacío)| `del` nombre_del_directorio|\n",
    "|copiar archivos|`cp` nombre_del_archivo lugar_a_donde_se_va_a_copiar|`copy` nombre_del_archivo lugar_a_donde_se_va_a_copiar|\n",
    "```"
   ]
  },
  {
   "cell_type": "markdown",
   "metadata": {},
   "source": [
    "|operación | linux/unix/iOS|Windows|\n",
    "|:----------:|:---------------|-------:|\n",
    "|lista de archivos|`ls` |`dir`|\n",
    "|cambio de directorio| `cd` nombre_del_diectorio| `cd` nombre_del_diectorio|\n",
    "|cd directorio por omisión (home)| `cd` |`cd` *|\n",
    "|crear un nuevo directorio| `mkdir` nombre del directorio| `md` nombre_del_directorio|\n",
    "|borrar un directorio | `rmdir` nombre_del_directorio (debe estar vacío)| `del` nombre_del_directorio|\n",
    "|copiar archivos|`cp` nombre_del_archivo lugar_a_donde_se_va_a_copiar|`copy` nombre_del_archivo lugar_a_donde_se_va_a_copiar|\n",
    "\n",
    "\n"
   ]
  },
  {
   "cell_type": "markdown",
   "metadata": {},
   "source": [
    "### _Ejercicio:_  Haga una tabla con tres columnas y almenos tres renglones (puede ser el listado de especies)"
   ]
  },
  {
   "cell_type": "code",
   "execution_count": null,
   "metadata": {},
   "outputs": [],
   "source": []
  },
  {
   "cell_type": "markdown",
   "metadata": {},
   "source": [
    "# Líneas horizontales"
   ]
  },
  {
   "cell_type": "markdown",
   "metadata": {},
   "source": [
    "```\n",
    "Se pueden utilizar\n",
    "tres o mas\n",
    "\n",
    "guiones\n",
    "\n",
    "---\n",
    "\n",
    "asteriscos\n",
    "\n",
    "***\n",
    "\n",
    "guión bajo\n",
    "___\n",
    "```"
   ]
  },
  {
   "cell_type": "markdown",
   "metadata": {},
   "source": [
    "Se pueden utilizar\n",
    "tres o mas\n",
    "\n",
    "guiones\n",
    "\n",
    "---\n",
    "\n",
    "asteriscos\n",
    "\n",
    "***\n",
    "\n",
    "guión bajo\n",
    "___\n"
   ]
  },
  {
   "cell_type": "markdown",
   "metadata": {},
   "source": [
    "### Más información en la página del [markdown](https://github.com/adam-p/markdown-here/wiki/Markdown-Cheatsheet)"
   ]
  },
  {
   "cell_type": "code",
   "execution_count": null,
   "metadata": {},
   "outputs": [],
   "source": []
  }
 ],
 "metadata": {
  "kernelspec": {
   "display_name": "Python 3",
   "language": "python",
   "name": "python3"
  },
  "language_info": {
   "codemirror_mode": {
    "name": "ipython",
    "version": 3
   },
   "file_extension": ".py",
   "mimetype": "text/x-python",
   "name": "python",
   "nbconvert_exporter": "python",
   "pygments_lexer": "ipython3",
   "version": "3.7.1"
  }
 },
 "nbformat": 4,
 "nbformat_minor": 2
}
